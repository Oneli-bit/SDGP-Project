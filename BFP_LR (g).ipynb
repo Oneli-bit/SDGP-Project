{
 "cells": [
  {
   "cell_type": "code",
   "execution_count": 3,
   "id": "347d4ae8-ecfc-4640-b445-20b5ce745a6d",
   "metadata": {},
   "outputs": [
    {
     "name": "stdout",
     "output_type": "stream",
     "text": [
      "[4.12360341]\n",
      "LR MSE (Train):  17.310733316728555\n",
      "LR R2 (Train):  0.7576527909041219\n",
      "LR MSE (Test):  18.62203878822615\n",
      "LR R2 (Test):  0.6940636860408773\n"
     ]
    },
    {
     "name": "stderr",
     "output_type": "stream",
     "text": [
      "/opt/conda/envs/anaconda-2022.05-py39/lib/python3.9/site-packages/sklearn/base.py:450: UserWarning: X does not have valid feature names, but LinearRegression was fitted with feature names\n",
      "  warnings.warn(\n"
     ]
    }
   ],
   "source": [
    "import pandas as pd\n",
    "import pickle\n",
    "from sklearn.tree import DecisionTreeClassifier\n",
    "from sklearn.linear_model import LinearRegression\n",
    "from sklearn.model_selection import train_test_split #this function returns a tuple\n",
    "from sklearn.metrics import mean_squared_error, r2_score #evaluate the model\n",
    "\n",
    "#loading the dataset\n",
    "df=pd.read_csv('bodyfat.csv')\n",
    "\n",
    "#splitting to input n output\n",
    "X = df.drop(['BodyFat','Density'],axis=1)\n",
    "y=df['BodyFat']\n",
    "\n",
    "#splitting data\n",
    "X_train, X_test, y_train, y_test=train_test_split(X, y, test_size=0.2)\n",
    "\n",
    "#training the model\n",
    "model = LinearRegression()\n",
    "model.fit(X_train, y_train)\n",
    "\n",
    "# save the model to disk\n",
    "filename = 'BFP_LR.pkl'\n",
    "pickle.dump(model, open(filename, 'wb'))\n",
    "\n",
    "#load the model from disk\n",
    "filename = 'BFP_LR.pkl'\n",
    "loaded_model = pickle.load(open(filename, 'rb'))\n",
    "\n",
    "# make predictions using the loaded model\n",
    "predictions = loaded_model.predict([[23,254.25,67.75,36.2,93.1,85.2,94.5,59.0,37.3,21.9,32.0,27.4,17.1]])\n",
    "print(predictions)\n",
    "\n",
    "y_lr_train_pred = loaded_model.predict(X_train)\n",
    "y_lr_test_pred = loaded_model.predict(X_test)\n",
    "\n",
    "#Evaluate model performance\n",
    "lr_train_mse = mean_squared_error(y_train, y_lr_train_pred)\n",
    "lr_train_r2 = r2_score(y_train, y_lr_train_pred)\n",
    "\n",
    "lr_test_mse = mean_squared_error(y_test, y_lr_test_pred)\n",
    "lr_test_r2 = r2_score(y_test, y_lr_test_pred)\n",
    "\n",
    "\n",
    "\n",
    "print('LR MSE (Train): ', lr_train_mse)\n",
    "print('LR R2 (Train): ', lr_train_r2)\n",
    "print('LR MSE (Test): ', lr_test_mse)\n",
    "print('LR R2 (Test): ', lr_test_r2)"
   ]
  },
  {
   "cell_type": "code",
   "execution_count": null,
   "id": "1da58bd6-b66a-43f9-a6aa-d04ed3f276e5",
   "metadata": {},
   "outputs": [],
   "source": []
  }
 ],
 "metadata": {
  "kernelspec": {
   "display_name": "anaconda-2022.05-py39",
   "language": "python",
   "name": "conda-env-anaconda-2022.05-py39-py"
  },
  "language_info": {
   "codemirror_mode": {
    "name": "ipython",
    "version": 3
   },
   "file_extension": ".py",
   "mimetype": "text/x-python",
   "name": "python",
   "nbconvert_exporter": "python",
   "pygments_lexer": "ipython3",
   "version": "3.9.12"
  }
 },
 "nbformat": 4,
 "nbformat_minor": 5
}
