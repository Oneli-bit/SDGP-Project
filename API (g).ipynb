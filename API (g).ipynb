{
 "cells": [
  {
   "cell_type": "code",
   "execution_count": null,
   "id": "05a92588-2d17-4682-9354-e1c1b23c23c8",
   "metadata": {},
   "outputs": [
    {
     "name": "stdout",
     "output_type": "stream",
     "text": [
      " * Serving Flask app \"__main__\" (lazy loading)\n",
      " * Environment: production\n",
      "\u001b[31m   WARNING: This is a development server. Do not use it in a production deployment.\u001b[0m\n",
      "\u001b[2m   Use a production WSGI server instead.\u001b[0m\n",
      " * Debug mode: off\n"
     ]
    }
   ],
   "source": [
    "from flask import Flask,request,jsonify\n",
    "import numpy as np\n",
    "import pickle\n",
    "\n",
    "model = pickle.load(open('BFP_LR.pkl','rb'))\n",
    "app = Flask(__name__)\n",
    "@app.route('/')\n",
    "def index():\n",
    "    return \"Hello world\"\n",
    "@app.route('/predict',methods=['POST'])\n",
    "def predict():\n",
    "    \n",
    "    Age = request.form.get('Age')\n",
    "    Weight = request.form.get('Weight')\n",
    "    Height = request.form.get('Height')\n",
    "    Neck = request.form.get('Neck')\n",
    "    Chest = request.form.get('Chest')\n",
    "    Abdomen = request.form.get('Abdomen')\n",
    "    Hip = request.form.get('Hip')\n",
    "    Thigh = request.form.get('Thigh')\n",
    "    Knee = request.form.get('Knee')\n",
    "    Ankle = request.form.get('Ankle')\n",
    "    Biceps = request.form.get('Biceps')\n",
    "    Forearm = request.form.get('Forearm')\n",
    "    Wrist = request.form.get('Wrist')\n",
    "    \n",
    "    input_query = np.array([[Age, Weight, Height, Neck, Chest, Abdomen, Hip, Thigh, Knee, Ankle, Biceps, Forearm, Wrist]])\n",
    "    result = model.predict(input_query)[0]\n",
    "    return jsonify({'placement':str(result)})\n",
    "if __name__ == '__main__':\n",
    "    app.run()\n"
   ]
  },
  {
   "cell_type": "code",
   "execution_count": null,
   "id": "c35260c9-934f-42be-a67e-b13d0efb598a",
   "metadata": {},
   "outputs": [],
   "source": []
  }
 ],
 "metadata": {
  "kernelspec": {
   "display_name": "anaconda-2022.05-py39",
   "language": "python",
   "name": "conda-env-anaconda-2022.05-py39-py"
  },
  "language_info": {
   "codemirror_mode": {
    "name": "ipython",
    "version": 3
   },
   "file_extension": ".py",
   "mimetype": "text/x-python",
   "name": "python",
   "nbconvert_exporter": "python",
   "pygments_lexer": "ipython3",
   "version": "3.9.12"
  }
 },
 "nbformat": 4,
 "nbformat_minor": 5
}
