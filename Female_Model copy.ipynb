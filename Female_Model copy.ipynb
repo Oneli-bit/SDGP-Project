{
  "cells": [
    {
      "cell_type": "markdown",
      "metadata": {
        "id": "EIdT9iu_Z4Rb"
      },
      "source": [
        "# Predict Body Fat Percentage - Male"
      ]
    },
    {
      "cell_type": "code",
      "execution_count": null,
      "metadata": {
        "execution": {
          "iopub.execute_input": "2022-12-27T02:21:47.153620Z",
          "iopub.status.busy": "2022-12-27T02:21:47.153190Z",
          "iopub.status.idle": "2022-12-27T02:21:48.784452Z",
          "shell.execute_reply": "2022-12-27T02:21:48.783374Z"
        },
        "id": "moB4tpEHxKB3"
      },
      "outputs": [],
      "source": [
        "# Use seaborn for pairplot.\n",
        "!pip install -q seaborn"
      ]
    },
    {
      "cell_type": "code",
      "execution_count": null,
      "metadata": {
        "execution": {
          "iopub.execute_input": "2022-12-27T02:21:48.789114Z",
          "iopub.status.busy": "2022-12-27T02:21:48.788463Z",
          "iopub.status.idle": "2022-12-27T02:21:49.953631Z",
          "shell.execute_reply": "2022-12-27T02:21:49.952896Z"
        },
        "id": "1rRo8oNqZ-Rj"
      },
      "outputs": [],
      "source": [
        "import matplotlib.pyplot as plt\n",
        "import numpy as np\n",
        "import pandas as pd\n",
        "import seaborn as sns\n",
        "\n",
        "# Make NumPy printouts easier to read.\n",
        "np.set_printoptions(precision=3, suppress=True)"
      ]
    },
    {
      "cell_type": "code",
      "execution_count": null,
      "metadata": {
        "execution": {
          "iopub.execute_input": "2022-12-27T02:21:49.957849Z",
          "iopub.status.busy": "2022-12-27T02:21:49.957261Z",
          "iopub.status.idle": "2022-12-27T02:21:51.455642Z",
          "shell.execute_reply": "2022-12-27T02:21:51.454983Z"
        },
        "id": "9xQKvCJ85kCQ"
      },
      "outputs": [],
      "source": [
        "import tensorflow as tf\n",
        "\n",
        "from tensorflow import keras\n",
        "from tensorflow.keras import layers"
      ]
    },
    {
      "cell_type": "markdown",
      "metadata": {
        "id": "gFh9ne3FZ-On"
      },
      "source": [
        "### Get the data\n",
        "First download and import the dataset using pandas. Then identify the input and output parameters."
      ]
    },
    {
      "cell_type": "code",
      "execution_count": 136,
      "metadata": {
        "execution": {
          "iopub.execute_input": "2022-12-27T02:21:51.459965Z",
          "iopub.status.busy": "2022-12-27T02:21:51.459053Z",
          "iopub.status.idle": "2022-12-27T02:21:51.857083Z",
          "shell.execute_reply": "2022-12-27T02:21:51.856436Z"
        },
        "id": "CiX2FI4gZtTt",
        "colab": {
          "base_uri": "https://localhost:8080/",
          "height": 488
        },
        "outputId": "8b2b17a9-058c-44a6-c33f-01b6b43d7434"
      },
      "outputs": [
        {
          "output_type": "execute_result",
          "data": {
            "text/plain": [
              "     Obs    Fat   Weight   Height     BMI   Age   Neck   Chest   Calf  \\\n",
              "0      1  23.07  49.4424  1.61290  19.006    22   28.8    76.1   32.4   \n",
              "1      2  29.50  60.7824  1.57480  24.509    22   31.2    87.3   33.2   \n",
              "2      3  26.99  63.0504  1.61798  24.085    21   30.8    83.7   32.5   \n",
              "3      4  20.25  53.0712  1.68148  18.771    20   30.0    78.0   34.2   \n",
              "4      5  19.95  59.4216  1.73228  19.802    20   32.5    84.2   35.2   \n",
              "..   ...    ...      ...      ...     ...   ...    ...     ...    ...   \n",
              "179  180  30.40  59.8752  1.56210  24.537    23   31.3    89.0   36.0   \n",
              "180  181   7.47  48.5352  1.57480  19.571    21   29.5    79.0   34.0   \n",
              "181  182  11.98  51.7104  1.57480  20.851    20   31.5    81.5   32.5   \n",
              "182  183  11.24  50.8032  1.65100  18.638    22   30.5    85.0   32.0   \n",
              "183  184  17.49  47.6280  1.60020  18.600    24   26.0    79.3   32.6   \n",
              "\n",
              "      Biceps   Hips   Waist   Forearm   PThigh   MThigh   DThigh   Wrist  \\\n",
              "0       25.0   90.2    62.8      21.0     52.5     49.2     37.0    15.0   \n",
              "1       26.8   94.0    68.0      23.2     58.5     50.0     39.0    15.8   \n",
              "2       27.8   94.0    71.0      21.8     55.5     51.0     38.0    14.4   \n",
              "3       23.8   90.5    63.5      21.5     52.5     48.0     37.0    14.5   \n",
              "4       24.2   93.2    65.0      21.0     55.5     50.0     39.5    14.8   \n",
              "..       ...    ...     ...       ...      ...      ...      ...     ...   \n",
              "179     28.0   98.5    71.0      24.5     62.5     56.0     42.0    16.3   \n",
              "180     25.0   89.0    62.5      22.0     52.5     49.0     37.0    15.5   \n",
              "181     27.5   90.0    61.5      22.5     53.0     49.5     36.0    15.0   \n",
              "182     24.0   88.0    64.0      21.5     51.0     45.0     33.0    15.0   \n",
              "183     24.0   86.6    63.0      21.5     53.0     46.0     35.0    14.0   \n",
              "\n",
              "      Knee   Elbow   Ankle  \n",
              "0     33.0    22.0    19.7  \n",
              "1     34.6    23.0    22.0  \n",
              "2     35.0    24.3    20.1  \n",
              "3     35.0    22.6    20.0  \n",
              "4     33.0    24.4    21.0  \n",
              "..     ...     ...     ...  \n",
              "179   36.2    24.0    21.0  \n",
              "180   33.0    22.0    20.0  \n",
              "181   32.0    22.5    19.5  \n",
              "182   32.0    22.0    19.5  \n",
              "183   33.5    21.0    19.0  \n",
              "\n",
              "[184 rows x 20 columns]"
            ],
            "text/html": [
              "\n",
              "  <div id=\"df-02999aa2-f372-4484-9a11-c810758e6596\">\n",
              "    <div class=\"colab-df-container\">\n",
              "      <div>\n",
              "<style scoped>\n",
              "    .dataframe tbody tr th:only-of-type {\n",
              "        vertical-align: middle;\n",
              "    }\n",
              "\n",
              "    .dataframe tbody tr th {\n",
              "        vertical-align: top;\n",
              "    }\n",
              "\n",
              "    .dataframe thead th {\n",
              "        text-align: right;\n",
              "    }\n",
              "</style>\n",
              "<table border=\"1\" class=\"dataframe\">\n",
              "  <thead>\n",
              "    <tr style=\"text-align: right;\">\n",
              "      <th></th>\n",
              "      <th>Obs</th>\n",
              "      <th>Fat</th>\n",
              "      <th>Weight</th>\n",
              "      <th>Height</th>\n",
              "      <th>BMI</th>\n",
              "      <th>Age</th>\n",
              "      <th>Neck</th>\n",
              "      <th>Chest</th>\n",
              "      <th>Calf</th>\n",
              "      <th>Biceps</th>\n",
              "      <th>Hips</th>\n",
              "      <th>Waist</th>\n",
              "      <th>Forearm</th>\n",
              "      <th>PThigh</th>\n",
              "      <th>MThigh</th>\n",
              "      <th>DThigh</th>\n",
              "      <th>Wrist</th>\n",
              "      <th>Knee</th>\n",
              "      <th>Elbow</th>\n",
              "      <th>Ankle</th>\n",
              "    </tr>\n",
              "  </thead>\n",
              "  <tbody>\n",
              "    <tr>\n",
              "      <th>0</th>\n",
              "      <td>1</td>\n",
              "      <td>23.07</td>\n",
              "      <td>49.4424</td>\n",
              "      <td>1.61290</td>\n",
              "      <td>19.006</td>\n",
              "      <td>22</td>\n",
              "      <td>28.8</td>\n",
              "      <td>76.1</td>\n",
              "      <td>32.4</td>\n",
              "      <td>25.0</td>\n",
              "      <td>90.2</td>\n",
              "      <td>62.8</td>\n",
              "      <td>21.0</td>\n",
              "      <td>52.5</td>\n",
              "      <td>49.2</td>\n",
              "      <td>37.0</td>\n",
              "      <td>15.0</td>\n",
              "      <td>33.0</td>\n",
              "      <td>22.0</td>\n",
              "      <td>19.7</td>\n",
              "    </tr>\n",
              "    <tr>\n",
              "      <th>1</th>\n",
              "      <td>2</td>\n",
              "      <td>29.50</td>\n",
              "      <td>60.7824</td>\n",
              "      <td>1.57480</td>\n",
              "      <td>24.509</td>\n",
              "      <td>22</td>\n",
              "      <td>31.2</td>\n",
              "      <td>87.3</td>\n",
              "      <td>33.2</td>\n",
              "      <td>26.8</td>\n",
              "      <td>94.0</td>\n",
              "      <td>68.0</td>\n",
              "      <td>23.2</td>\n",
              "      <td>58.5</td>\n",
              "      <td>50.0</td>\n",
              "      <td>39.0</td>\n",
              "      <td>15.8</td>\n",
              "      <td>34.6</td>\n",
              "      <td>23.0</td>\n",
              "      <td>22.0</td>\n",
              "    </tr>\n",
              "    <tr>\n",
              "      <th>2</th>\n",
              "      <td>3</td>\n",
              "      <td>26.99</td>\n",
              "      <td>63.0504</td>\n",
              "      <td>1.61798</td>\n",
              "      <td>24.085</td>\n",
              "      <td>21</td>\n",
              "      <td>30.8</td>\n",
              "      <td>83.7</td>\n",
              "      <td>32.5</td>\n",
              "      <td>27.8</td>\n",
              "      <td>94.0</td>\n",
              "      <td>71.0</td>\n",
              "      <td>21.8</td>\n",
              "      <td>55.5</td>\n",
              "      <td>51.0</td>\n",
              "      <td>38.0</td>\n",
              "      <td>14.4</td>\n",
              "      <td>35.0</td>\n",
              "      <td>24.3</td>\n",
              "      <td>20.1</td>\n",
              "    </tr>\n",
              "    <tr>\n",
              "      <th>3</th>\n",
              "      <td>4</td>\n",
              "      <td>20.25</td>\n",
              "      <td>53.0712</td>\n",
              "      <td>1.68148</td>\n",
              "      <td>18.771</td>\n",
              "      <td>20</td>\n",
              "      <td>30.0</td>\n",
              "      <td>78.0</td>\n",
              "      <td>34.2</td>\n",
              "      <td>23.8</td>\n",
              "      <td>90.5</td>\n",
              "      <td>63.5</td>\n",
              "      <td>21.5</td>\n",
              "      <td>52.5</td>\n",
              "      <td>48.0</td>\n",
              "      <td>37.0</td>\n",
              "      <td>14.5</td>\n",
              "      <td>35.0</td>\n",
              "      <td>22.6</td>\n",
              "      <td>20.0</td>\n",
              "    </tr>\n",
              "    <tr>\n",
              "      <th>4</th>\n",
              "      <td>5</td>\n",
              "      <td>19.95</td>\n",
              "      <td>59.4216</td>\n",
              "      <td>1.73228</td>\n",
              "      <td>19.802</td>\n",
              "      <td>20</td>\n",
              "      <td>32.5</td>\n",
              "      <td>84.2</td>\n",
              "      <td>35.2</td>\n",
              "      <td>24.2</td>\n",
              "      <td>93.2</td>\n",
              "      <td>65.0</td>\n",
              "      <td>21.0</td>\n",
              "      <td>55.5</td>\n",
              "      <td>50.0</td>\n",
              "      <td>39.5</td>\n",
              "      <td>14.8</td>\n",
              "      <td>33.0</td>\n",
              "      <td>24.4</td>\n",
              "      <td>21.0</td>\n",
              "    </tr>\n",
              "    <tr>\n",
              "      <th>...</th>\n",
              "      <td>...</td>\n",
              "      <td>...</td>\n",
              "      <td>...</td>\n",
              "      <td>...</td>\n",
              "      <td>...</td>\n",
              "      <td>...</td>\n",
              "      <td>...</td>\n",
              "      <td>...</td>\n",
              "      <td>...</td>\n",
              "      <td>...</td>\n",
              "      <td>...</td>\n",
              "      <td>...</td>\n",
              "      <td>...</td>\n",
              "      <td>...</td>\n",
              "      <td>...</td>\n",
              "      <td>...</td>\n",
              "      <td>...</td>\n",
              "      <td>...</td>\n",
              "      <td>...</td>\n",
              "      <td>...</td>\n",
              "    </tr>\n",
              "    <tr>\n",
              "      <th>179</th>\n",
              "      <td>180</td>\n",
              "      <td>30.40</td>\n",
              "      <td>59.8752</td>\n",
              "      <td>1.56210</td>\n",
              "      <td>24.537</td>\n",
              "      <td>23</td>\n",
              "      <td>31.3</td>\n",
              "      <td>89.0</td>\n",
              "      <td>36.0</td>\n",
              "      <td>28.0</td>\n",
              "      <td>98.5</td>\n",
              "      <td>71.0</td>\n",
              "      <td>24.5</td>\n",
              "      <td>62.5</td>\n",
              "      <td>56.0</td>\n",
              "      <td>42.0</td>\n",
              "      <td>16.3</td>\n",
              "      <td>36.2</td>\n",
              "      <td>24.0</td>\n",
              "      <td>21.0</td>\n",
              "    </tr>\n",
              "    <tr>\n",
              "      <th>180</th>\n",
              "      <td>181</td>\n",
              "      <td>7.47</td>\n",
              "      <td>48.5352</td>\n",
              "      <td>1.57480</td>\n",
              "      <td>19.571</td>\n",
              "      <td>21</td>\n",
              "      <td>29.5</td>\n",
              "      <td>79.0</td>\n",
              "      <td>34.0</td>\n",
              "      <td>25.0</td>\n",
              "      <td>89.0</td>\n",
              "      <td>62.5</td>\n",
              "      <td>22.0</td>\n",
              "      <td>52.5</td>\n",
              "      <td>49.0</td>\n",
              "      <td>37.0</td>\n",
              "      <td>15.5</td>\n",
              "      <td>33.0</td>\n",
              "      <td>22.0</td>\n",
              "      <td>20.0</td>\n",
              "    </tr>\n",
              "    <tr>\n",
              "      <th>181</th>\n",
              "      <td>182</td>\n",
              "      <td>11.98</td>\n",
              "      <td>51.7104</td>\n",
              "      <td>1.57480</td>\n",
              "      <td>20.851</td>\n",
              "      <td>20</td>\n",
              "      <td>31.5</td>\n",
              "      <td>81.5</td>\n",
              "      <td>32.5</td>\n",
              "      <td>27.5</td>\n",
              "      <td>90.0</td>\n",
              "      <td>61.5</td>\n",
              "      <td>22.5</td>\n",
              "      <td>53.0</td>\n",
              "      <td>49.5</td>\n",
              "      <td>36.0</td>\n",
              "      <td>15.0</td>\n",
              "      <td>32.0</td>\n",
              "      <td>22.5</td>\n",
              "      <td>19.5</td>\n",
              "    </tr>\n",
              "    <tr>\n",
              "      <th>182</th>\n",
              "      <td>183</td>\n",
              "      <td>11.24</td>\n",
              "      <td>50.8032</td>\n",
              "      <td>1.65100</td>\n",
              "      <td>18.638</td>\n",
              "      <td>22</td>\n",
              "      <td>30.5</td>\n",
              "      <td>85.0</td>\n",
              "      <td>32.0</td>\n",
              "      <td>24.0</td>\n",
              "      <td>88.0</td>\n",
              "      <td>64.0</td>\n",
              "      <td>21.5</td>\n",
              "      <td>51.0</td>\n",
              "      <td>45.0</td>\n",
              "      <td>33.0</td>\n",
              "      <td>15.0</td>\n",
              "      <td>32.0</td>\n",
              "      <td>22.0</td>\n",
              "      <td>19.5</td>\n",
              "    </tr>\n",
              "    <tr>\n",
              "      <th>183</th>\n",
              "      <td>184</td>\n",
              "      <td>17.49</td>\n",
              "      <td>47.6280</td>\n",
              "      <td>1.60020</td>\n",
              "      <td>18.600</td>\n",
              "      <td>24</td>\n",
              "      <td>26.0</td>\n",
              "      <td>79.3</td>\n",
              "      <td>32.6</td>\n",
              "      <td>24.0</td>\n",
              "      <td>86.6</td>\n",
              "      <td>63.0</td>\n",
              "      <td>21.5</td>\n",
              "      <td>53.0</td>\n",
              "      <td>46.0</td>\n",
              "      <td>35.0</td>\n",
              "      <td>14.0</td>\n",
              "      <td>33.5</td>\n",
              "      <td>21.0</td>\n",
              "      <td>19.0</td>\n",
              "    </tr>\n",
              "  </tbody>\n",
              "</table>\n",
              "<p>184 rows × 20 columns</p>\n",
              "</div>\n",
              "      <button class=\"colab-df-convert\" onclick=\"convertToInteractive('df-02999aa2-f372-4484-9a11-c810758e6596')\"\n",
              "              title=\"Convert this dataframe to an interactive table.\"\n",
              "              style=\"display:none;\">\n",
              "        \n",
              "  <svg xmlns=\"http://www.w3.org/2000/svg\" height=\"24px\"viewBox=\"0 0 24 24\"\n",
              "       width=\"24px\">\n",
              "    <path d=\"M0 0h24v24H0V0z\" fill=\"none\"/>\n",
              "    <path d=\"M18.56 5.44l.94 2.06.94-2.06 2.06-.94-2.06-.94-.94-2.06-.94 2.06-2.06.94zm-11 1L8.5 8.5l.94-2.06 2.06-.94-2.06-.94L8.5 2.5l-.94 2.06-2.06.94zm10 10l.94 2.06.94-2.06 2.06-.94-2.06-.94-.94-2.06-.94 2.06-2.06.94z\"/><path d=\"M17.41 7.96l-1.37-1.37c-.4-.4-.92-.59-1.43-.59-.52 0-1.04.2-1.43.59L10.3 9.45l-7.72 7.72c-.78.78-.78 2.05 0 2.83L4 21.41c.39.39.9.59 1.41.59.51 0 1.02-.2 1.41-.59l7.78-7.78 2.81-2.81c.8-.78.8-2.07 0-2.86zM5.41 20L4 18.59l7.72-7.72 1.47 1.35L5.41 20z\"/>\n",
              "  </svg>\n",
              "      </button>\n",
              "      \n",
              "  <style>\n",
              "    .colab-df-container {\n",
              "      display:flex;\n",
              "      flex-wrap:wrap;\n",
              "      gap: 12px;\n",
              "    }\n",
              "\n",
              "    .colab-df-convert {\n",
              "      background-color: #E8F0FE;\n",
              "      border: none;\n",
              "      border-radius: 50%;\n",
              "      cursor: pointer;\n",
              "      display: none;\n",
              "      fill: #1967D2;\n",
              "      height: 32px;\n",
              "      padding: 0 0 0 0;\n",
              "      width: 32px;\n",
              "    }\n",
              "\n",
              "    .colab-df-convert:hover {\n",
              "      background-color: #E2EBFA;\n",
              "      box-shadow: 0px 1px 2px rgba(60, 64, 67, 0.3), 0px 1px 3px 1px rgba(60, 64, 67, 0.15);\n",
              "      fill: #174EA6;\n",
              "    }\n",
              "\n",
              "    [theme=dark] .colab-df-convert {\n",
              "      background-color: #3B4455;\n",
              "      fill: #D2E3FC;\n",
              "    }\n",
              "\n",
              "    [theme=dark] .colab-df-convert:hover {\n",
              "      background-color: #434B5C;\n",
              "      box-shadow: 0px 1px 3px 1px rgba(0, 0, 0, 0.15);\n",
              "      filter: drop-shadow(0px 1px 2px rgba(0, 0, 0, 0.3));\n",
              "      fill: #FFFFFF;\n",
              "    }\n",
              "  </style>\n",
              "\n",
              "      <script>\n",
              "        const buttonEl =\n",
              "          document.querySelector('#df-02999aa2-f372-4484-9a11-c810758e6596 button.colab-df-convert');\n",
              "        buttonEl.style.display =\n",
              "          google.colab.kernel.accessAllowed ? 'block' : 'none';\n",
              "\n",
              "        async function convertToInteractive(key) {\n",
              "          const element = document.querySelector('#df-02999aa2-f372-4484-9a11-c810758e6596');\n",
              "          const dataTable =\n",
              "            await google.colab.kernel.invokeFunction('convertToInteractive',\n",
              "                                                     [key], {});\n",
              "          if (!dataTable) return;\n",
              "\n",
              "          const docLinkHtml = 'Like what you see? Visit the ' +\n",
              "            '<a target=\"_blank\" href=https://colab.research.google.com/notebooks/data_table.ipynb>data table notebook</a>'\n",
              "            + ' to learn more about interactive tables.';\n",
              "          element.innerHTML = '';\n",
              "          dataTable['output_type'] = 'display_data';\n",
              "          await google.colab.output.renderOutput(dataTable, element);\n",
              "          const docLink = document.createElement('div');\n",
              "          docLink.innerHTML = docLinkHtml;\n",
              "          element.appendChild(docLink);\n",
              "        }\n",
              "      </script>\n",
              "    </div>\n",
              "  </div>\n",
              "  "
            ]
          },
          "metadata": {},
          "execution_count": 136
        }
      ],
      "source": [
        "#loading the dataset\n",
        "df=pd.read_csv('WomenDataSet.csv')\n",
        "df"
      ]
    },
    {
      "cell_type": "markdown",
      "metadata": {
        "id": "Db7Auq1yXUvh"
      },
      "source": [
        "### Split features from labels\n",
        "\n",
        "Separate the target value—the \"label\"—from the features. This label is the value that you will train the model to predict. Th X contains input features and y variable contains the label also known as output which is the Body Fat Percentage."
      ]
    },
    {
      "cell_type": "code",
      "source": [
        "#splitting to input and output\n",
        "X = df.drop([\"Fat\",'Obs',' BMI'],axis=1)\n",
        "y=df['Fat']"
      ],
      "metadata": {
        "id": "AvKEs5XQzly-"
      },
      "execution_count": 139,
      "outputs": []
    },
    {
      "cell_type": "markdown",
      "metadata": {
        "id": "3MWuJTKEDM-f"
      },
      "source": [
        "### Clean the data\n",
        "\n",
        "This dataset does not contain any null or unknown values and measuring units are constant throughout. Therefore there's no need to clean the dataset."
      ]
    },
    {
      "cell_type": "markdown",
      "metadata": {
        "id": "Cuym4yvk76vU"
      },
      "source": [
        "### Split the data into training and test sets\n",
        "\n",
        "Now, split the dataset into a training set and a test set. We will use the test set in the final evaluation of our models."
      ]
    },
    {
      "cell_type": "code",
      "execution_count": 140,
      "metadata": {
        "execution": {
          "iopub.execute_input": "2022-12-27T02:21:54.619704Z",
          "iopub.status.busy": "2022-12-27T02:21:54.619079Z",
          "iopub.status.idle": "2022-12-27T02:21:54.623534Z",
          "shell.execute_reply": "2022-12-27T02:21:54.622996Z"
        },
        "id": "t2sluJdCW7jN"
      },
      "outputs": [],
      "source": [
        "from sklearn.model_selection import train_test_split #this function returns a tuple\n",
        "#splitting data\n",
        "train_features, test_features,train_labels,test_labels =train_test_split(X, y, test_size=0.2)"
      ]
    },
    {
      "cell_type": "markdown",
      "metadata": {
        "id": "J4ubs136WLNp"
      },
      "source": [
        "### Inspect the data\n",
        "\n",
        "Review the joint distribution of a few pairs of columns from the training set.\n",
        "\n"
      ]
    },
    {
      "cell_type": "code",
      "execution_count": 142,
      "metadata": {
        "execution": {
          "iopub.execute_input": "2022-12-27T02:21:51.923735Z",
          "iopub.status.busy": "2022-12-27T02:21:51.923265Z",
          "iopub.status.idle": "2022-12-27T02:21:54.579330Z",
          "shell.execute_reply": "2022-12-27T02:21:54.578578Z"
        },
        "id": "oRKO_x8gWKv-",
        "outputId": "12459f70-154d-42a2-fe36-3d134ef91464",
        "colab": {
          "base_uri": "https://localhost:8080/",
          "height": 1000
        }
      },
      "outputs": [
        {
          "output_type": "execute_result",
          "data": {
            "text/plain": [
              "<seaborn.axisgrid.PairGrid at 0x7fe658187c40>"
            ]
          },
          "metadata": {},
          "execution_count": 142
        },
        {
          "output_type": "display_data",
          "data": {
            "text/plain": [
              "<Figure size 1000x1000 with 20 Axes>"
            ],
            "image/png": "[encoded data removed]"
          },
          "metadata": {}
        }
      ],
      "source": [
        "sns.pairplot(train_features[[' Age', ' Weight', ' Height', ' Waist']], diag_kind='kde')"
      ]
    },
    {
      "cell_type": "markdown",
      "metadata": {
        "id": "gavKO_6DWRMP"
      },
      "source": [
        "Let's also check the overall statistics. Note how each feature covers a very different range:"
      ]
    },
    {
      "cell_type": "code",
      "execution_count": 143,
      "metadata": {
        "execution": {
          "iopub.execute_input": "2022-12-27T02:21:54.584792Z",
          "iopub.status.busy": "2022-12-27T02:21:54.584146Z",
          "iopub.status.idle": "2022-12-27T02:21:54.616279Z",
          "shell.execute_reply": "2022-12-27T02:21:54.615730Z"
        },
        "id": "yi2FzC3T21jR",
        "outputId": "b744f8df-2777-4f0e-fe9b-0d72a5bfe2f1",
        "colab": {
          "base_uri": "https://localhost:8080/",
          "height": 582
        }
      },
      "outputs": [
        {
          "output_type": "execute_result",
          "data": {
            "text/plain": [
              "          count       mean       std      min      25%      50%       75%  \\\n",
              " Weight   147.0  60.276343  8.590970  42.1848  53.9784  59.8752   65.0916   \n",
              " Height   147.0   1.665371  0.058915   1.5367   1.6256   1.6637    1.7018   \n",
              " Age      147.0  20.292517  2.187170   1.0000  19.0000  20.0000   21.0000   \n",
              " Neck     147.0  31.538776  1.586780  26.0000  30.5000  31.5000   32.5000   \n",
              " Chest    147.0  85.074830  6.855493  43.0000  82.4500  85.0000   88.5000   \n",
              " Calf     147.0  35.713605  3.782017  25.5000  34.0000  35.5000   37.5000   \n",
              " Biceps   147.0  26.689796  2.468257  20.5000  25.0000  26.8000   28.2000   \n",
              " Hips     147.0  97.063265  6.422212  82.5000  92.5000  97.0000  102.0000   \n",
              " Waist    147.0  69.795238  6.798815  58.0000  65.0000  68.3000   72.7500   \n",
              " Forearm  147.0  23.514286  1.552285  20.0000  22.5000  23.5000   24.5000   \n",
              " PThigh   147.0  57.490476  4.594209  45.0000  54.5000  57.5000   60.2500   \n",
              " MThigh   147.0  51.453061  4.166571  38.0000  48.5000  51.5000   54.1000   \n",
              " DThigh   147.0  39.404762  3.702689  24.2000  37.0000  39.0000   42.0000   \n",
              " Wrist    147.0  15.654422  0.943342  13.5000  15.0000  15.5000   16.3000   \n",
              " Knee     147.0  35.774150  2.197105  31.0000  34.1000  35.5000   37.2500   \n",
              " Elbow    147.0  23.821088  1.611144  15.5000  22.8000  24.0000   24.8500   \n",
              " Ankle    147.0  21.359864  1.337021  18.0000  20.4000  21.2000   22.3000   \n",
              "\n",
              "               max  \n",
              " Weight    86.1840  \n",
              " Height     1.8034  \n",
              " Age       25.0000  \n",
              " Neck      36.0000  \n",
              " Chest    100.0000  \n",
              " Calf      66.0000  \n",
              " Biceps    34.5000  \n",
              " Hips     115.0000  \n",
              " Waist     96.0000  \n",
              " Forearm   29.0000  \n",
              " PThigh    69.5000  \n",
              " MThigh    63.0000  \n",
              " DThigh    50.5000  \n",
              " Wrist     19.0000  \n",
              " Knee      42.0000  \n",
              " Elbow     29.0000  \n",
              " Ankle     25.0000  "
            ],
            "text/html": [
              "\n",
              "  <div id=\"df-bb5770e3-4ca1-4a2e-b5d3-bfa36ff78463\">\n",
              "    <div class=\"colab-df-container\">\n",
              "      <div>\n",
              "<style scoped>\n",
              "    .dataframe tbody tr th:only-of-type {\n",
              "        vertical-align: middle;\n",
              "    }\n",
              "\n",
              "    .dataframe tbody tr th {\n",
              "        vertical-align: top;\n",
              "    }\n",
              "\n",
              "    .dataframe thead th {\n",
              "        text-align: right;\n",
              "    }\n",
              "</style>\n",
              "<table border=\"1\" class=\"dataframe\">\n",
              "  <thead>\n",
              "    <tr style=\"text-align: right;\">\n",
              "      <th></th>\n",
              "      <th>count</th>\n",
              "      <th>mean</th>\n",
              "      <th>std</th>\n",
              "      <th>min</th>\n",
              "      <th>25%</th>\n",
              "      <th>50%</th>\n",
              "      <th>75%</th>\n",
              "      <th>max</th>\n",
              "    </tr>\n",
              "  </thead>\n",
              "  <tbody>\n",
              "    <tr>\n",
              "      <th>Weight</th>\n",
              "      <td>147.0</td>\n",
              "      <td>60.276343</td>\n",
              "      <td>8.590970</td>\n",
              "      <td>42.1848</td>\n",
              "      <td>53.9784</td>\n",
              "      <td>59.8752</td>\n",
              "      <td>65.0916</td>\n",
              "      <td>86.1840</td>\n",
              "    </tr>\n",
              "    <tr>\n",
              "      <th>Height</th>\n",
              "      <td>147.0</td>\n",
              "      <td>1.665371</td>\n",
              "      <td>0.058915</td>\n",
              "      <td>1.5367</td>\n",
              "      <td>1.6256</td>\n",
              "      <td>1.6637</td>\n",
              "      <td>1.7018</td>\n",
              "      <td>1.8034</td>\n",
              "    </tr>\n",
              "    <tr>\n",
              "      <th>Age</th>\n",
              "      <td>147.0</td>\n",
              "      <td>20.292517</td>\n",
              "      <td>2.187170</td>\n",
              "      <td>1.0000</td>\n",
              "      <td>19.0000</td>\n",
              "      <td>20.0000</td>\n",
              "      <td>21.0000</td>\n",
              "      <td>25.0000</td>\n",
              "    </tr>\n",
              "    <tr>\n",
              "      <th>Neck</th>\n",
              "      <td>147.0</td>\n",
              "      <td>31.538776</td>\n",
              "      <td>1.586780</td>\n",
              "      <td>26.0000</td>\n",
              "      <td>30.5000</td>\n",
              "      <td>31.5000</td>\n",
              "      <td>32.5000</td>\n",
              "      <td>36.0000</td>\n",
              "    </tr>\n",
              "    <tr>\n",
              "      <th>Chest</th>\n",
              "      <td>147.0</td>\n",
              "      <td>85.074830</td>\n",
              "      <td>6.855493</td>\n",
              "      <td>43.0000</td>\n",
              "      <td>82.4500</td>\n",
              "      <td>85.0000</td>\n",
              "      <td>88.5000</td>\n",
              "      <td>100.0000</td>\n",
              "    </tr>\n",
              "    <tr>\n",
              "      <th>Calf</th>\n",
              "      <td>147.0</td>\n",
              "      <td>35.713605</td>\n",
              "      <td>3.782017</td>\n",
              "      <td>25.5000</td>\n",
              "      <td>34.0000</td>\n",
              "      <td>35.5000</td>\n",
              "      <td>37.5000</td>\n",
              "      <td>66.0000</td>\n",
              "    </tr>\n",
              "    <tr>\n",
              "      <th>Biceps</th>\n",
              "      <td>147.0</td>\n",
              "      <td>26.689796</td>\n",
              "      <td>2.468257</td>\n",
              "      <td>20.5000</td>\n",
              "      <td>25.0000</td>\n",
              "      <td>26.8000</td>\n",
              "      <td>28.2000</td>\n",
              "      <td>34.5000</td>\n",
              "    </tr>\n",
              "    <tr>\n",
              "      <th>Hips</th>\n",
              "      <td>147.0</td>\n",
              "      <td>97.063265</td>\n",
              "      <td>6.422212</td>\n",
              "      <td>82.5000</td>\n",
              "      <td>92.5000</td>\n",
              "      <td>97.0000</td>\n",
              "      <td>102.0000</td>\n",
              "      <td>115.0000</td>\n",
              "    </tr>\n",
              "    <tr>\n",
              "      <th>Waist</th>\n",
              "      <td>147.0</td>\n",
              "      <td>69.795238</td>\n",
              "      <td>6.798815</td>\n",
              "      <td>58.0000</td>\n",
              "      <td>65.0000</td>\n",
              "      <td>68.3000</td>\n",
              "      <td>72.7500</td>\n",
              "      <td>96.0000</td>\n",
              "    </tr>\n",
              "    <tr>\n",
              "      <th>Forearm</th>\n",
              "      <td>147.0</td>\n",
              "      <td>23.514286</td>\n",
              "      <td>1.552285</td>\n",
              "      <td>20.0000</td>\n",
              "      <td>22.5000</td>\n",
              "      <td>23.5000</td>\n",
              "      <td>24.5000</td>\n",
              "      <td>29.0000</td>\n",
              "    </tr>\n",
              "    <tr>\n",
              "      <th>PThigh</th>\n",
              "      <td>147.0</td>\n",
              "      <td>57.490476</td>\n",
              "      <td>4.594209</td>\n",
              "      <td>45.0000</td>\n",
              "      <td>54.5000</td>\n",
              "      <td>57.5000</td>\n",
              "      <td>60.2500</td>\n",
              "      <td>69.5000</td>\n",
              "    </tr>\n",
              "    <tr>\n",
              "      <th>MThigh</th>\n",
              "      <td>147.0</td>\n",
              "      <td>51.453061</td>\n",
              "      <td>4.166571</td>\n",
              "      <td>38.0000</td>\n",
              "      <td>48.5000</td>\n",
              "      <td>51.5000</td>\n",
              "      <td>54.1000</td>\n",
              "      <td>63.0000</td>\n",
              "    </tr>\n",
              "    <tr>\n",
              "      <th>DThigh</th>\n",
              "      <td>147.0</td>\n",
              "      <td>39.404762</td>\n",
              "      <td>3.702689</td>\n",
              "      <td>24.2000</td>\n",
              "      <td>37.0000</td>\n",
              "      <td>39.0000</td>\n",
              "      <td>42.0000</td>\n",
              "      <td>50.5000</td>\n",
              "    </tr>\n",
              "    <tr>\n",
              "      <th>Wrist</th>\n",
              "      <td>147.0</td>\n",
              "      <td>15.654422</td>\n",
              "      <td>0.943342</td>\n",
              "      <td>13.5000</td>\n",
              "      <td>15.0000</td>\n",
              "      <td>15.5000</td>\n",
              "      <td>16.3000</td>\n",
              "      <td>19.0000</td>\n",
              "    </tr>\n",
              "    <tr>\n",
              "      <th>Knee</th>\n",
              "      <td>147.0</td>\n",
              "      <td>35.774150</td>\n",
              "      <td>2.197105</td>\n",
              "      <td>31.0000</td>\n",
              "      <td>34.1000</td>\n",
              "      <td>35.5000</td>\n",
              "      <td>37.2500</td>\n",
              "      <td>42.0000</td>\n",
              "    </tr>\n",
              "    <tr>\n",
              "      <th>Elbow</th>\n",
              "      <td>147.0</td>\n",
              "      <td>23.821088</td>\n",
              "      <td>1.611144</td>\n",
              "      <td>15.5000</td>\n",
              "      <td>22.8000</td>\n",
              "      <td>24.0000</td>\n",
              "      <td>24.8500</td>\n",
              "      <td>29.0000</td>\n",
              "    </tr>\n",
              "    <tr>\n",
              "      <th>Ankle</th>\n",
              "      <td>147.0</td>\n",
              "      <td>21.359864</td>\n",
              "      <td>1.337021</td>\n",
              "      <td>18.0000</td>\n",
              "      <td>20.4000</td>\n",
              "      <td>21.2000</td>\n",
              "      <td>22.3000</td>\n",
              "      <td>25.0000</td>\n",
              "    </tr>\n",
              "  </tbody>\n",
              "</table>\n",
              "</div>\n",
              "      <button class=\"colab-df-convert\" onclick=\"convertToInteractive('df-bb5770e3-4ca1-4a2e-b5d3-bfa36ff78463')\"\n",
              "              title=\"Convert this dataframe to an interactive table.\"\n",
              "              style=\"display:none;\">\n",
              "        \n",
              "  <svg xmlns=\"http://www.w3.org/2000/svg\" height=\"24px\"viewBox=\"0 0 24 24\"\n",
              "       width=\"24px\">\n",
              "    <path d=\"M0 0h24v24H0V0z\" fill=\"none\"/>\n",
              "    <path d=\"M18.56 5.44l.94 2.06.94-2.06 2.06-.94-2.06-.94-.94-2.06-.94 2.06-2.06.94zm-11 1L8.5 8.5l.94-2.06 2.06-.94-2.06-.94L8.5 2.5l-.94 2.06-2.06.94zm10 10l.94 2.06.94-2.06 2.06-.94-2.06-.94-.94-2.06-.94 2.06-2.06.94z\"/><path d=\"M17.41 7.96l-1.37-1.37c-.4-.4-.92-.59-1.43-.59-.52 0-1.04.2-1.43.59L10.3 9.45l-7.72 7.72c-.78.78-.78 2.05 0 2.83L4 21.41c.39.39.9.59 1.41.59.51 0 1.02-.2 1.41-.59l7.78-7.78 2.81-2.81c.8-.78.8-2.07 0-2.86zM5.41 20L4 18.59l7.72-7.72 1.47 1.35L5.41 20z\"/>\n",
              "  </svg>\n",
              "      </button>\n",
              "      \n",
              "  <style>\n",
              "    .colab-df-container {\n",
              "      display:flex;\n",
              "      flex-wrap:wrap;\n",
              "      gap: 12px;\n",
              "    }\n",
              "\n",
              "    .colab-df-convert {\n",
              "      background-color: #E8F0FE;\n",
              "      border: none;\n",
              "      border-radius: 50%;\n",
              "      cursor: pointer;\n",
              "      display: none;\n",
              "      fill: #1967D2;\n",
              "      height: 32px;\n",
              "      padding: 0 0 0 0;\n",
              "      width: 32px;\n",
              "    }\n",
              "\n",
              "    .colab-df-convert:hover {\n",
              "      background-color: #E2EBFA;\n",
              "      box-shadow: 0px 1px 2px rgba(60, 64, 67, 0.3), 0px 1px 3px 1px rgba(60, 64, 67, 0.15);\n",
              "      fill: #174EA6;\n",
              "    }\n",
              "\n",
              "    [theme=dark] .colab-df-convert {\n",
              "      background-color: #3B4455;\n",
              "      fill: #D2E3FC;\n",
              "    }\n",
              "\n",
              "    [theme=dark] .colab-df-convert:hover {\n",
              "      background-color: #434B5C;\n",
              "      box-shadow: 0px 1px 3px 1px rgba(0, 0, 0, 0.15);\n",
              "      filter: drop-shadow(0px 1px 2px rgba(0, 0, 0, 0.3));\n",
              "      fill: #FFFFFF;\n",
              "    }\n",
              "  </style>\n",
              "\n",
              "      <script>\n",
              "        const buttonEl =\n",
              "          document.querySelector('#df-bb5770e3-4ca1-4a2e-b5d3-bfa36ff78463 button.colab-df-convert');\n",
              "        buttonEl.style.display =\n",
              "          google.colab.kernel.accessAllowed ? 'block' : 'none';\n",
              "\n",
              "        async function convertToInteractive(key) {\n",
              "          const element = document.querySelector('#df-bb5770e3-4ca1-4a2e-b5d3-bfa36ff78463');\n",
              "          const dataTable =\n",
              "            await google.colab.kernel.invokeFunction('convertToInteractive',\n",
              "                                                     [key], {});\n",
              "          if (!dataTable) return;\n",
              "\n",
              "          const docLinkHtml = 'Like what you see? Visit the ' +\n",
              "            '<a target=\"_blank\" href=https://colab.research.google.com/notebooks/data_table.ipynb>data table notebook</a>'\n",
              "            + ' to learn more about interactive tables.';\n",
              "          element.innerHTML = '';\n",
              "          dataTable['output_type'] = 'display_data';\n",
              "          await google.colab.output.renderOutput(dataTable, element);\n",
              "          const docLink = document.createElement('div');\n",
              "          docLink.innerHTML = docLinkHtml;\n",
              "          element.appendChild(docLink);\n",
              "        }\n",
              "      </script>\n",
              "    </div>\n",
              "  </div>\n",
              "  "
            ]
          },
          "metadata": {},
          "execution_count": 143
        }
      ],
      "source": [
        "train_features.describe().transpose()"
      ]
    },
    {
      "cell_type": "markdown",
      "metadata": {
        "id": "mRklxK5s388r"
      },
      "source": [
        "## Normalization\n",
        "\n",
        "In the table of statistics it's easy to see how different the ranges of each feature are:"
      ]
    },
    {
      "cell_type": "markdown",
      "metadata": {
        "id": "-ywmerQ6dSox"
      },
      "source": [
        "It is good practice to normalize features that use different scales and ranges.\n",
        "\n",
        "One reason this is important is because the features are multiplied by the model weights. So, the scale of the outputs and the scale of the gradients are affected by the scale of the inputs.\n",
        "\n",
        "Although a model *might* converge without feature normalization, normalization makes training much more stable. And it also make the preprocessing process more efficient."
      ]
    },
    {
      "cell_type": "markdown",
      "metadata": {
        "id": "aFJ6ISropeoo"
      },
      "source": [
        "### The Normalization layer\n",
        "\n",
        "The `tf.keras.layers.Normalization` is a clean and simple way to add feature normalization into the model.\n",
        "\n",
        "The first step is to create the layer:"
      ]
    },
    {
      "cell_type": "code",
      "execution_count": 144,
      "metadata": {
        "execution": {
          "iopub.execute_input": "2022-12-27T02:21:54.654470Z",
          "iopub.status.busy": "2022-12-27T02:21:54.653996Z",
          "iopub.status.idle": "2022-12-27T02:21:54.671432Z",
          "shell.execute_reply": "2022-12-27T02:21:54.670897Z"
        },
        "id": "JlC5ooJrgjQF"
      },
      "outputs": [],
      "source": [
        "normalizer = tf.keras.layers.Normalization(axis=-1)"
      ]
    },
    {
      "cell_type": "markdown",
      "metadata": {
        "id": "XYA2Ap6nVOha"
      },
      "source": [
        "Then, fit the state of the preprocessing layer to the data by calling `Normalization.adapt`:"
      ]
    },
    {
      "cell_type": "code",
      "execution_count": 145,
      "metadata": {
        "execution": {
          "iopub.execute_input": "2022-12-27T02:21:54.674924Z",
          "iopub.status.busy": "2022-12-27T02:21:54.674352Z",
          "iopub.status.idle": "2022-12-27T02:21:58.227347Z",
          "shell.execute_reply": "2022-12-27T02:21:58.226632Z"
        },
        "id": "CrBbbjbwV91f"
      },
      "outputs": [],
      "source": [
        "normalizer.adapt(np.array(train_features))"
      ]
    },
    {
      "cell_type": "markdown",
      "metadata": {
        "id": "oZccMR5yV9YV"
      },
      "source": [
        "Calculate the mean and variance, and store them in the layer:"
      ]
    },
    {
      "cell_type": "code",
      "execution_count": 146,
      "metadata": {
        "colab": {
          "base_uri": "https://localhost:8080/"
        },
        "execution": {
          "iopub.execute_input": "2022-12-27T02:21:58.231969Z",
          "iopub.status.busy": "2022-12-27T02:21:58.231364Z",
          "iopub.status.idle": "2022-12-27T02:21:58.235553Z",
          "shell.execute_reply": "2022-12-27T02:21:58.234937Z"
        },
        "id": "GGn-ukwxSPtx",
        "outputId": "7e1a7217-0abe-4b5b-86c6-d9fe379fdbdf"
      },
      "outputs": [
        {
          "output_type": "stream",
          "name": "stdout",
          "text": [
            "[[60.276  1.665 20.293 31.539 85.075 35.714 26.69  97.063 69.795 23.514\n",
            "  57.49  51.453 39.405 15.654 35.774 23.821 21.36 ]]\n"
          ]
        }
      ],
      "source": [
        "print(normalizer.mean.numpy())"
      ]
    },
    {
      "cell_type": "markdown",
      "metadata": {
        "id": "oGWKaF9GSRuN"
      },
      "source": [
        "When the layer is called, it returns the input data, with each feature independently normalized:"
      ]
    },
    {
      "cell_type": "code",
      "execution_count": 147,
      "metadata": {
        "colab": {
          "base_uri": "https://localhost:8080/"
        },
        "execution": {
          "iopub.execute_input": "2022-12-27T02:21:58.238943Z",
          "iopub.status.busy": "2022-12-27T02:21:58.238495Z",
          "iopub.status.idle": "2022-12-27T02:21:58.250628Z",
          "shell.execute_reply": "2022-12-27T02:21:58.249973Z"
        },
        "id": "2l7zFL_XWIRu",
        "outputId": "574ad3be-e49f-476c-d549-b777345fd9a1"
      },
      "outputs": [
        {
          "output_type": "stream",
          "name": "stdout",
          "text": [
            "First example: [[52.62  1.6  21.   30.6  84.5  32.6  26.5  94.   66.   22.5  54.   47.\n",
            "  37.   14.5  32.6  22.5  21.  ]]\n",
            "\n",
            "Normalized: [[-0.89 -1.11  0.32 -0.59 -0.08 -0.83 -0.08 -0.48 -0.56 -0.66 -0.76 -1.07\n",
            "  -0.65 -1.23 -1.45 -0.82 -0.27]]\n"
          ]
        }
      ],
      "source": [
        "first = np.array(train_features[:1])\n",
        "\n",
        "with np.printoptions(precision=2, suppress=True):\n",
        "  print('First example:', first)\n",
        "  print()\n",
        "  print('Normalized:', normalizer(first).numpy())"
      ]
    },
    {
      "cell_type": "markdown",
      "metadata": {
        "id": "6o3CrycBXA2s"
      },
      "source": [
        "## Linear regression"
      ]
    },
    {
      "cell_type": "markdown",
      "metadata": {
        "id": "lFby9n0tnHkw"
      },
      "source": [
        "### Linear regression with one variable\n",
        "\n",
        "Begin with a single-variable linear regression to predict `'BodyFat'` from `'Weight'`.\n",
        "\n",
        "Training a model with `tf.keras` typically starts by defining the model architecture. Here we've used a `tf.keras.Sequential` model.\n",
        "\n",
        "There are two steps in your single-variable linear regression model:\n",
        "\n",
        "- Normalize the `'Weight'` input features using the `tf.keras.layers.Normalization` preprocessing layer.\n",
        "- Apply a linear transformation ($y = mx+b$) to produce 1 output using a linear layer (`tf.keras.layers.Dense`).\n",
        "\n",
        "The number of _inputs_ can either be set by the `input_shape` argument, or automatically when the model is run for the first time."
      ]
    },
    {
      "cell_type": "markdown",
      "metadata": {
        "id": "Xp3gAFn3TPv8"
      },
      "source": [
        "First, create a NumPy array made of the `'Weight'` features. Then, instantiate the `tf.keras.layers.Normalization` and fit its state to the `Weight` data:"
      ]
    },
    {
      "cell_type": "code",
      "execution_count": 148,
      "metadata": {
        "execution": {
          "iopub.execute_input": "2022-12-27T02:21:58.254002Z",
          "iopub.status.busy": "2022-12-27T02:21:58.253568Z",
          "iopub.status.idle": "2022-12-27T02:21:58.435457Z",
          "shell.execute_reply": "2022-12-27T02:21:58.434733Z"
        },
        "id": "1gJAy0fKs1TS"
      },
      "outputs": [],
      "source": [
        "weight = np.array(train_features[' Weight'])\n",
        "\n",
        "weight_normalizer = layers.Normalization(input_shape=[1,], axis=None)\n",
        "weight_normalizer.adapt(weight)"
      ]
    },
    {
      "cell_type": "markdown",
      "metadata": {
        "id": "4NVlHJY2TWlC"
      },
      "source": [
        "Build the Keras Sequential model:"
      ]
    },
    {
      "cell_type": "code",
      "execution_count": 149,
      "metadata": {
        "colab": {
          "base_uri": "https://localhost:8080/"
        },
        "execution": {
          "iopub.execute_input": "2022-12-27T02:21:58.439673Z",
          "iopub.status.busy": "2022-12-27T02:21:58.439034Z",
          "iopub.status.idle": "2022-12-27T02:21:58.479041Z",
          "shell.execute_reply": "2022-12-27T02:21:58.478416Z"
        },
        "id": "c0sXM7qLlKfZ",
        "outputId": "a55ff12a-0194-4193-f9d0-f79c4369a004"
      },
      "outputs": [
        {
          "output_type": "stream",
          "name": "stdout",
          "text": [
            "Model: \"sequential_12\"\n",
            "_________________________________________________________________\n",
            " Layer (type)                Output Shape              Param #   \n",
            "=================================================================\n",
            " normalization_5 (Normalizat  (None, 1)                3         \n",
            " ion)                                                            \n",
            "                                                                 \n",
            " dense_36 (Dense)            (None, 1)                 2         \n",
            "                                                                 \n",
            "=================================================================\n",
            "Total params: 5\n",
            "Trainable params: 2\n",
            "Non-trainable params: 3\n",
            "_________________________________________________________________\n"
          ]
        }
      ],
      "source": [
        "weight_model = tf.keras.Sequential([\n",
        "    weight_normalizer,\n",
        "    layers.Dense(units=1)\n",
        "])\n",
        "\n",
        "weight_model.summary()"
      ]
    },
    {
      "cell_type": "markdown",
      "metadata": {
        "id": "eObQu9fDnXGL"
      },
      "source": [
        "\n",
        "\n",
        "Run the untrained model on the first 10 'weight' values. The output won't be good, but notice that it has the expected shape of `(10, 1)`:"
      ]
    },
    {
      "cell_type": "code",
      "execution_count": 150,
      "metadata": {
        "colab": {
          "base_uri": "https://localhost:8080/"
        },
        "execution": {
          "iopub.execute_input": "2022-12-27T02:21:58.485115Z",
          "iopub.status.busy": "2022-12-27T02:21:58.484669Z",
          "iopub.status.idle": "2022-12-27T02:22:00.555803Z",
          "shell.execute_reply": "2022-12-27T02:22:00.555093Z"
        },
        "id": "UfV1HS6bns-s",
        "outputId": "8ed46018-32f2-40b1-8df6-8ead95a80e30"
      },
      "outputs": [
        {
          "output_type": "stream",
          "name": "stdout",
          "text": [
            "1/1 [==============================] - 0s 66ms/step\n"
          ]
        },
        {
          "output_type": "execute_result",
          "data": {
            "text/plain": [
              "array([[ 1.338],\n",
              "       [-0.009],\n",
              "       [-1.435],\n",
              "       [-0.801],\n",
              "       [ 0.942],\n",
              "       [-2.544],\n",
              "       [-1.99 ],\n",
              "       [ 0.466],\n",
              "       [ 1.655],\n",
              "       [ 2.051]], dtype=float32)"
            ]
          },
          "metadata": {},
          "execution_count": 150
        }
      ],
      "source": [
        "weight_model.predict(weight[:10])"
      ]
    },
    {
      "cell_type": "markdown",
      "metadata": {
        "id": "CSkanJlmmFBX"
      },
      "source": [
        "Once the model is built, configure the training procedure using the Keras `Model.compile` method. The most important arguments to compile are the `loss` and the `optimizer`, since these define what will be optimized (`mean_absolute_error`) and how (using the `tf.keras.optimizers.Adam`)."
      ]
    },
    {
      "cell_type": "code",
      "execution_count": 151,
      "metadata": {
        "execution": {
          "iopub.execute_input": "2022-12-27T02:22:00.559406Z",
          "iopub.status.busy": "2022-12-27T02:22:00.558906Z",
          "iopub.status.idle": "2022-12-27T02:22:00.571440Z",
          "shell.execute_reply": "2022-12-27T02:22:00.570811Z"
        },
        "id": "JxA_3lpOm-SK"
      },
      "outputs": [],
      "source": [
        "weight_model.compile(\n",
        "    optimizer=tf.keras.optimizers.Adam(learning_rate=0.1),\n",
        "    loss='mean_absolute_error')"
      ]
    },
    {
      "cell_type": "markdown",
      "metadata": {
        "id": "Z3q1I9TwnRSC"
      },
      "source": [
        "Use Keras `Model.fit` to execute the training for 100 epochs:"
      ]
    },
    {
      "cell_type": "code",
      "execution_count": 153,
      "metadata": {
        "colab": {
          "base_uri": "https://localhost:8080/"
        },
        "execution": {
          "iopub.execute_input": "2022-12-27T02:22:00.574939Z",
          "iopub.status.busy": "2022-12-27T02:22:00.574498Z",
          "iopub.status.idle": "2022-12-27T02:22:05.423840Z",
          "shell.execute_reply": "2022-12-27T02:22:05.423038Z"
        },
        "id": "-iSrNy59nRAp",
        "outputId": "2bf2a877-e9f4-414c-9a67-a4a28412ea16"
      },
      "outputs": [
        {
          "output_type": "stream",
          "name": "stdout",
          "text": [
            "CPU times: user 5.27 s, sys: 147 ms, total: 5.42 s\n",
            "Wall time: 11.4 s\n"
          ]
        }
      ],
      "source": [
        "%%time\n",
        "history = weight_model.fit(\n",
        "    train_features[' Weight'],\n",
        "    train_labels,\n",
        "    epochs=100,\n",
        "    # Suppress logging.\n",
        "    verbose=0,\n",
        "    # Calculate validation results on 20% of the training data.\n",
        "    validation_split = 0.2)"
      ]
    },
    {
      "cell_type": "markdown",
      "metadata": {
        "id": "tQm3pc0FYPQB"
      },
      "source": [
        "Visualize the model's training progress using the stats stored in the `history` object:"
      ]
    },
    {
      "cell_type": "code",
      "execution_count": 154,
      "metadata": {
        "colab": {
          "base_uri": "https://localhost:8080/",
          "height": 206
        },
        "execution": {
          "iopub.execute_input": "2022-12-27T02:22:05.427885Z",
          "iopub.status.busy": "2022-12-27T02:22:05.427205Z",
          "iopub.status.idle": "2022-12-27T02:22:05.436508Z",
          "shell.execute_reply": "2022-12-27T02:22:05.435773Z"
        },
        "id": "YCAwD_y4AdC3",
        "outputId": "8534e027-2891-4eee-9282-16d8f6032f28"
      },
      "outputs": [
        {
          "output_type": "execute_result",
          "data": {
            "text/plain": [
              "        loss  val_loss  epoch\n",
              "95  3.405579  2.792745     95\n",
              "96  3.404818  2.794715     96\n",
              "97  3.404786  2.804553     97\n",
              "98  3.406564  2.814672     98\n",
              "99  3.404937  2.810626     99"
            ],
            "text/html": [
              "\n",
              "  <div id=\"df-e54cbc64-2396-4175-a48e-5baf1644664c\">\n",
              "    <div class=\"colab-df-container\">\n",
              "      <div>\n",
              "<style scoped>\n",
              "    .dataframe tbody tr th:only-of-type {\n",
              "        vertical-align: middle;\n",
              "    }\n",
              "\n",
              "    .dataframe tbody tr th {\n",
              "        vertical-align: top;\n",
              "    }\n",
              "\n",
              "    .dataframe thead th {\n",
              "        text-align: right;\n",
              "    }\n",
              "</style>\n",
              "<table border=\"1\" class=\"dataframe\">\n",
              "  <thead>\n",
              "    <tr style=\"text-align: right;\">\n",
              "      <th></th>\n",
              "      <th>loss</th>\n",
              "      <th>val_loss</th>\n",
              "      <th>epoch</th>\n",
              "    </tr>\n",
              "  </thead>\n",
              "  <tbody>\n",
              "    <tr>\n",
              "      <th>95</th>\n",
              "      <td>3.405579</td>\n",
              "      <td>2.792745</td>\n",
              "      <td>95</td>\n",
              "    </tr>\n",
              "    <tr>\n",
              "      <th>96</th>\n",
              "      <td>3.404818</td>\n",
              "      <td>2.794715</td>\n",
              "      <td>96</td>\n",
              "    </tr>\n",
              "    <tr>\n",
              "      <th>97</th>\n",
              "      <td>3.404786</td>\n",
              "      <td>2.804553</td>\n",
              "      <td>97</td>\n",
              "    </tr>\n",
              "    <tr>\n",
              "      <th>98</th>\n",
              "      <td>3.406564</td>\n",
              "      <td>2.814672</td>\n",
              "      <td>98</td>\n",
              "    </tr>\n",
              "    <tr>\n",
              "      <th>99</th>\n",
              "      <td>3.404937</td>\n",
              "      <td>2.810626</td>\n",
              "      <td>99</td>\n",
              "    </tr>\n",
              "  </tbody>\n",
              "</table>\n",
              "</div>\n",
              "      <button class=\"colab-df-convert\" onclick=\"convertToInteractive('df-e54cbc64-2396-4175-a48e-5baf1644664c')\"\n",
              "              title=\"Convert this dataframe to an interactive table.\"\n",
              "              style=\"display:none;\">\n",
              "        \n",
              "  <svg xmlns=\"http://www.w3.org/2000/svg\" height=\"24px\"viewBox=\"0 0 24 24\"\n",
              "       width=\"24px\">\n",
              "    <path d=\"M0 0h24v24H0V0z\" fill=\"none\"/>\n",
              "    <path d=\"M18.56 5.44l.94 2.06.94-2.06 2.06-.94-2.06-.94-.94-2.06-.94 2.06-2.06.94zm-11 1L8.5 8.5l.94-2.06 2.06-.94-2.06-.94L8.5 2.5l-.94 2.06-2.06.94zm10 10l.94 2.06.94-2.06 2.06-.94-2.06-.94-.94-2.06-.94 2.06-2.06.94z\"/><path d=\"M17.41 7.96l-1.37-1.37c-.4-.4-.92-.59-1.43-.59-.52 0-1.04.2-1.43.59L10.3 9.45l-7.72 7.72c-.78.78-.78 2.05 0 2.83L4 21.41c.39.39.9.59 1.41.59.51 0 1.02-.2 1.41-.59l7.78-7.78 2.81-2.81c.8-.78.8-2.07 0-2.86zM5.41 20L4 18.59l7.72-7.72 1.47 1.35L5.41 20z\"/>\n",
              "  </svg>\n",
              "      </button>\n",
              "      \n",
              "  <style>\n",
              "    .colab-df-container {\n",
              "      display:flex;\n",
              "      flex-wrap:wrap;\n",
              "      gap: 12px;\n",
              "    }\n",
              "\n",
              "    .colab-df-convert {\n",
              "      background-color: #E8F0FE;\n",
              "      border: none;\n",
              "      border-radius: 50%;\n",
              "      cursor: pointer;\n",
              "      display: none;\n",
              "      fill: #1967D2;\n",
              "      height: 32px;\n",
              "      padding: 0 0 0 0;\n",
              "      width: 32px;\n",
              "    }\n",
              "\n",
              "    .colab-df-convert:hover {\n",
              "      background-color: #E2EBFA;\n",
              "      box-shadow: 0px 1px 2px rgba(60, 64, 67, 0.3), 0px 1px 3px 1px rgba(60, 64, 67, 0.15);\n",
              "      fill: #174EA6;\n",
              "    }\n",
              "\n",
              "    [theme=dark] .colab-df-convert {\n",
              "      background-color: #3B4455;\n",
              "      fill: #D2E3FC;\n",
              "    }\n",
              "\n",
              "    [theme=dark] .colab-df-convert:hover {\n",
              "      background-color: #434B5C;\n",
              "      box-shadow: 0px 1px 3px 1px rgba(0, 0, 0, 0.15);\n",
              "      filter: drop-shadow(0px 1px 2px rgba(0, 0, 0, 0.3));\n",
              "      fill: #FFFFFF;\n",
              "    }\n",
              "  </style>\n",
              "\n",
              "      <script>\n",
              "        const buttonEl =\n",
              "          document.querySelector('#df-e54cbc64-2396-4175-a48e-5baf1644664c button.colab-df-convert');\n",
              "        buttonEl.style.display =\n",
              "          google.colab.kernel.accessAllowed ? 'block' : 'none';\n",
              "\n",
              "        async function convertToInteractive(key) {\n",
              "          const element = document.querySelector('#df-e54cbc64-2396-4175-a48e-5baf1644664c');\n",
              "          const dataTable =\n",
              "            await google.colab.kernel.invokeFunction('convertToInteractive',\n",
              "                                                     [key], {});\n",
              "          if (!dataTable) return;\n",
              "\n",
              "          const docLinkHtml = 'Like what you see? Visit the ' +\n",
              "            '<a target=\"_blank\" href=https://colab.research.google.com/notebooks/data_table.ipynb>data table notebook</a>'\n",
              "            + ' to learn more about interactive tables.';\n",
              "          element.innerHTML = '';\n",
              "          dataTable['output_type'] = 'display_data';\n",
              "          await google.colab.output.renderOutput(dataTable, element);\n",
              "          const docLink = document.createElement('div');\n",
              "          docLink.innerHTML = docLinkHtml;\n",
              "          element.appendChild(docLink);\n",
              "        }\n",
              "      </script>\n",
              "    </div>\n",
              "  </div>\n",
              "  "
            ]
          },
          "metadata": {},
          "execution_count": 154
        }
      ],
      "source": [
        "hist = pd.DataFrame(history.history)\n",
        "hist['epoch'] = history.epoch\n",
        "hist.tail()"
      ]
    },
    {
      "cell_type": "code",
      "execution_count": 155,
      "metadata": {
        "execution": {
          "iopub.execute_input": "2022-12-27T02:22:05.439841Z",
          "iopub.status.busy": "2022-12-27T02:22:05.439226Z",
          "iopub.status.idle": "2022-12-27T02:22:05.443423Z",
          "shell.execute_reply": "2022-12-27T02:22:05.442818Z"
        },
        "id": "9E54UoZunqhc"
      },
      "outputs": [],
      "source": [
        "def plot_loss(history):\n",
        "  plt.plot(history.history['loss'], label='loss')\n",
        "  plt.plot(history.history['val_loss'], label='val_loss')\n",
        "  plt.ylim([0, 10])\n",
        "  plt.xlabel('Epoch')\n",
        "  plt.ylabel('Error [MPG]')\n",
        "  plt.legend()\n",
        "  plt.grid(True)"
      ]
    },
    {
      "cell_type": "code",
      "execution_count": 156,
      "metadata": {
        "execution": {
          "iopub.execute_input": "2022-12-27T02:22:05.446629Z",
          "iopub.status.busy": "2022-12-27T02:22:05.446150Z",
          "iopub.status.idle": "2022-12-27T02:22:05.647641Z",
          "shell.execute_reply": "2022-12-27T02:22:05.646972Z"
        },
        "id": "yYsQYrIZyqjz",
        "outputId": "172ffff5-d773-4e07-d13e-80bbcac868cf",
        "colab": {
          "base_uri": "https://localhost:8080/",
          "height": 455
        }
      },
      "outputs": [
        {
          "output_type": "display_data",
          "data": {
            "text/plain": [
              "<Figure size 640x480 with 1 Axes>"
            ],
            "image/png": "[encoded data removed]"
          },
          "metadata": {}
        }
      ],
      "source": [
        "plot_loss(history)"
      ]
    },
    {
      "cell_type": "markdown",
      "metadata": {
        "id": "CMNrt8X2ebXd"
      },
      "source": [
        "Collect the results on the test set for later:"
      ]
    },
    {
      "cell_type": "code",
      "execution_count": 158,
      "metadata": {
        "execution": {
          "iopub.execute_input": "2022-12-27T02:22:05.651850Z",
          "iopub.status.busy": "2022-12-27T02:22:05.651189Z",
          "iopub.status.idle": "2022-12-27T02:22:05.724107Z",
          "shell.execute_reply": "2022-12-27T02:22:05.723323Z"
        },
        "id": "kDZ8EvNYrDtx"
      },
      "outputs": [],
      "source": [
        "test_results = {}\n",
        "\n",
        "test_results['weight_model'] = weight_model.evaluate(\n",
        "    test_features[' Weight'],\n",
        "    test_labels, verbose=0)"
      ]
    },
    {
      "cell_type": "markdown",
      "metadata": {
        "id": "F0qutYAKwoda"
      },
      "source": [
        "Since this is a single variable regression, it's easy to view the model's predictions as a function of the input:"
      ]
    },
    {
      "cell_type": "code",
      "execution_count": 159,
      "metadata": {
        "colab": {
          "base_uri": "https://localhost:8080/"
        },
        "execution": {
          "iopub.execute_input": "2022-12-27T02:22:05.728299Z",
          "iopub.status.busy": "2022-12-27T02:22:05.727716Z",
          "iopub.status.idle": "2022-12-27T02:22:05.873397Z",
          "shell.execute_reply": "2022-12-27T02:22:05.872637Z"
        },
        "id": "xDS2JEtOn9Jn",
        "outputId": "258a4365-e297-46a4-9c84-da093050a6cf"
      },
      "outputs": [
        {
          "output_type": "stream",
          "name": "stdout",
          "text": [
            "8/8 [==============================] - 0s 2ms/step\n"
          ]
        }
      ],
      "source": [
        "x = tf.linspace(0.0, 250, 251)\n",
        "y = weight_model.predict(x)"
      ]
    },
    {
      "cell_type": "code",
      "execution_count": 161,
      "metadata": {
        "execution": {
          "iopub.execute_input": "2022-12-27T02:22:05.877137Z",
          "iopub.status.busy": "2022-12-27T02:22:05.876609Z",
          "iopub.status.idle": "2022-12-27T02:22:05.880724Z",
          "shell.execute_reply": "2022-12-27T02:22:05.879964Z"
        },
        "id": "rttFCTU8czsI"
      },
      "outputs": [],
      "source": [
        "def plot_weight(x, y):\n",
        "  plt.scatter(train_features[' Weight'], train_labels, label='Data')\n",
        "  plt.plot(x, y, color='k', label='Predictions')\n",
        "  plt.xlabel(' Weight')\n",
        "  plt.ylabel('Fat')\n",
        "  plt.legend()"
      ]
    },
    {
      "cell_type": "code",
      "execution_count": null,
      "metadata": {
        "colab": {
          "base_uri": "https://localhost:8080/",
          "height": 451
        },
        "execution": {
          "iopub.execute_input": "2022-12-27T02:22:05.883917Z",
          "iopub.status.busy": "2022-12-27T02:22:05.883458Z",
          "iopub.status.idle": "2022-12-27T02:22:06.049933Z",
          "shell.execute_reply": "2022-12-27T02:22:06.049273Z"
        },
        "id": "7l9ZiAOEUNBL",
        "outputId": "944222b1-3790-4d79-aafe-c6525c9c809d"
      },
      "outputs": [
        {
          "output_type": "display_data",
          "data": {
            "text/plain": [
              "<Figure size 640x480 with 1 Axes>"
            ],
            "image/png": "[encoded data removed]"
          },
          "metadata": {}
        }
      ],
      "source": [
        "plot_weight(x, y)"
      ]
    },
    {
      "cell_type": "markdown",
      "metadata": {
        "id": "Yk2RmlqPoM9u"
      },
      "source": [
        "### Linear regression with multiple inputs"
      ]
    },
    {
      "cell_type": "markdown",
      "metadata": {
        "id": "PribnwDHUksC"
      },
      "source": [
        "We can use an almost identical setup to make predictions based on multiple inputs. This model still does the same $y = mx+b$ except that $m$ is a matrix and $b$ is a vector.\n",
        "\n",
        "Created a two-step Keras Sequential model again with the first layer being `normalizer` (`tf.keras.layers.Normalization(axis=-1)`) we defined earlier and adapted to the whole dataset:"
      ]
    },
    {
      "cell_type": "code",
      "execution_count": 169,
      "metadata": {
        "execution": {
          "iopub.execute_input": "2022-12-27T02:22:06.053946Z",
          "iopub.status.busy": "2022-12-27T02:22:06.053452Z",
          "iopub.status.idle": "2022-12-27T02:22:06.075940Z",
          "shell.execute_reply": "2022-12-27T02:22:06.075352Z"
        },
        "id": "ssnVcKg7oMe6"
      },
      "outputs": [],
      "source": [
        "linear_model = tf.keras.Sequential([\n",
        "    layers.Input(shape=(1, 17)),\n",
        "    normalizer,\n",
        "    layers.Dense(units=1)\n",
        "])\n",
        "\n",
        "linear_female_model = tf.keras.models.Sequential(linear_model.layers[1:])"
      ]
    },
    {
      "cell_type": "markdown",
      "metadata": {
        "id": "IHlx6WeIWyAr"
      },
      "source": [
        "When calling `Model.predict` on a batch of inputs, it produces `units=1` outputs for each example:"
      ]
    },
    {
      "cell_type": "code",
      "execution_count": 170,
      "metadata": {
        "colab": {
          "base_uri": "https://localhost:8080/"
        },
        "execution": {
          "iopub.execute_input": "2022-12-27T02:22:06.079508Z",
          "iopub.status.busy": "2022-12-27T02:22:06.079125Z",
          "iopub.status.idle": "2022-12-27T02:22:06.167951Z",
          "shell.execute_reply": "2022-12-27T02:22:06.167440Z"
        },
        "id": "DynfJV18WiuT",
        "outputId": "c97ff62d-4edf-4409-e754-3571fb8d3124"
      },
      "outputs": [
        {
          "output_type": "stream",
          "name": "stdout",
          "text": [
            "1/1 [==============================] - 0s 60ms/step\n"
          ]
        },
        {
          "output_type": "execute_result",
          "data": {
            "text/plain": [
              "array([[ -2.706],\n",
              "       [ -2.638],\n",
              "       [ -6.646],\n",
              "       [ -2.778],\n",
              "       [  9.664],\n",
              "       [-13.299],\n",
              "       [ -8.195],\n",
              "       [ -2.193],\n",
              "       [  0.304],\n",
              "       [ -0.153]], dtype=float32)"
            ]
          },
          "metadata": {},
          "execution_count": 170
        }
      ],
      "source": [
        "linear_female_model.predict(train_features[:10])"
      ]
    },
    {
      "cell_type": "markdown",
      "metadata": {
        "id": "eINAc6rZXzOt"
      },
      "source": [
        "Configure the model with Keras `Model.compile` and train with `Model.fit` for 100 epochs:"
      ]
    },
    {
      "cell_type": "code",
      "execution_count": 172,
      "metadata": {
        "execution": {
          "iopub.execute_input": "2022-12-27T02:22:06.179475Z",
          "iopub.status.busy": "2022-12-27T02:22:06.179040Z",
          "iopub.status.idle": "2022-12-27T02:22:06.186898Z",
          "shell.execute_reply": "2022-12-27T02:22:06.186347Z"
        },
        "id": "A0Sv_Ybr0szp"
      },
      "outputs": [],
      "source": [
        "linear_female_model.compile(\n",
        "    optimizer=tf.keras.optimizers.Adam(learning_rate=0.1),\n",
        "    loss='mean_absolute_error')"
      ]
    },
    {
      "cell_type": "code",
      "execution_count": 173,
      "metadata": {
        "colab": {
          "base_uri": "https://localhost:8080/"
        },
        "execution": {
          "iopub.execute_input": "2022-12-27T02:22:06.190200Z",
          "iopub.status.busy": "2022-12-27T02:22:06.189768Z",
          "iopub.status.idle": "2022-12-27T02:22:10.884881Z",
          "shell.execute_reply": "2022-12-27T02:22:10.884154Z"
        },
        "id": "EZoOYORvoTSe",
        "outputId": "6d32edc9-5129-4b60-e5a0-f33b1df0c527"
      },
      "outputs": [
        {
          "output_type": "stream",
          "name": "stdout",
          "text": [
            "CPU times: user 5.09 s, sys: 149 ms, total: 5.24 s\n",
            "Wall time: 7.33 s\n"
          ]
        }
      ],
      "source": [
        "%%time\n",
        "history = linear_female_model.fit(\n",
        "    train_features,\n",
        "    train_labels,\n",
        "    epochs=100,\n",
        "    # Suppress logging.\n",
        "    verbose=0,\n",
        "    # Calculate validation results on 20% of the training data.\n",
        "    validation_split = 0.2)"
      ]
    },
    {
      "cell_type": "markdown",
      "metadata": {
        "id": "EdxiCbiNYK2F"
      },
      "source": [
        "Using all the inputs in this regression model achieves a much lower training and validation error than the `weight_model`, which had one input:"
      ]
    },
    {
      "cell_type": "code",
      "execution_count": 174,
      "metadata": {
        "colab": {
          "base_uri": "https://localhost:8080/",
          "height": 455
        },
        "execution": {
          "iopub.execute_input": "2022-12-27T02:22:10.888692Z",
          "iopub.status.busy": "2022-12-27T02:22:10.888146Z",
          "iopub.status.idle": "2022-12-27T02:22:11.032126Z",
          "shell.execute_reply": "2022-12-27T02:22:11.031420Z"
        },
        "id": "4sWO3W0koYgu",
        "outputId": "45e8d053-b5c1-4ebe-f724-d613ef6c9e7e"
      },
      "outputs": [
        {
          "output_type": "display_data",
          "data": {
            "text/plain": [
              "<Figure size 640x480 with 1 Axes>"
            ],
            "image/png": "[encoded data removed]"
          },
          "metadata": {}
        }
      ],
      "source": [
        "plot_loss(history)"
      ]
    },
    {
      "cell_type": "markdown",
      "metadata": {
        "id": "NyN49hIWe_NH"
      },
      "source": [
        "Collect the results on the test set for later:"
      ]
    },
    {
      "cell_type": "code",
      "execution_count": 176,
      "metadata": {
        "execution": {
          "iopub.execute_input": "2022-12-27T02:22:11.035426Z",
          "iopub.status.busy": "2022-12-27T02:22:11.035129Z",
          "iopub.status.idle": "2022-12-27T02:22:11.105123Z",
          "shell.execute_reply": "2022-12-27T02:22:11.104418Z"
        },
        "id": "jNC3D1DGsGgK",
        "colab": {
          "base_uri": "https://localhost:8080/"
        },
        "outputId": "e7df9b09-9641-41b4-8afd-77ca80a5d5f0"
      },
      "outputs": [
        {
          "output_type": "execute_result",
          "data": {
            "text/plain": [
              "{'linear_female_model': 3.4650471210479736}"
            ]
          },
          "metadata": {},
          "execution_count": 176
        }
      ],
      "source": [
        "test_results={}\n",
        "\n",
        "test_results['linear_female_model'] = linear_female_model.evaluate(\n",
        "    test_features, test_labels, verbose=0)\n",
        "test_results"
      ]
    },
    {
      "cell_type": "code",
      "execution_count": 177,
      "metadata": {
        "colab": {
          "base_uri": "https://localhost:8080/",
          "height": 508
        },
        "id": "Ni4WhucSQwuw",
        "outputId": "cc589663-131d-444b-a3bb-ecc57782001f"
      },
      "outputs": [
        {
          "output_type": "stream",
          "name": "stdout",
          "text": [
            "2/2 [==============================] - 0s 6ms/step\n"
          ]
        },
        {
          "output_type": "execute_result",
          "data": {
            "text/plain": [
              "[<matplotlib.lines.Line2D at 0x7fe641420190>]"
            ]
          },
          "metadata": {},
          "execution_count": 177
        },
        {
          "output_type": "display_data",
          "data": {
            "text/plain": [
              "<Figure size 640x480 with 1 Axes>"
            ],
            "image/png": "[encoded data removed]"
          },
          "metadata": {}
        }
      ],
      "source": [
        "y_pred = linear_female_model.predict(test_features).flatten()\n",
        "\n",
        "a = plt.axes(aspect='equal')\n",
        "plt.scatter(test_labels, y_pred)\n",
        "plt.xlabel('True values')\n",
        "plt.ylabel('Predicted values')\n",
        "plt.title('A plot that shows the true and predicted values')\n",
        "plt.xlim([0, 60])\n",
        "plt.ylim([0, 60])\n",
        "plt.plot([0, 60], [0, 60])"
      ]
    },
    {
      "cell_type": "markdown",
      "metadata": {
        "id": "SmjdzxKzEu1-"
      },
      "source": [
        "## Regression with a deep neural network (DNN)"
      ]
    },
    {
      "cell_type": "markdown",
      "metadata": {
        "id": "DT_aHPsrzO1t"
      },
      "source": [
        "In the previous section, we implemented two linear models for single and multiple inputs.\n",
        "\n",
        "Here, we will implement single-input and multiple-input DNN models.\n",
        "\n",
        "The code is basically the same except the model is expanded to include some \"hidden\" non-linear layers. The name \"hidden\" here just means not directly connected to the inputs or outputs."
      ]
    },
    {
      "cell_type": "markdown",
      "metadata": {
        "id": "6SWtkIjhrZwa"
      },
      "source": [
        "These models will contain a few more layers than the linear model:\n",
        "\n",
        "* The normalization layer, as before (with `weight_normalizer` for a single-input model and `normalizer` for a multiple-input model).\n",
        "* Two hidden, non-linear, `Dense` layers with the ReLU (`relu`) activation function nonlinearity.\n",
        "* A linear `Dense` single-output layer.\n",
        "\n",
        "Both models will use the same training procedure, so the `compile` method is included in the `build_and_compile_model` function below."
      ]
    },
    {
      "cell_type": "code",
      "execution_count": 178,
      "metadata": {
        "execution": {
          "iopub.execute_input": "2022-12-27T02:22:11.109282Z",
          "iopub.status.busy": "2022-12-27T02:22:11.108800Z",
          "iopub.status.idle": "2022-12-27T02:22:11.112981Z",
          "shell.execute_reply": "2022-12-27T02:22:11.112362Z"
        },
        "id": "c26juK7ZG8j-"
      },
      "outputs": [],
      "source": [
        "def build_and_compile_model(norm):\n",
        "  model = keras.Sequential([\n",
        "      norm,\n",
        "      layers.Dense(64, activation='relu'),\n",
        "      layers.Dense(64, activation='relu'),\n",
        "      layers.Dense(1)\n",
        "  ])\n",
        "\n",
        "  model.compile(loss='mean_absolute_error',\n",
        "                optimizer=tf.keras.optimizers.Adam(0.001))\n",
        "  return model"
      ]
    },
    {
      "cell_type": "markdown",
      "metadata": {
        "id": "6c51caebbc0d"
      },
      "source": [
        "### Regression using a DNN and a single input"
      ]
    },
    {
      "cell_type": "markdown",
      "metadata": {
        "id": "xvu9gtxTZR5V"
      },
      "source": [
        "Create a DNN model with only `'Weight'` as input and `weight_normalizer` (defined earlier) as the normalization layer:"
      ]
    },
    {
      "cell_type": "code",
      "execution_count": 179,
      "metadata": {
        "execution": {
          "iopub.execute_input": "2022-12-27T02:22:11.116490Z",
          "iopub.status.busy": "2022-12-27T02:22:11.115832Z",
          "iopub.status.idle": "2022-12-27T02:22:11.160117Z",
          "shell.execute_reply": "2022-12-27T02:22:11.159505Z"
        },
        "id": "cGbPb-PHGbhs"
      },
      "outputs": [],
      "source": [
        "dnn_weight_model = build_and_compile_model(weight_normalizer)"
      ]
    },
    {
      "cell_type": "markdown",
      "metadata": {
        "id": "Sj49Og4YGULr"
      },
      "source": [
        "This model has quite a few more trainable parameters than the linear models:"
      ]
    },
    {
      "cell_type": "code",
      "execution_count": 180,
      "metadata": {
        "colab": {
          "base_uri": "https://localhost:8080/"
        },
        "execution": {
          "iopub.execute_input": "2022-12-27T02:22:11.163797Z",
          "iopub.status.busy": "2022-12-27T02:22:11.163230Z",
          "iopub.status.idle": "2022-12-27T02:22:11.175948Z",
          "shell.execute_reply": "2022-12-27T02:22:11.175423Z"
        },
        "id": "ReAD0n6MsFK-",
        "outputId": "64692dca-97a9-4ebf-9613-c21554af5e39"
      },
      "outputs": [
        {
          "output_type": "stream",
          "name": "stdout",
          "text": [
            "Model: \"sequential_21\"\n",
            "_________________________________________________________________\n",
            " Layer (type)                Output Shape              Param #   \n",
            "=================================================================\n",
            " normalization_5 (Normalizat  (None, 1)                3         \n",
            " ion)                                                            \n",
            "                                                                 \n",
            " dense_42 (Dense)            (None, 64)                128       \n",
            "                                                                 \n",
            " dense_43 (Dense)            (None, 64)                4160      \n",
            "                                                                 \n",
            " dense_44 (Dense)            (None, 1)                 65        \n",
            "                                                                 \n",
            "=================================================================\n",
            "Total params: 4,356\n",
            "Trainable params: 4,353\n",
            "Non-trainable params: 3\n",
            "_________________________________________________________________\n"
          ]
        }
      ],
      "source": [
        "dnn_weight_model.summary()"
      ]
    },
    {
      "cell_type": "markdown",
      "metadata": {
        "id": "0-qWCsh6DlyH"
      },
      "source": [
        "Train the model with Keras `Model.fit`:"
      ]
    },
    {
      "cell_type": "code",
      "execution_count": 182,
      "metadata": {
        "colab": {
          "base_uri": "https://localhost:8080/"
        },
        "execution": {
          "iopub.execute_input": "2022-12-27T02:22:11.182996Z",
          "iopub.status.busy": "2022-12-27T02:22:11.182580Z",
          "iopub.status.idle": "2022-12-27T02:22:16.684968Z",
          "shell.execute_reply": "2022-12-27T02:22:16.684099Z"
        },
        "id": "sD7qHCmNIOY0",
        "outputId": "b69f91bf-b181-4458-8a8f-d7c13dbd205c"
      },
      "outputs": [
        {
          "output_type": "stream",
          "name": "stdout",
          "text": [
            "CPU times: user 6.04 s, sys: 152 ms, total: 6.2 s\n",
            "Wall time: 11.5 s\n"
          ]
        }
      ],
      "source": [
        "%%time\n",
        "history = dnn_weight_model.fit(\n",
        "    train_features[' Weight'],\n",
        "    train_labels,\n",
        "    validation_split=0.2,\n",
        "    verbose=0, epochs=100)"
      ]
    },
    {
      "cell_type": "markdown",
      "metadata": {
        "id": "dArGGxHxcKjN"
      },
      "source": [
        "This model does slightly better than the linear single-input `weight_model`:"
      ]
    },
    {
      "cell_type": "code",
      "execution_count": 183,
      "metadata": {
        "colab": {
          "base_uri": "https://localhost:8080/",
          "height": 455
        },
        "execution": {
          "iopub.execute_input": "2022-12-27T02:22:16.688395Z",
          "iopub.status.busy": "2022-12-27T02:22:16.688128Z",
          "iopub.status.idle": "2022-12-27T02:22:16.828790Z",
          "shell.execute_reply": "2022-12-27T02:22:16.828218Z"
        },
        "id": "NcF6UWjdCU8T",
        "outputId": "b7b2a7af-4569-4342-a505-81b6bd1f89b4"
      },
      "outputs": [
        {
          "output_type": "display_data",
          "data": {
            "text/plain": [
              "<Figure size 640x480 with 1 Axes>"
            ],
            "image/png": "[encoded data removed]"
          },
          "metadata": {}
        }
      ],
      "source": [
        "plot_loss(history)"
      ]
    },
    {
      "cell_type": "markdown",
      "metadata": {
        "id": "TG1snlpR2QCK"
      },
      "source": [
        "this model takes advantage of the nonlinearity provided by the hidden layers:"
      ]
    },
    {
      "cell_type": "code",
      "execution_count": 184,
      "metadata": {
        "colab": {
          "base_uri": "https://localhost:8080/"
        },
        "execution": {
          "iopub.execute_input": "2022-12-27T02:22:16.832178Z",
          "iopub.status.busy": "2022-12-27T02:22:16.831452Z",
          "iopub.status.idle": "2022-12-27T02:22:16.941695Z",
          "shell.execute_reply": "2022-12-27T02:22:16.941017Z"
        },
        "id": "hPF53Rem14NS",
        "outputId": "e6a2a701-b055-44d7-8340-5f08142bbada"
      },
      "outputs": [
        {
          "output_type": "stream",
          "name": "stdout",
          "text": [
            "8/8 [==============================] - 0s 2ms/step\n"
          ]
        }
      ],
      "source": [
        "x = tf.linspace(0.0, 250, 251)\n",
        "y = dnn_weight_model.predict(x)"
      ]
    },
    {
      "cell_type": "code",
      "execution_count": 185,
      "metadata": {
        "colab": {
          "base_uri": "https://localhost:8080/",
          "height": 449
        },
        "execution": {
          "iopub.execute_input": "2022-12-27T02:22:16.945325Z",
          "iopub.status.busy": "2022-12-27T02:22:16.944616Z",
          "iopub.status.idle": "2022-12-27T02:22:17.260050Z",
          "shell.execute_reply": "2022-12-27T02:22:17.259422Z"
        },
        "id": "rsf9rD8I17Wq",
        "outputId": "b59501c3-0997-4da5-da5b-75031c912533"
      },
      "outputs": [
        {
          "output_type": "display_data",
          "data": {
            "text/plain": [
              "<Figure size 640x480 with 1 Axes>"
            ],
            "image/png": "[encoded data removed]"
          },
          "metadata": {}
        }
      ],
      "source": [
        "plot_weight(x, y)"
      ]
    },
    {
      "cell_type": "markdown",
      "metadata": {
        "id": "WxCJKIUpe4io"
      },
      "source": [
        "Collect the results on the test set for later:"
      ]
    },
    {
      "cell_type": "code",
      "execution_count": 186,
      "metadata": {
        "execution": {
          "iopub.execute_input": "2022-12-27T02:22:17.263414Z",
          "iopub.status.busy": "2022-12-27T02:22:17.263171Z",
          "iopub.status.idle": "2022-12-27T02:22:17.328590Z",
          "shell.execute_reply": "2022-12-27T02:22:17.327769Z"
        },
        "id": "bJjM0dU52XtN"
      },
      "outputs": [],
      "source": [
        "test_results['dnn_weight_model'] = dnn_weight_model.evaluate(\n",
        "    test_features[' Weight'], test_labels,\n",
        "    verbose=0)"
      ]
    },
    {
      "cell_type": "code",
      "source": [
        "test_results"
      ],
      "metadata": {
        "colab": {
          "base_uri": "https://localhost:8080/"
        },
        "id": "L-8uRICpbZ0Z",
        "outputId": "ea5c75b9-5c8c-4326-f8ae-a838258c9b20"
      },
      "execution_count": 187,
      "outputs": [
        {
          "output_type": "execute_result",
          "data": {
            "text/plain": [
              "{'linear_female_model': 3.4650471210479736,\n",
              " 'dnn_weight_model': 3.4198672771453857}"
            ]
          },
          "metadata": {},
          "execution_count": 187
        }
      ]
    },
    {
      "cell_type": "markdown",
      "metadata": {
        "id": "S_2Btebp2e64"
      },
      "source": [
        "### Regression using a DNN and multiple inputs"
      ]
    },
    {
      "cell_type": "markdown",
      "metadata": {
        "id": "aKFtezDldLSf"
      },
      "source": [
        "Repeat the previous process using all the inputs. The model's performance slightly improves on the validation dataset."
      ]
    },
    {
      "cell_type": "code",
      "execution_count": 189,
      "metadata": {
        "colab": {
          "base_uri": "https://localhost:8080/"
        },
        "execution": {
          "iopub.execute_input": "2022-12-27T02:22:17.332495Z",
          "iopub.status.busy": "2022-12-27T02:22:17.331769Z",
          "iopub.status.idle": "2022-12-27T02:22:17.381104Z",
          "shell.execute_reply": "2022-12-27T02:22:17.380455Z"
        },
        "id": "c0mhscXh2k36",
        "outputId": "da894e1c-75bf-41f5-bead-eac7342dc375"
      },
      "outputs": [
        {
          "output_type": "stream",
          "name": "stdout",
          "text": [
            "Model: \"sequential_23\"\n",
            "_________________________________________________________________\n",
            " Layer (type)                Output Shape              Param #   \n",
            "=================================================================\n",
            " normalization_4 (Normalizat  multiple                 35        \n",
            " ion)                                                            \n",
            "                                                                 \n",
            " dense_48 (Dense)            (None, 64)                1152      \n",
            "                                                                 \n",
            " dense_49 (Dense)            (None, 64)                4160      \n",
            "                                                                 \n",
            " dense_50 (Dense)            (None, 1)                 65        \n",
            "                                                                 \n",
            "=================================================================\n",
            "Total params: 5,412\n",
            "Trainable params: 5,377\n",
            "Non-trainable params: 35\n",
            "_________________________________________________________________\n"
          ]
        }
      ],
      "source": [
        "dnn_female_model = build_and_compile_model(normalizer)\n",
        "dnn_female_model.summary()"
      ]
    },
    {
      "cell_type": "code",
      "execution_count": 190,
      "metadata": {
        "colab": {
          "base_uri": "https://localhost:8080/"
        },
        "execution": {
          "iopub.execute_input": "2022-12-27T02:22:17.388131Z",
          "iopub.status.busy": "2022-12-27T02:22:17.387876Z",
          "iopub.status.idle": "2022-12-27T02:22:22.936845Z",
          "shell.execute_reply": "2022-12-27T02:22:22.936082Z"
        },
        "id": "CXDENACl2tuW",
        "outputId": "68911cac-f645-49b5-c354-7ff6161d14d9"
      },
      "outputs": [
        {
          "output_type": "stream",
          "name": "stdout",
          "text": [
            "CPU times: user 6.03 s, sys: 190 ms, total: 6.22 s\n",
            "Wall time: 8.63 s\n"
          ]
        }
      ],
      "source": [
        "%%time\n",
        "history = dnn_female_model.fit(\n",
        "    train_features,\n",
        "    train_labels,\n",
        "    validation_split=0.2,\n",
        "    verbose=0, epochs=100)"
      ]
    },
    {
      "cell_type": "code",
      "execution_count": 191,
      "metadata": {
        "colab": {
          "base_uri": "https://localhost:8080/",
          "height": 455
        },
        "execution": {
          "iopub.execute_input": "2022-12-27T02:22:22.940250Z",
          "iopub.status.busy": "2022-12-27T02:22:22.939645Z",
          "iopub.status.idle": "2022-12-27T02:22:23.080628Z",
          "shell.execute_reply": "2022-12-27T02:22:23.079973Z"
        },
        "id": "-9Dbj0fX23RQ",
        "outputId": "32b01070-7c89-448f-b0b4-263e4c9d4dc0"
      },
      "outputs": [
        {
          "output_type": "display_data",
          "data": {
            "text/plain": [
              "<Figure size 640x480 with 1 Axes>"
            ],
            "image/png": "[encoded data removed]"
          },
          "metadata": {}
        }
      ],
      "source": [
        "plot_loss(history)"
      ]
    },
    {
      "cell_type": "code",
      "source": [
        "y_pred = dnn_female_model.predict(test_features).flatten()\n",
        "\n",
        "a = plt.axes(aspect='equal')\n",
        "plt.scatter(test_labels, y_pred)\n",
        "plt.xlabel('True values')\n",
        "plt.ylabel('Predicted values')\n",
        "plt.title('A plot that shows the true and predicted values')\n",
        "plt.xlim([0, 60])\n",
        "plt.ylim([0, 60])\n",
        "plt.plot([0, 60], [0, 60])"
      ],
      "metadata": {
        "colab": {
          "base_uri": "https://localhost:8080/",
          "height": 508
        },
        "id": "1_DKoUnetQj9",
        "outputId": "2c27798e-af7b-4b86-cf93-067e29e02bab"
      },
      "execution_count": 192,
      "outputs": [
        {
          "output_type": "stream",
          "name": "stdout",
          "text": [
            "2/2 [==============================] - 0s 6ms/step\n"
          ]
        },
        {
          "output_type": "execute_result",
          "data": {
            "text/plain": [
              "[<matplotlib.lines.Line2D at 0x7fe63df40b80>]"
            ]
          },
          "metadata": {},
          "execution_count": 192
        },
        {
          "output_type": "display_data",
          "data": {
            "text/plain": [
              "<Figure size 640x480 with 1 Axes>"
            ],
            "image/png": "[encoded data removed]"
          },
          "metadata": {}
        }
      ]
    },
    {
      "cell_type": "markdown",
      "metadata": {
        "id": "hWoVYS34fJPZ"
      },
      "source": [
        "Collect the results on the test set:"
      ]
    },
    {
      "cell_type": "code",
      "execution_count": 193,
      "metadata": {
        "execution": {
          "iopub.execute_input": "2022-12-27T02:22:23.083756Z",
          "iopub.status.busy": "2022-12-27T02:22:23.083521Z",
          "iopub.status.idle": "2022-12-27T02:22:23.150917Z",
          "shell.execute_reply": "2022-12-27T02:22:23.150249Z"
        },
        "id": "-bZIa96W3c7K"
      },
      "outputs": [],
      "source": [
        "test_results['dnn_female_model'] = dnn_female_model.evaluate(test_features, test_labels, verbose=0)"
      ]
    },
    {
      "cell_type": "code",
      "source": [
        "test_results"
      ],
      "metadata": {
        "colab": {
          "base_uri": "https://localhost:8080/"
        },
        "id": "UeiEYnqNb_mO",
        "outputId": "c4c3b2e2-56f0-4f67-901a-a8898b1820ca"
      },
      "execution_count": 194,
      "outputs": [
        {
          "output_type": "execute_result",
          "data": {
            "text/plain": [
              "{'linear_female_model': 3.4650471210479736,\n",
              " 'dnn_weight_model': 3.4198672771453857,\n",
              " 'dnn_female_model': 3.74932861328125}"
            ]
          },
          "metadata": {},
          "execution_count": 194
        }
      ]
    },
    {
      "cell_type": "markdown",
      "metadata": {
        "id": "0fLkem0kJGgA"
      },
      "source": [
        "## Building a Multilayer Neural Network with Tensorflow Keras. "
      ]
    },
    {
      "cell_type": "code",
      "execution_count": 195,
      "metadata": {
        "id": "HQSSiz1qJQIL"
      },
      "outputs": [],
      "source": [
        "# import the necessary libraries\n",
        "import pandas as pd\n",
        "import matplotlib.pyplot as plt\n",
        "import seaborn as sns\n",
        "import numpy as np\n",
        "from statsmodels.stats.outliers_influence import variance_inflation_factor as vif\n",
        "from sklearn.decomposition import PCA\n",
        "from sklearn.preprocessing import RobustScaler\n",
        "from sklearn.preprocessing import MinMaxScaler\n",
        "from sklearn.model_selection import train_test_split\n",
        "import tensorflow as tf\n",
        "from tensorflow.keras import Sequential\n",
        "from tensorflow.keras.layers import Dense\n",
        "#rescale the data to be robust to outliers\n",
        "scaler = RobustScaler()\n",
        "scaler.fit(train_features)\n",
        "X_train = scaler.transform(train_features)\n",
        "X_test = scaler.transform(test_features)\n",
        "\n",
        "\n",
        "#built the neural network architecture\n",
        "NNF_model = Sequential()\n",
        "NNF_model.add(Dense(15, input_dim=17, activation='relu'))\n",
        "NNF_model.add(Dense(1, activation='linear'))"
      ]
    },
    {
      "cell_type": "code",
      "execution_count": 196,
      "metadata": {
        "id": "wE2xTQCdJq2V"
      },
      "outputs": [],
      "source": [
        "NNF_model.compile(loss='mae', optimizer='adam')"
      ]
    },
    {
      "cell_type": "code",
      "execution_count": 199,
      "metadata": {
        "colab": {
          "base_uri": "https://localhost:8080/"
        },
        "id": "WEhL4bTzJtzr",
        "outputId": "2d396243-0731-41cf-e43c-abead7ced79e"
      },
      "outputs": [
        {
          "output_type": "stream",
          "name": "stdout",
          "text": [
            "Epoch 1/200\n",
            "4/4 [==============================] - 0s 12ms/step - loss: 4.1468 - val_loss: 4.0036\n",
            "Epoch 2/200\n",
            "4/4 [==============================] - 0s 12ms/step - loss: 4.1461 - val_loss: 4.0265\n",
            "Epoch 3/200\n",
            "4/4 [==============================] - 0s 12ms/step - loss: 4.1425 - val_loss: 4.0117\n",
            "Epoch 4/200\n",
            "4/4 [==============================] - 0s 12ms/step - loss: 4.1436 - val_loss: 4.0023\n",
            "Epoch 5/200\n",
            "4/4 [==============================] - 0s 11ms/step - loss: 4.1341 - val_loss: 3.9657\n",
            "Epoch 6/200\n",
            "4/4 [==============================] - 0s 11ms/step - loss: 4.1323 - val_loss: 3.9512\n",
            "Epoch 7/200\n",
            "4/4 [==============================] - 0s 12ms/step - loss: 4.1328 - val_loss: 3.9130\n",
            "Epoch 8/200\n",
            "4/4 [==============================] - 0s 11ms/step - loss: 4.1389 - val_loss: 3.8950\n",
            "Epoch 9/200\n",
            "4/4 [==============================] - 0s 12ms/step - loss: 4.1272 - val_loss: 3.9291\n",
            "Epoch 10/200\n",
            "4/4 [==============================] - 0s 12ms/step - loss: 4.1277 - val_loss: 3.9890\n",
            "Epoch 11/200\n",
            "4/4 [==============================] - 0s 14ms/step - loss: 4.1207 - val_loss: 4.0004\n",
            "Epoch 12/200\n",
            "4/4 [==============================] - 0s 11ms/step - loss: 4.1463 - val_loss: 4.0280\n",
            "Epoch 13/200\n",
            "4/4 [==============================] - 0s 12ms/step - loss: 4.1333 - val_loss: 3.9352\n",
            "Epoch 14/200\n",
            "4/4 [==============================] - 0s 14ms/step - loss: 4.1118 - val_loss: 3.9087\n",
            "Epoch 15/200\n",
            "4/4 [==============================] - 0s 13ms/step - loss: 4.1142 - val_loss: 3.8871\n",
            "Epoch 16/200\n",
            "4/4 [==============================] - 0s 13ms/step - loss: 4.1099 - val_loss: 3.9048\n",
            "Epoch 17/200\n",
            "4/4 [==============================] - 0s 13ms/step - loss: 4.1031 - val_loss: 3.9173\n",
            "Epoch 18/200\n",
            "4/4 [==============================] - 0s 12ms/step - loss: 4.1123 - val_loss: 3.9588\n",
            "Epoch 19/200\n",
            "4/4 [==============================] - 0s 17ms/step - loss: 4.1005 - val_loss: 3.9314\n",
            "Epoch 20/200\n",
            "4/4 [==============================] - 0s 13ms/step - loss: 4.0943 - val_loss: 3.9058\n",
            "Epoch 21/200\n",
            "4/4 [==============================] - 0s 13ms/step - loss: 4.0937 - val_loss: 3.8866\n",
            "Epoch 22/200\n",
            "4/4 [==============================] - 0s 13ms/step - loss: 4.0905 - val_loss: 3.8540\n",
            "Epoch 23/200\n",
            "4/4 [==============================] - 0s 15ms/step - loss: 4.0932 - val_loss: 3.8758\n",
            "Epoch 24/200\n",
            "4/4 [==============================] - 0s 14ms/step - loss: 4.0865 - val_loss: 3.8520\n",
            "Epoch 25/200\n",
            "4/4 [==============================] - 0s 13ms/step - loss: 4.0997 - val_loss: 3.8311\n",
            "Epoch 26/200\n",
            "4/4 [==============================] - 0s 13ms/step - loss: 4.0916 - val_loss: 3.9031\n",
            "Epoch 27/200\n",
            "4/4 [==============================] - 0s 16ms/step - loss: 4.0778 - val_loss: 3.9196\n",
            "Epoch 28/200\n",
            "4/4 [==============================] - 0s 13ms/step - loss: 4.0748 - val_loss: 3.9078\n",
            "Epoch 29/200\n",
            "4/4 [==============================] - 0s 12ms/step - loss: 4.0751 - val_loss: 3.9224\n",
            "Epoch 30/200\n",
            "4/4 [==============================] - 0s 14ms/step - loss: 4.0703 - val_loss: 3.8842\n",
            "Epoch 31/200\n",
            "4/4 [==============================] - 0s 12ms/step - loss: 4.0804 - val_loss: 3.8446\n",
            "Epoch 32/200\n",
            "4/4 [==============================] - 0s 14ms/step - loss: 4.0613 - val_loss: 3.8596\n",
            "Epoch 33/200\n",
            "4/4 [==============================] - 0s 16ms/step - loss: 4.0600 - val_loss: 3.8902\n",
            "Epoch 34/200\n",
            "4/4 [==============================] - 0s 13ms/step - loss: 4.0571 - val_loss: 3.8845\n",
            "Epoch 35/200\n",
            "4/4 [==============================] - 0s 13ms/step - loss: 4.0579 - val_loss: 3.8840\n",
            "Epoch 36/200\n",
            "4/4 [==============================] - 0s 12ms/step - loss: 4.0546 - val_loss: 3.8358\n",
            "Epoch 37/200\n",
            "4/4 [==============================] - 0s 11ms/step - loss: 4.0487 - val_loss: 3.8337\n",
            "Epoch 38/200\n",
            "4/4 [==============================] - 0s 13ms/step - loss: 4.0702 - val_loss: 3.7871\n",
            "Epoch 39/200\n",
            "4/4 [==============================] - 0s 11ms/step - loss: 4.0409 - val_loss: 3.8379\n",
            "Epoch 40/200\n",
            "4/4 [==============================] - 0s 11ms/step - loss: 4.0573 - val_loss: 3.9011\n",
            "Epoch 41/200\n",
            "4/4 [==============================] - 0s 12ms/step - loss: 4.0421 - val_loss: 3.8306\n",
            "Epoch 42/200\n",
            "4/4 [==============================] - 0s 12ms/step - loss: 4.0469 - val_loss: 3.7824\n",
            "Epoch 43/200\n",
            "4/4 [==============================] - 0s 11ms/step - loss: 4.0331 - val_loss: 3.8159\n",
            "Epoch 44/200\n",
            "4/4 [==============================] - 0s 13ms/step - loss: 4.0490 - val_loss: 3.8861\n",
            "Epoch 45/200\n",
            "4/4 [==============================] - 0s 11ms/step - loss: 4.0439 - val_loss: 3.8687\n",
            "Epoch 46/200\n",
            "4/4 [==============================] - 0s 11ms/step - loss: 4.0147 - val_loss: 3.7667\n",
            "Epoch 47/200\n",
            "4/4 [==============================] - 0s 11ms/step - loss: 4.0947 - val_loss: 3.6649\n",
            "Epoch 48/200\n",
            "4/4 [==============================] - 0s 14ms/step - loss: 4.0397 - val_loss: 3.7444\n",
            "Epoch 49/200\n",
            "4/4 [==============================] - 0s 11ms/step - loss: 4.0352 - val_loss: 3.8375\n",
            "Epoch 50/200\n",
            "4/4 [==============================] - 0s 12ms/step - loss: 4.0195 - val_loss: 3.8235\n",
            "Epoch 51/200\n",
            "4/4 [==============================] - 0s 11ms/step - loss: 4.0096 - val_loss: 3.7977\n",
            "Epoch 52/200\n",
            "4/4 [==============================] - 0s 18ms/step - loss: 4.0090 - val_loss: 3.8026\n",
            "Epoch 53/200\n",
            "4/4 [==============================] - 0s 11ms/step - loss: 4.0056 - val_loss: 3.7778\n",
            "Epoch 54/200\n",
            "4/4 [==============================] - 0s 12ms/step - loss: 3.9987 - val_loss: 3.7633\n",
            "Epoch 55/200\n",
            "4/4 [==============================] - 0s 14ms/step - loss: 3.9969 - val_loss: 3.7742\n",
            "Epoch 56/200\n",
            "4/4 [==============================] - 0s 12ms/step - loss: 3.9970 - val_loss: 3.7564\n",
            "Epoch 57/200\n",
            "4/4 [==============================] - 0s 13ms/step - loss: 3.9966 - val_loss: 3.8101\n",
            "Epoch 58/200\n",
            "4/4 [==============================] - 0s 13ms/step - loss: 4.0029 - val_loss: 3.8060\n",
            "Epoch 59/200\n",
            "4/4 [==============================] - 0s 13ms/step - loss: 3.9874 - val_loss: 3.7548\n",
            "Epoch 60/200\n",
            "4/4 [==============================] - 0s 12ms/step - loss: 3.9965 - val_loss: 3.7162\n",
            "Epoch 61/200\n",
            "4/4 [==============================] - 0s 12ms/step - loss: 3.9939 - val_loss: 3.6925\n",
            "Epoch 62/200\n",
            "4/4 [==============================] - 0s 13ms/step - loss: 4.0037 - val_loss: 3.7599\n",
            "Epoch 63/200\n",
            "4/4 [==============================] - 0s 13ms/step - loss: 3.9796 - val_loss: 3.7441\n",
            "Epoch 64/200\n",
            "4/4 [==============================] - 0s 12ms/step - loss: 3.9753 - val_loss: 3.7373\n",
            "Epoch 65/200\n",
            "4/4 [==============================] - 0s 14ms/step - loss: 3.9738 - val_loss: 3.7374\n",
            "Epoch 66/200\n",
            "4/4 [==============================] - 0s 13ms/step - loss: 3.9663 - val_loss: 3.7202\n",
            "Epoch 67/200\n",
            "4/4 [==============================] - 0s 19ms/step - loss: 3.9651 - val_loss: 3.7077\n",
            "Epoch 68/200\n",
            "4/4 [==============================] - 0s 13ms/step - loss: 3.9648 - val_loss: 3.7211\n",
            "Epoch 69/200\n",
            "4/4 [==============================] - 0s 14ms/step - loss: 3.9604 - val_loss: 3.7153\n",
            "Epoch 70/200\n",
            "4/4 [==============================] - 0s 13ms/step - loss: 3.9595 - val_loss: 3.7245\n",
            "Epoch 71/200\n",
            "4/4 [==============================] - 0s 13ms/step - loss: 3.9550 - val_loss: 3.6954\n",
            "Epoch 72/200\n",
            "4/4 [==============================] - 0s 13ms/step - loss: 3.9529 - val_loss: 3.6621\n",
            "Epoch 73/200\n",
            "4/4 [==============================] - 0s 13ms/step - loss: 3.9582 - val_loss: 3.6721\n",
            "Epoch 74/200\n",
            "4/4 [==============================] - 0s 19ms/step - loss: 3.9590 - val_loss: 3.6639\n",
            "Epoch 75/200\n",
            "4/4 [==============================] - 0s 13ms/step - loss: 3.9515 - val_loss: 3.6292\n",
            "Epoch 76/200\n",
            "4/4 [==============================] - 0s 16ms/step - loss: 3.9590 - val_loss: 3.6170\n",
            "Epoch 77/200\n",
            "4/4 [==============================] - 0s 19ms/step - loss: 3.9437 - val_loss: 3.6641\n",
            "Epoch 78/200\n",
            "4/4 [==============================] - 0s 18ms/step - loss: 3.9336 - val_loss: 3.7333\n",
            "Epoch 79/200\n",
            "4/4 [==============================] - 0s 26ms/step - loss: 3.9491 - val_loss: 3.7512\n",
            "Epoch 80/200\n",
            "4/4 [==============================] - 0s 24ms/step - loss: 3.9632 - val_loss: 3.7222\n",
            "Epoch 81/200\n",
            "4/4 [==============================] - 0s 26ms/step - loss: 3.9350 - val_loss: 3.6721\n",
            "Epoch 82/200\n",
            "4/4 [==============================] - 0s 17ms/step - loss: 3.9206 - val_loss: 3.6130\n",
            "Epoch 83/200\n",
            "4/4 [==============================] - 0s 19ms/step - loss: 3.9544 - val_loss: 3.5539\n",
            "Epoch 84/200\n",
            "4/4 [==============================] - 0s 23ms/step - loss: 3.9451 - val_loss: 3.5871\n",
            "Epoch 85/200\n",
            "4/4 [==============================] - 0s 18ms/step - loss: 3.9041 - val_loss: 3.7283\n",
            "Epoch 86/200\n",
            "4/4 [==============================] - 0s 17ms/step - loss: 3.9451 - val_loss: 3.8355\n",
            "Epoch 87/200\n",
            "4/4 [==============================] - 0s 25ms/step - loss: 3.9711 - val_loss: 3.7968\n",
            "Epoch 88/200\n",
            "4/4 [==============================] - 0s 25ms/step - loss: 3.9269 - val_loss: 3.6408\n",
            "Epoch 89/200\n",
            "4/4 [==============================] - 0s 23ms/step - loss: 3.9175 - val_loss: 3.5428\n",
            "Epoch 90/200\n",
            "4/4 [==============================] - 0s 21ms/step - loss: 3.9225 - val_loss: 3.5460\n",
            "Epoch 91/200\n",
            "4/4 [==============================] - 0s 19ms/step - loss: 3.9136 - val_loss: 3.5825\n",
            "Epoch 92/200\n",
            "4/4 [==============================] - 0s 21ms/step - loss: 3.8956 - val_loss: 3.6561\n",
            "Epoch 93/200\n",
            "4/4 [==============================] - 0s 32ms/step - loss: 3.9157 - val_loss: 3.7475\n",
            "Epoch 94/200\n",
            "4/4 [==============================] - 0s 25ms/step - loss: 3.9385 - val_loss: 3.7455\n",
            "Epoch 95/200\n",
            "4/4 [==============================] - 0s 19ms/step - loss: 3.9213 - val_loss: 3.6116\n",
            "Epoch 96/200\n",
            "4/4 [==============================] - 0s 18ms/step - loss: 3.8986 - val_loss: 3.5312\n",
            "Epoch 97/200\n",
            "4/4 [==============================] - 0s 16ms/step - loss: 3.8987 - val_loss: 3.5302\n",
            "Epoch 98/200\n",
            "4/4 [==============================] - 0s 23ms/step - loss: 3.8958 - val_loss: 3.5450\n",
            "Epoch 99/200\n",
            "4/4 [==============================] - 0s 17ms/step - loss: 3.8881 - val_loss: 3.5898\n",
            "Epoch 100/200\n",
            "4/4 [==============================] - 0s 21ms/step - loss: 3.8930 - val_loss: 3.5987\n",
            "Epoch 101/200\n",
            "4/4 [==============================] - 0s 17ms/step - loss: 3.8852 - val_loss: 3.6525\n",
            "Epoch 102/200\n",
            "4/4 [==============================] - 0s 20ms/step - loss: 3.8874 - val_loss: 3.6270\n",
            "Epoch 103/200\n",
            "4/4 [==============================] - 0s 23ms/step - loss: 3.8831 - val_loss: 3.5689\n",
            "Epoch 104/200\n",
            "4/4 [==============================] - 0s 22ms/step - loss: 3.8804 - val_loss: 3.5180\n",
            "Epoch 105/200\n",
            "4/4 [==============================] - 0s 27ms/step - loss: 3.8789 - val_loss: 3.5270\n",
            "Epoch 106/200\n",
            "4/4 [==============================] - 0s 16ms/step - loss: 3.8833 - val_loss: 3.5159\n",
            "Epoch 107/200\n",
            "4/4 [==============================] - 0s 16ms/step - loss: 3.8819 - val_loss: 3.5996\n",
            "Epoch 108/200\n",
            "4/4 [==============================] - 0s 15ms/step - loss: 3.8889 - val_loss: 3.6215\n",
            "Epoch 109/200\n",
            "4/4 [==============================] - 0s 18ms/step - loss: 3.8771 - val_loss: 3.5567\n",
            "Epoch 110/200\n",
            "4/4 [==============================] - 0s 17ms/step - loss: 3.8622 - val_loss: 3.5484\n",
            "Epoch 111/200\n",
            "4/4 [==============================] - 0s 22ms/step - loss: 3.8621 - val_loss: 3.5162\n",
            "Epoch 112/200\n",
            "4/4 [==============================] - 0s 26ms/step - loss: 3.8644 - val_loss: 3.5243\n",
            "Epoch 113/200\n",
            "4/4 [==============================] - 0s 21ms/step - loss: 3.8603 - val_loss: 3.5257\n",
            "Epoch 114/200\n",
            "4/4 [==============================] - 0s 24ms/step - loss: 3.8581 - val_loss: 3.5725\n",
            "Epoch 115/200\n",
            "4/4 [==============================] - 0s 19ms/step - loss: 3.8591 - val_loss: 3.5885\n",
            "Epoch 116/200\n",
            "4/4 [==============================] - 0s 19ms/step - loss: 3.8497 - val_loss: 3.5374\n",
            "Epoch 117/200\n",
            "4/4 [==============================] - 0s 23ms/step - loss: 3.8496 - val_loss: 3.4976\n",
            "Epoch 118/200\n",
            "4/4 [==============================] - 0s 17ms/step - loss: 3.8506 - val_loss: 3.4736\n",
            "Epoch 119/200\n",
            "4/4 [==============================] - 0s 18ms/step - loss: 3.8539 - val_loss: 3.4862\n",
            "Epoch 120/200\n",
            "4/4 [==============================] - 0s 23ms/step - loss: 3.8337 - val_loss: 3.5472\n",
            "Epoch 121/200\n",
            "4/4 [==============================] - 0s 24ms/step - loss: 3.8550 - val_loss: 3.6073\n",
            "Epoch 122/200\n",
            "4/4 [==============================] - 0s 35ms/step - loss: 3.8546 - val_loss: 3.5292\n",
            "Epoch 123/200\n",
            "4/4 [==============================] - 0s 22ms/step - loss: 3.8465 - val_loss: 3.5493\n",
            "Epoch 124/200\n",
            "4/4 [==============================] - 0s 13ms/step - loss: 3.8260 - val_loss: 3.4935\n",
            "Epoch 125/200\n",
            "4/4 [==============================] - 0s 13ms/step - loss: 3.8293 - val_loss: 3.4774\n",
            "Epoch 126/200\n",
            "4/4 [==============================] - 0s 14ms/step - loss: 3.8332 - val_loss: 3.4911\n",
            "Epoch 127/200\n",
            "4/4 [==============================] - 0s 20ms/step - loss: 3.8290 - val_loss: 3.5097\n",
            "Epoch 128/200\n",
            "4/4 [==============================] - 0s 14ms/step - loss: 3.8312 - val_loss: 3.4600\n",
            "Epoch 129/200\n",
            "4/4 [==============================] - 0s 14ms/step - loss: 3.8152 - val_loss: 3.4915\n",
            "Epoch 130/200\n",
            "4/4 [==============================] - 0s 14ms/step - loss: 3.8090 - val_loss: 3.5317\n",
            "Epoch 131/200\n",
            "4/4 [==============================] - 0s 16ms/step - loss: 3.8517 - val_loss: 3.5938\n",
            "Epoch 132/200\n",
            "4/4 [==============================] - 0s 15ms/step - loss: 3.8811 - val_loss: 3.4514\n",
            "Epoch 133/200\n",
            "4/4 [==============================] - 0s 17ms/step - loss: 3.8193 - val_loss: 3.4805\n",
            "Epoch 134/200\n",
            "4/4 [==============================] - 0s 12ms/step - loss: 3.8128 - val_loss: 3.5058\n",
            "Epoch 135/200\n",
            "4/4 [==============================] - 0s 14ms/step - loss: 3.8186 - val_loss: 3.4703\n",
            "Epoch 136/200\n",
            "4/4 [==============================] - 0s 12ms/step - loss: 3.8098 - val_loss: 3.4451\n",
            "Epoch 137/200\n",
            "4/4 [==============================] - 0s 12ms/step - loss: 3.7978 - val_loss: 3.4873\n",
            "Epoch 138/200\n",
            "4/4 [==============================] - 0s 12ms/step - loss: 3.8280 - val_loss: 3.5244\n",
            "Epoch 139/200\n",
            "4/4 [==============================] - 0s 12ms/step - loss: 3.8053 - val_loss: 3.4465\n",
            "Epoch 140/200\n",
            "4/4 [==============================] - 0s 13ms/step - loss: 3.7945 - val_loss: 3.4332\n",
            "Epoch 141/200\n",
            "4/4 [==============================] - 0s 12ms/step - loss: 3.7888 - val_loss: 3.4725\n",
            "Epoch 142/200\n",
            "4/4 [==============================] - 0s 11ms/step - loss: 3.7904 - val_loss: 3.4795\n",
            "Epoch 143/200\n",
            "4/4 [==============================] - 0s 14ms/step - loss: 3.7929 - val_loss: 3.4987\n",
            "Epoch 144/200\n",
            "4/4 [==============================] - 0s 12ms/step - loss: 3.7845 - val_loss: 3.4266\n",
            "Epoch 145/200\n",
            "4/4 [==============================] - 0s 17ms/step - loss: 3.7790 - val_loss: 3.4110\n",
            "Epoch 146/200\n",
            "4/4 [==============================] - 0s 19ms/step - loss: 3.7860 - val_loss: 3.4007\n",
            "Epoch 147/200\n",
            "4/4 [==============================] - 0s 12ms/step - loss: 3.7832 - val_loss: 3.4058\n",
            "Epoch 148/200\n",
            "4/4 [==============================] - 0s 11ms/step - loss: 3.7956 - val_loss: 3.4849\n",
            "Epoch 149/200\n",
            "4/4 [==============================] - 0s 19ms/step - loss: 3.7820 - val_loss: 3.4958\n",
            "Epoch 150/200\n",
            "4/4 [==============================] - 0s 14ms/step - loss: 3.7753 - val_loss: 3.4158\n",
            "Epoch 151/200\n",
            "4/4 [==============================] - 0s 12ms/step - loss: 3.7684 - val_loss: 3.3860\n",
            "Epoch 152/200\n",
            "4/4 [==============================] - 0s 12ms/step - loss: 3.7735 - val_loss: 3.3776\n",
            "Epoch 153/200\n",
            "4/4 [==============================] - 0s 15ms/step - loss: 3.7596 - val_loss: 3.4629\n",
            "Epoch 154/200\n",
            "4/4 [==============================] - 0s 13ms/step - loss: 3.7685 - val_loss: 3.4605\n",
            "Epoch 155/200\n",
            "4/4 [==============================] - 0s 13ms/step - loss: 3.7635 - val_loss: 3.4446\n",
            "Epoch 156/200\n",
            "4/4 [==============================] - 0s 14ms/step - loss: 3.7504 - val_loss: 3.4034\n",
            "Epoch 157/200\n",
            "4/4 [==============================] - 0s 13ms/step - loss: 3.7447 - val_loss: 3.3276\n",
            "Epoch 158/200\n",
            "4/4 [==============================] - 0s 16ms/step - loss: 3.7402 - val_loss: 3.3385\n",
            "Epoch 159/200\n",
            "4/4 [==============================] - 0s 15ms/step - loss: 3.7504 - val_loss: 3.5151\n",
            "Epoch 160/200\n",
            "4/4 [==============================] - 0s 14ms/step - loss: 3.7581 - val_loss: 3.4182\n",
            "Epoch 161/200\n",
            "4/4 [==============================] - 0s 14ms/step - loss: 3.7091 - val_loss: 3.3601\n",
            "Epoch 162/200\n",
            "4/4 [==============================] - 0s 15ms/step - loss: 3.7130 - val_loss: 3.2840\n",
            "Epoch 163/200\n",
            "4/4 [==============================] - 0s 14ms/step - loss: 3.7113 - val_loss: 3.2897\n",
            "Epoch 164/200\n",
            "4/4 [==============================] - 0s 13ms/step - loss: 3.7050 - val_loss: 3.3381\n",
            "Epoch 165/200\n",
            "4/4 [==============================] - 0s 12ms/step - loss: 3.7036 - val_loss: 3.3152\n",
            "Epoch 166/200\n",
            "4/4 [==============================] - 0s 13ms/step - loss: 3.7143 - val_loss: 3.3905\n",
            "Epoch 167/200\n",
            "4/4 [==============================] - 0s 15ms/step - loss: 3.7054 - val_loss: 3.2666\n",
            "Epoch 168/200\n",
            "4/4 [==============================] - 0s 14ms/step - loss: 3.6982 - val_loss: 3.3220\n",
            "Epoch 169/200\n",
            "4/4 [==============================] - 0s 13ms/step - loss: 3.7014 - val_loss: 3.2601\n",
            "Epoch 170/200\n",
            "4/4 [==============================] - 0s 13ms/step - loss: 3.7048 - val_loss: 3.3570\n",
            "Epoch 171/200\n",
            "4/4 [==============================] - 0s 13ms/step - loss: 3.6844 - val_loss: 3.2581\n",
            "Epoch 172/200\n",
            "4/4 [==============================] - 0s 15ms/step - loss: 3.6799 - val_loss: 3.2932\n",
            "Epoch 173/200\n",
            "4/4 [==============================] - 0s 14ms/step - loss: 3.6773 - val_loss: 3.2422\n",
            "Epoch 174/200\n",
            "4/4 [==============================] - 0s 13ms/step - loss: 3.6662 - val_loss: 3.2764\n",
            "Epoch 175/200\n",
            "4/4 [==============================] - 0s 15ms/step - loss: 3.6625 - val_loss: 3.3640\n",
            "Epoch 176/200\n",
            "4/4 [==============================] - 0s 14ms/step - loss: 3.6634 - val_loss: 3.3148\n",
            "Epoch 177/200\n",
            "4/4 [==============================] - 0s 15ms/step - loss: 3.6520 - val_loss: 3.2433\n",
            "Epoch 178/200\n",
            "4/4 [==============================] - 0s 14ms/step - loss: 3.6703 - val_loss: 3.2481\n",
            "Epoch 179/200\n",
            "4/4 [==============================] - 0s 19ms/step - loss: 3.6408 - val_loss: 3.2045\n",
            "Epoch 180/200\n",
            "4/4 [==============================] - 0s 13ms/step - loss: 3.6610 - val_loss: 3.2061\n",
            "Epoch 181/200\n",
            "4/4 [==============================] - 0s 13ms/step - loss: 3.6504 - val_loss: 3.2521\n",
            "Epoch 182/200\n",
            "4/4 [==============================] - 0s 14ms/step - loss: 3.6359 - val_loss: 3.2192\n",
            "Epoch 183/200\n",
            "4/4 [==============================] - 0s 15ms/step - loss: 3.6494 - val_loss: 3.2622\n",
            "Epoch 184/200\n",
            "4/4 [==============================] - 0s 13ms/step - loss: 3.6352 - val_loss: 3.2802\n",
            "Epoch 185/200\n",
            "4/4 [==============================] - 0s 14ms/step - loss: 3.6445 - val_loss: 3.2489\n",
            "Epoch 186/200\n",
            "4/4 [==============================] - 0s 14ms/step - loss: 3.6243 - val_loss: 3.2241\n",
            "Epoch 187/200\n",
            "4/4 [==============================] - 0s 14ms/step - loss: 3.6604 - val_loss: 3.2506\n",
            "Epoch 188/200\n",
            "4/4 [==============================] - 0s 14ms/step - loss: 3.6028 - val_loss: 3.1555\n",
            "Epoch 189/200\n",
            "4/4 [==============================] - 0s 13ms/step - loss: 3.6331 - val_loss: 3.1641\n",
            "Epoch 190/200\n",
            "4/4 [==============================] - 0s 18ms/step - loss: 3.6161 - val_loss: 3.2119\n",
            "Epoch 191/200\n",
            "4/4 [==============================] - 0s 15ms/step - loss: 3.6056 - val_loss: 3.2408\n",
            "Epoch 192/200\n",
            "4/4 [==============================] - 0s 14ms/step - loss: 3.6171 - val_loss: 3.1737\n",
            "Epoch 193/200\n",
            "4/4 [==============================] - 0s 13ms/step - loss: 3.5955 - val_loss: 3.2110\n",
            "Epoch 194/200\n",
            "4/4 [==============================] - 0s 13ms/step - loss: 3.5930 - val_loss: 3.2522\n",
            "Epoch 195/200\n",
            "4/4 [==============================] - 0s 19ms/step - loss: 3.5937 - val_loss: 3.1631\n",
            "Epoch 196/200\n",
            "4/4 [==============================] - 0s 14ms/step - loss: 3.5900 - val_loss: 3.1509\n",
            "Epoch 197/200\n",
            "4/4 [==============================] - 0s 13ms/step - loss: 3.5911 - val_loss: 3.1911\n",
            "Epoch 198/200\n",
            "4/4 [==============================] - 0s 14ms/step - loss: 3.5911 - val_loss: 3.2449\n",
            "Epoch 199/200\n",
            "4/4 [==============================] - 0s 16ms/step - loss: 3.5725 - val_loss: 3.1532\n",
            "Epoch 200/200\n",
            "4/4 [==============================] - 0s 14ms/step - loss: 3.5813 - val_loss: 3.1026\n"
          ]
        }
      ],
      "source": [
        "#train the neural network on the train dataset\n",
        "history = NNF_model.fit(train_features, train_labels, epochs=200, validation_split=0.2)"
      ]
    },
    {
      "cell_type": "code",
      "execution_count": 200,
      "metadata": {
        "colab": {
          "base_uri": "https://localhost:8080/",
          "height": 448
        },
        "id": "nEOT1yP1La6e",
        "outputId": "4a83a71b-0154-46eb-e351-349442202fd4"
      },
      "outputs": [
        {
          "output_type": "execute_result",
          "data": {
            "text/plain": [
              "<matplotlib.legend.Legend at 0x7fe632101eb0>"
            ]
          },
          "metadata": {},
          "execution_count": 200
        },
        {
          "output_type": "display_data",
          "data": {
            "text/plain": [
              "<Figure size 640x480 with 1 Axes>"
            ],
            "image/png": "[encoded data removed]"
          },
          "metadata": {}
        }
      ],
      "source": [
        "#plot the loss and validation loss of the dataset\n",
        "history_df = pd.DataFrame(history.history)\n",
        "plt.plot(history_df['loss'], label='loss')\n",
        "plt.plot(history_df['val_loss'], label='val_loss')\n",
        "\n",
        "plt.legend()"
      ]
    },
    {
      "cell_type": "code",
      "execution_count": 201,
      "metadata": {
        "colab": {
          "base_uri": "https://localhost:8080/"
        },
        "id": "Nl6VB1XAMVPQ",
        "outputId": "3163ef84-44f6-4e00-ab62-ac9818ba76e0"
      },
      "outputs": [
        {
          "output_type": "stream",
          "name": "stdout",
          "text": [
            "1/1 [==============================] - 0s 29ms/step - loss: 3.5772\n"
          ]
        },
        {
          "output_type": "execute_result",
          "data": {
            "text/plain": [
              "3.577169418334961"
            ]
          },
          "metadata": {},
          "execution_count": 201
        }
      ],
      "source": [
        "#evaluate the model\n",
        "NNF_model.evaluate(test_features, test_labels, batch_size=128)"
      ]
    },
    {
      "cell_type": "code",
      "execution_count": 202,
      "metadata": {
        "colab": {
          "base_uri": "https://localhost:8080/",
          "height": 508
        },
        "id": "CeMlsF0eNSct",
        "outputId": "f1972893-b1cb-48dc-c899-5351c13ecdf0"
      },
      "outputs": [
        {
          "output_type": "stream",
          "name": "stdout",
          "text": [
            "2/2 [==============================] - 0s 9ms/step\n"
          ]
        },
        {
          "output_type": "execute_result",
          "data": {
            "text/plain": [
              "[<matplotlib.lines.Line2D at 0x7fe631ecdd30>]"
            ]
          },
          "metadata": {},
          "execution_count": 202
        },
        {
          "output_type": "display_data",
          "data": {
            "text/plain": [
              "<Figure size 640x480 with 1 Axes>"
            ],
            "image/png": "[encoded data removed]"
          },
          "metadata": {}
        }
      ],
      "source": [
        "y_pred = NNF_model.predict(test_features).flatten()\n",
        "\n",
        "a = plt.axes(aspect='equal')\n",
        "plt.scatter(test_labels, y_pred)\n",
        "plt.xlabel('True values')\n",
        "plt.ylabel('Predicted values')\n",
        "plt.title('A plot that shows the true and predicted values')\n",
        "plt.xlim([0, 60])\n",
        "plt.ylim([0, 60])\n",
        "plt.plot([0, 60], [0, 60])"
      ]
    },
    {
      "cell_type": "code",
      "source": [
        "test_results['NNF_model'] = NNF_model.evaluate(test_features, test_labels, verbose=0)"
      ],
      "metadata": {
        "id": "LqVZ23aam23o"
      },
      "execution_count": 203,
      "outputs": []
    },
    {
      "cell_type": "code",
      "source": [
        "test_results"
      ],
      "metadata": {
        "colab": {
          "base_uri": "https://localhost:8080/"
        },
        "id": "VDmhfTihm7k6",
        "outputId": "84ee8a6d-be35-4a30-9a55-7611e6f6dac1"
      },
      "execution_count": 204,
      "outputs": [
        {
          "output_type": "execute_result",
          "data": {
            "text/plain": [
              "{'linear_female_model': 3.4650471210479736,\n",
              " 'dnn_weight_model': 3.4198672771453857,\n",
              " 'dnn_female_model': 3.74932861328125,\n",
              " 'NNF_model': 3.577169895172119}"
            ]
          },
          "metadata": {},
          "execution_count": 204
        }
      ]
    },
    {
      "cell_type": "code",
      "execution_count": 205,
      "metadata": {
        "colab": {
          "base_uri": "https://localhost:8080/"
        },
        "id": "Kt5R867eNiku",
        "outputId": "b70a68b4-a803-4cfa-9ff4-f5265c398324"
      },
      "outputs": [
        {
          "output_type": "stream",
          "name": "stdout",
          "text": [
            "Epoch 1/200\n",
            "4/4 [==============================] - 2s 66ms/step - loss: 19.9894 - val_loss: 15.9293\n",
            "Epoch 2/200\n",
            "4/4 [==============================] - 0s 12ms/step - loss: 13.8141 - val_loss: 10.5387\n",
            "Epoch 3/200\n",
            "4/4 [==============================] - 0s 13ms/step - loss: 8.6560 - val_loss: 6.3230\n",
            "Epoch 4/200\n",
            "4/4 [==============================] - 0s 12ms/step - loss: 4.7593 - val_loss: 3.6043\n",
            "Epoch 5/200\n",
            "4/4 [==============================] - 0s 14ms/step - loss: 4.0149 - val_loss: 4.5771\n",
            "Epoch 6/200\n",
            "4/4 [==============================] - 0s 13ms/step - loss: 4.9873 - val_loss: 4.7706\n",
            "Epoch 7/200\n",
            "4/4 [==============================] - 0s 12ms/step - loss: 4.7619 - val_loss: 3.9284\n",
            "Epoch 8/200\n",
            "4/4 [==============================] - 0s 12ms/step - loss: 4.0781 - val_loss: 3.5979\n",
            "Epoch 9/200\n",
            "4/4 [==============================] - 0s 13ms/step - loss: 3.7969 - val_loss: 3.9426\n",
            "Epoch 10/200\n",
            "4/4 [==============================] - 0s 14ms/step - loss: 3.9894 - val_loss: 4.0616\n",
            "Epoch 11/200\n",
            "4/4 [==============================] - 0s 13ms/step - loss: 3.9339 - val_loss: 3.8014\n",
            "Epoch 12/200\n",
            "4/4 [==============================] - 0s 13ms/step - loss: 3.6948 - val_loss: 3.4291\n",
            "Epoch 13/200\n",
            "4/4 [==============================] - 0s 14ms/step - loss: 3.5537 - val_loss: 3.0864\n",
            "Epoch 14/200\n",
            "4/4 [==============================] - 0s 13ms/step - loss: 3.5600 - val_loss: 3.0075\n",
            "Epoch 15/200\n",
            "4/4 [==============================] - 0s 12ms/step - loss: 3.4681 - val_loss: 3.0310\n",
            "Epoch 16/200\n",
            "4/4 [==============================] - 0s 14ms/step - loss: 3.3991 - val_loss: 3.1972\n",
            "Epoch 17/200\n",
            "4/4 [==============================] - 0s 14ms/step - loss: 3.4403 - val_loss: 3.1298\n",
            "Epoch 18/200\n",
            "4/4 [==============================] - 0s 12ms/step - loss: 3.3785 - val_loss: 2.9515\n",
            "Epoch 19/200\n",
            "4/4 [==============================] - 0s 12ms/step - loss: 3.3857 - val_loss: 2.8633\n",
            "Epoch 20/200\n",
            "4/4 [==============================] - 0s 12ms/step - loss: 3.4057 - val_loss: 2.9654\n",
            "Epoch 21/200\n",
            "4/4 [==============================] - 0s 12ms/step - loss: 3.3500 - val_loss: 2.9052\n",
            "Epoch 22/200\n",
            "4/4 [==============================] - 0s 12ms/step - loss: 3.3661 - val_loss: 2.8428\n",
            "Epoch 23/200\n",
            "4/4 [==============================] - 0s 12ms/step - loss: 3.3578 - val_loss: 2.9336\n",
            "Epoch 24/200\n",
            "4/4 [==============================] - 0s 12ms/step - loss: 3.3470 - val_loss: 2.9291\n",
            "Epoch 25/200\n",
            "4/4 [==============================] - 0s 12ms/step - loss: 3.3177 - val_loss: 2.7912\n",
            "Epoch 26/200\n",
            "4/4 [==============================] - 0s 12ms/step - loss: 3.3637 - val_loss: 2.7863\n",
            "Epoch 27/200\n",
            "4/4 [==============================] - 0s 11ms/step - loss: 3.3353 - val_loss: 3.0709\n",
            "Epoch 28/200\n",
            "4/4 [==============================] - 0s 11ms/step - loss: 3.3534 - val_loss: 2.9751\n",
            "Epoch 29/200\n",
            "4/4 [==============================] - 0s 12ms/step - loss: 3.3190 - val_loss: 2.7549\n",
            "Epoch 30/200\n",
            "4/4 [==============================] - 0s 12ms/step - loss: 3.3316 - val_loss: 2.7566\n",
            "Epoch 31/200\n",
            "4/4 [==============================] - 0s 13ms/step - loss: 3.3072 - val_loss: 2.8966\n",
            "Epoch 32/200\n",
            "4/4 [==============================] - 0s 12ms/step - loss: 3.3235 - val_loss: 2.8916\n",
            "Epoch 33/200\n",
            "4/4 [==============================] - 0s 12ms/step - loss: 3.2804 - val_loss: 2.7013\n",
            "Epoch 34/200\n",
            "4/4 [==============================] - 0s 12ms/step - loss: 3.3340 - val_loss: 2.7181\n",
            "Epoch 35/200\n",
            "4/4 [==============================] - 0s 12ms/step - loss: 3.2935 - val_loss: 2.7532\n",
            "Epoch 36/200\n",
            "4/4 [==============================] - 0s 12ms/step - loss: 3.2832 - val_loss: 2.8258\n",
            "Epoch 37/200\n",
            "4/4 [==============================] - 0s 12ms/step - loss: 3.3067 - val_loss: 2.6744\n",
            "Epoch 38/200\n",
            "4/4 [==============================] - 0s 13ms/step - loss: 3.2868 - val_loss: 2.8123\n",
            "Epoch 39/200\n",
            "4/4 [==============================] - 0s 14ms/step - loss: 3.2834 - val_loss: 2.7624\n",
            "Epoch 40/200\n",
            "4/4 [==============================] - 0s 13ms/step - loss: 3.2619 - val_loss: 2.6912\n",
            "Epoch 41/200\n",
            "4/4 [==============================] - 0s 12ms/step - loss: 3.2597 - val_loss: 2.6644\n",
            "Epoch 42/200\n",
            "4/4 [==============================] - 0s 12ms/step - loss: 3.2501 - val_loss: 2.7279\n",
            "Epoch 43/200\n",
            "4/4 [==============================] - 0s 12ms/step - loss: 3.2485 - val_loss: 2.7691\n",
            "Epoch 44/200\n",
            "4/4 [==============================] - 0s 12ms/step - loss: 3.2704 - val_loss: 2.6775\n",
            "Epoch 45/200\n",
            "4/4 [==============================] - 0s 12ms/step - loss: 3.2546 - val_loss: 2.5900\n",
            "Epoch 46/200\n",
            "4/4 [==============================] - 0s 13ms/step - loss: 3.2429 - val_loss: 2.6758\n",
            "Epoch 47/200\n",
            "4/4 [==============================] - 0s 13ms/step - loss: 3.3281 - val_loss: 3.0830\n",
            "Epoch 48/200\n",
            "4/4 [==============================] - 0s 19ms/step - loss: 3.2538 - val_loss: 2.5830\n",
            "Epoch 49/200\n",
            "4/4 [==============================] - 0s 12ms/step - loss: 3.2292 - val_loss: 2.5334\n",
            "Epoch 50/200\n",
            "4/4 [==============================] - 0s 12ms/step - loss: 3.2236 - val_loss: 2.6761\n",
            "Epoch 51/200\n",
            "4/4 [==============================] - 0s 13ms/step - loss: 3.2313 - val_loss: 2.7279\n",
            "Epoch 52/200\n",
            "4/4 [==============================] - 0s 12ms/step - loss: 3.2160 - val_loss: 2.5841\n",
            "Epoch 53/200\n",
            "4/4 [==============================] - 0s 12ms/step - loss: 3.2108 - val_loss: 2.4944\n",
            "Epoch 54/200\n",
            "4/4 [==============================] - 0s 12ms/step - loss: 3.2132 - val_loss: 2.6142\n",
            "Epoch 55/200\n",
            "4/4 [==============================] - 0s 13ms/step - loss: 3.1977 - val_loss: 2.6750\n",
            "Epoch 56/200\n",
            "4/4 [==============================] - 0s 15ms/step - loss: 3.1970 - val_loss: 2.5171\n",
            "Epoch 57/200\n",
            "4/4 [==============================] - 0s 11ms/step - loss: 3.2243 - val_loss: 2.5584\n",
            "Epoch 58/200\n",
            "4/4 [==============================] - 0s 13ms/step - loss: 3.2632 - val_loss: 2.4225\n",
            "Epoch 59/200\n",
            "4/4 [==============================] - 0s 14ms/step - loss: 3.1987 - val_loss: 2.8269\n",
            "Epoch 60/200\n",
            "4/4 [==============================] - 0s 12ms/step - loss: 3.2286 - val_loss: 2.6136\n",
            "Epoch 61/200\n",
            "4/4 [==============================] - 0s 11ms/step - loss: 3.2511 - val_loss: 2.3635\n",
            "Epoch 62/200\n",
            "4/4 [==============================] - 0s 13ms/step - loss: 3.2514 - val_loss: 2.6028\n",
            "Epoch 63/200\n",
            "4/4 [==============================] - 0s 12ms/step - loss: 3.1878 - val_loss: 2.7253\n",
            "Epoch 64/200\n",
            "4/4 [==============================] - 0s 12ms/step - loss: 3.1701 - val_loss: 2.4047\n",
            "Epoch 65/200\n",
            "4/4 [==============================] - 0s 16ms/step - loss: 3.1806 - val_loss: 2.4054\n",
            "Epoch 66/200\n",
            "4/4 [==============================] - 0s 13ms/step - loss: 3.1713 - val_loss: 2.6432\n",
            "Epoch 67/200\n",
            "4/4 [==============================] - 0s 11ms/step - loss: 3.1701 - val_loss: 2.5984\n",
            "Epoch 68/200\n",
            "4/4 [==============================] - 0s 12ms/step - loss: 3.1566 - val_loss: 2.3677\n",
            "Epoch 69/200\n",
            "4/4 [==============================] - 0s 13ms/step - loss: 3.1726 - val_loss: 2.4615\n",
            "Epoch 70/200\n",
            "4/4 [==============================] - 0s 14ms/step - loss: 3.1824 - val_loss: 2.6421\n",
            "Epoch 71/200\n",
            "4/4 [==============================] - 0s 12ms/step - loss: 3.1557 - val_loss: 2.4124\n",
            "Epoch 72/200\n",
            "4/4 [==============================] - 0s 12ms/step - loss: 3.1553 - val_loss: 2.4184\n",
            "Epoch 73/200\n",
            "4/4 [==============================] - 0s 12ms/step - loss: 3.1662 - val_loss: 2.6046\n",
            "Epoch 74/200\n",
            "4/4 [==============================] - 0s 12ms/step - loss: 3.1455 - val_loss: 2.3975\n",
            "Epoch 75/200\n",
            "4/4 [==============================] - 0s 12ms/step - loss: 3.1450 - val_loss: 2.4221\n",
            "Epoch 76/200\n",
            "4/4 [==============================] - 0s 12ms/step - loss: 3.1369 - val_loss: 2.5565\n",
            "Epoch 77/200\n",
            "4/4 [==============================] - 0s 14ms/step - loss: 3.1411 - val_loss: 2.3710\n",
            "Epoch 78/200\n",
            "4/4 [==============================] - 0s 11ms/step - loss: 3.1535 - val_loss: 2.4051\n",
            "Epoch 79/200\n",
            "4/4 [==============================] - 0s 18ms/step - loss: 3.1624 - val_loss: 2.6398\n",
            "Epoch 80/200\n",
            "4/4 [==============================] - 0s 15ms/step - loss: 3.1310 - val_loss: 2.3614\n",
            "Epoch 81/200\n",
            "4/4 [==============================] - 0s 12ms/step - loss: 3.1388 - val_loss: 2.4570\n",
            "Epoch 82/200\n",
            "4/4 [==============================] - 0s 12ms/step - loss: 3.1286 - val_loss: 2.7202\n",
            "Epoch 83/200\n",
            "4/4 [==============================] - 0s 13ms/step - loss: 3.1356 - val_loss: 2.3340\n",
            "Epoch 84/200\n",
            "4/4 [==============================] - 0s 12ms/step - loss: 3.2030 - val_loss: 2.2475\n",
            "Epoch 85/200\n",
            "4/4 [==============================] - 0s 14ms/step - loss: 3.1447 - val_loss: 2.6341\n",
            "Epoch 86/200\n",
            "4/4 [==============================] - 0s 13ms/step - loss: 3.1764 - val_loss: 2.5539\n",
            "Epoch 87/200\n",
            "4/4 [==============================] - 0s 12ms/step - loss: 3.1643 - val_loss: 2.2490\n",
            "Epoch 88/200\n",
            "4/4 [==============================] - 0s 12ms/step - loss: 3.1931 - val_loss: 2.4616\n",
            "Epoch 89/200\n",
            "4/4 [==============================] - 0s 12ms/step - loss: 3.3385 - val_loss: 2.9146\n",
            "Epoch 90/200\n",
            "4/4 [==============================] - 0s 12ms/step - loss: 3.0904 - val_loss: 2.2351\n",
            "Epoch 91/200\n",
            "4/4 [==============================] - 0s 12ms/step - loss: 3.2654 - val_loss: 2.2918\n",
            "Epoch 92/200\n",
            "4/4 [==============================] - 0s 12ms/step - loss: 3.1365 - val_loss: 2.8854\n",
            "Epoch 93/200\n",
            "4/4 [==============================] - 0s 12ms/step - loss: 3.2020 - val_loss: 2.3097\n",
            "Epoch 94/200\n",
            "4/4 [==============================] - 0s 12ms/step - loss: 3.1321 - val_loss: 2.5055\n",
            "Epoch 95/200\n",
            "4/4 [==============================] - 0s 14ms/step - loss: 3.1158 - val_loss: 2.6363\n",
            "Epoch 96/200\n",
            "4/4 [==============================] - 0s 12ms/step - loss: 3.1491 - val_loss: 2.5017\n",
            "Epoch 97/200\n",
            "4/4 [==============================] - 0s 12ms/step - loss: 3.1736 - val_loss: 2.2892\n",
            "Epoch 98/200\n",
            "4/4 [==============================] - 0s 14ms/step - loss: 3.1769 - val_loss: 2.6763\n",
            "Epoch 99/200\n",
            "4/4 [==============================] - 0s 13ms/step - loss: 3.1245 - val_loss: 2.2627\n",
            "Epoch 100/200\n",
            "4/4 [==============================] - 0s 12ms/step - loss: 3.1115 - val_loss: 2.6029\n",
            "Epoch 101/200\n",
            "4/4 [==============================] - 0s 13ms/step - loss: 3.1180 - val_loss: 2.5643\n",
            "Epoch 102/200\n",
            "4/4 [==============================] - 0s 12ms/step - loss: 3.1095 - val_loss: 2.3796\n",
            "Epoch 103/200\n",
            "4/4 [==============================] - 0s 12ms/step - loss: 3.1073 - val_loss: 2.3302\n",
            "Epoch 104/200\n",
            "4/4 [==============================] - 0s 12ms/step - loss: 3.1002 - val_loss: 2.6004\n",
            "Epoch 105/200\n",
            "4/4 [==============================] - 0s 12ms/step - loss: 3.1229 - val_loss: 2.5009\n",
            "Epoch 106/200\n",
            "4/4 [==============================] - 0s 19ms/step - loss: 3.1652 - val_loss: 2.3132\n",
            "Epoch 107/200\n",
            "4/4 [==============================] - 0s 14ms/step - loss: 3.1619 - val_loss: 2.5556\n",
            "Epoch 108/200\n",
            "4/4 [==============================] - 0s 12ms/step - loss: 3.1351 - val_loss: 2.2738\n",
            "Epoch 109/200\n",
            "4/4 [==============================] - 0s 14ms/step - loss: 3.1038 - val_loss: 2.5653\n",
            "Epoch 110/200\n",
            "4/4 [==============================] - 0s 12ms/step - loss: 3.1019 - val_loss: 2.3454\n",
            "Epoch 111/200\n",
            "4/4 [==============================] - 0s 12ms/step - loss: 3.2111 - val_loss: 2.2248\n",
            "Epoch 112/200\n",
            "4/4 [==============================] - 0s 13ms/step - loss: 3.1286 - val_loss: 2.8499\n",
            "Epoch 113/200\n",
            "4/4 [==============================] - 0s 12ms/step - loss: 3.1841 - val_loss: 2.2353\n",
            "Epoch 114/200\n",
            "4/4 [==============================] - 0s 12ms/step - loss: 3.1347 - val_loss: 2.4370\n",
            "Epoch 115/200\n",
            "4/4 [==============================] - 0s 14ms/step - loss: 3.1290 - val_loss: 2.3967\n",
            "Epoch 116/200\n",
            "4/4 [==============================] - 0s 13ms/step - loss: 3.0784 - val_loss: 2.6077\n",
            "Epoch 117/200\n",
            "4/4 [==============================] - 0s 13ms/step - loss: 3.1357 - val_loss: 2.3693\n",
            "Epoch 118/200\n",
            "4/4 [==============================] - 0s 13ms/step - loss: 3.1167 - val_loss: 2.2940\n",
            "Epoch 119/200\n",
            "4/4 [==============================] - 0s 12ms/step - loss: 3.0840 - val_loss: 2.5282\n",
            "Epoch 120/200\n",
            "4/4 [==============================] - 0s 14ms/step - loss: 3.0833 - val_loss: 2.5010\n",
            "Epoch 121/200\n",
            "4/4 [==============================] - 0s 14ms/step - loss: 3.1045 - val_loss: 2.4123\n",
            "Epoch 122/200\n",
            "4/4 [==============================] - 0s 12ms/step - loss: 3.0871 - val_loss: 2.4717\n",
            "Epoch 123/200\n",
            "4/4 [==============================] - 0s 15ms/step - loss: 3.0908 - val_loss: 2.4071\n",
            "Epoch 124/200\n",
            "4/4 [==============================] - 0s 12ms/step - loss: 3.0726 - val_loss: 2.4728\n",
            "Epoch 125/200\n",
            "4/4 [==============================] - 0s 14ms/step - loss: 3.1035 - val_loss: 2.4443\n",
            "Epoch 126/200\n",
            "4/4 [==============================] - 0s 14ms/step - loss: 3.0772 - val_loss: 2.2470\n",
            "Epoch 127/200\n",
            "4/4 [==============================] - 0s 15ms/step - loss: 3.0966 - val_loss: 2.4889\n",
            "Epoch 128/200\n",
            "4/4 [==============================] - 0s 23ms/step - loss: 3.1004 - val_loss: 2.3800\n",
            "Epoch 129/200\n",
            "4/4 [==============================] - 0s 25ms/step - loss: 3.0913 - val_loss: 2.3406\n",
            "Epoch 130/200\n",
            "4/4 [==============================] - 0s 25ms/step - loss: 3.0560 - val_loss: 2.5506\n",
            "Epoch 131/200\n",
            "4/4 [==============================] - 0s 19ms/step - loss: 3.0798 - val_loss: 2.3678\n",
            "Epoch 132/200\n",
            "4/4 [==============================] - 0s 25ms/step - loss: 3.0697 - val_loss: 2.3159\n",
            "Epoch 133/200\n",
            "4/4 [==============================] - 0s 20ms/step - loss: 3.0881 - val_loss: 2.4151\n",
            "Epoch 134/200\n",
            "4/4 [==============================] - 0s 24ms/step - loss: 3.1342 - val_loss: 2.4264\n",
            "Epoch 135/200\n",
            "4/4 [==============================] - 0s 26ms/step - loss: 3.0927 - val_loss: 2.1902\n",
            "Epoch 136/200\n",
            "4/4 [==============================] - 0s 22ms/step - loss: 3.0861 - val_loss: 2.4724\n",
            "Epoch 137/200\n",
            "4/4 [==============================] - 0s 26ms/step - loss: 3.0731 - val_loss: 2.3440\n",
            "Epoch 138/200\n",
            "4/4 [==============================] - 0s 24ms/step - loss: 3.0532 - val_loss: 2.3960\n",
            "Epoch 139/200\n",
            "4/4 [==============================] - 0s 26ms/step - loss: 3.0476 - val_loss: 2.3902\n",
            "Epoch 140/200\n",
            "4/4 [==============================] - 0s 30ms/step - loss: 3.0525 - val_loss: 2.3737\n",
            "Epoch 141/200\n",
            "4/4 [==============================] - 0s 27ms/step - loss: 3.0560 - val_loss: 2.3752\n",
            "Epoch 142/200\n",
            "4/4 [==============================] - 0s 21ms/step - loss: 3.1038 - val_loss: 2.5260\n",
            "Epoch 143/200\n",
            "4/4 [==============================] - 0s 24ms/step - loss: 3.1941 - val_loss: 2.1546\n",
            "Epoch 144/200\n",
            "4/4 [==============================] - 0s 28ms/step - loss: 3.1831 - val_loss: 3.0935\n",
            "Epoch 145/200\n",
            "4/4 [==============================] - 0s 25ms/step - loss: 3.2481 - val_loss: 2.2032\n",
            "Epoch 146/200\n",
            "4/4 [==============================] - 0s 28ms/step - loss: 3.1301 - val_loss: 2.3433\n",
            "Epoch 147/200\n",
            "4/4 [==============================] - 0s 23ms/step - loss: 3.0363 - val_loss: 2.7719\n",
            "Epoch 148/200\n",
            "4/4 [==============================] - 0s 26ms/step - loss: 3.1324 - val_loss: 2.3213\n",
            "Epoch 149/200\n",
            "4/4 [==============================] - 0s 27ms/step - loss: 3.0455 - val_loss: 2.3552\n",
            "Epoch 150/200\n",
            "4/4 [==============================] - 0s 28ms/step - loss: 3.0370 - val_loss: 2.3192\n",
            "Epoch 151/200\n",
            "4/4 [==============================] - 0s 19ms/step - loss: 3.0488 - val_loss: 2.2809\n",
            "Epoch 152/200\n",
            "4/4 [==============================] - 0s 27ms/step - loss: 3.0484 - val_loss: 2.3417\n",
            "Epoch 153/200\n",
            "4/4 [==============================] - 0s 26ms/step - loss: 3.0581 - val_loss: 2.3622\n",
            "Epoch 154/200\n",
            "4/4 [==============================] - 0s 29ms/step - loss: 3.0724 - val_loss: 2.3142\n",
            "Epoch 155/200\n",
            "4/4 [==============================] - 0s 26ms/step - loss: 3.2270 - val_loss: 2.4888\n",
            "Epoch 156/200\n",
            "4/4 [==============================] - 0s 27ms/step - loss: 2.9961 - val_loss: 2.1152\n",
            "Epoch 157/200\n",
            "4/4 [==============================] - 0s 26ms/step - loss: 3.0706 - val_loss: 2.7209\n",
            "Epoch 158/200\n",
            "4/4 [==============================] - 0s 21ms/step - loss: 3.3083 - val_loss: 3.1624\n",
            "Epoch 159/200\n",
            "4/4 [==============================] - 0s 24ms/step - loss: 3.2592 - val_loss: 2.1098\n",
            "Epoch 160/200\n",
            "4/4 [==============================] - 0s 16ms/step - loss: 3.1796 - val_loss: 2.6515\n",
            "Epoch 161/200\n",
            "4/4 [==============================] - 0s 15ms/step - loss: 3.2569 - val_loss: 3.0129\n",
            "Epoch 162/200\n",
            "4/4 [==============================] - 0s 16ms/step - loss: 3.0664 - val_loss: 2.1099\n",
            "Epoch 163/200\n",
            "4/4 [==============================] - 0s 15ms/step - loss: 3.2454 - val_loss: 2.3965\n",
            "Epoch 164/200\n",
            "4/4 [==============================] - 0s 16ms/step - loss: 3.0753 - val_loss: 2.6602\n",
            "Epoch 165/200\n",
            "4/4 [==============================] - 0s 15ms/step - loss: 3.0152 - val_loss: 2.1221\n",
            "Epoch 166/200\n",
            "4/4 [==============================] - 0s 16ms/step - loss: 3.1975 - val_loss: 2.2302\n",
            "Epoch 167/200\n",
            "4/4 [==============================] - 0s 14ms/step - loss: 3.2080 - val_loss: 3.2478\n",
            "Epoch 168/200\n",
            "4/4 [==============================] - 0s 14ms/step - loss: 3.1944 - val_loss: 2.1704\n",
            "Epoch 169/200\n",
            "4/4 [==============================] - 0s 15ms/step - loss: 3.3254 - val_loss: 2.1728\n",
            "Epoch 170/200\n",
            "4/4 [==============================] - 0s 14ms/step - loss: 3.2745 - val_loss: 3.3235\n",
            "Epoch 171/200\n",
            "4/4 [==============================] - 0s 15ms/step - loss: 3.2587 - val_loss: 2.3747\n",
            "Epoch 172/200\n",
            "4/4 [==============================] - 0s 17ms/step - loss: 3.2564 - val_loss: 2.1984\n",
            "Epoch 173/200\n",
            "4/4 [==============================] - 0s 14ms/step - loss: 3.1716 - val_loss: 2.8307\n",
            "Epoch 174/200\n",
            "4/4 [==============================] - 0s 15ms/step - loss: 3.1809 - val_loss: 2.7293\n",
            "Epoch 175/200\n",
            "4/4 [==============================] - 0s 13ms/step - loss: 3.0589 - val_loss: 2.3054\n",
            "Epoch 176/200\n",
            "4/4 [==============================] - 0s 14ms/step - loss: 3.1028 - val_loss: 2.4179\n",
            "Epoch 177/200\n",
            "4/4 [==============================] - 0s 16ms/step - loss: 3.0495 - val_loss: 2.4655\n",
            "Epoch 178/200\n",
            "4/4 [==============================] - 0s 15ms/step - loss: 3.0684 - val_loss: 2.2085\n",
            "Epoch 179/200\n",
            "4/4 [==============================] - 0s 14ms/step - loss: 3.0093 - val_loss: 2.7887\n",
            "Epoch 180/200\n",
            "4/4 [==============================] - 0s 14ms/step - loss: 3.1533 - val_loss: 2.4292\n",
            "Epoch 181/200\n",
            "4/4 [==============================] - 0s 14ms/step - loss: 3.1228 - val_loss: 2.1188\n",
            "Epoch 182/200\n",
            "4/4 [==============================] - 0s 13ms/step - loss: 3.0861 - val_loss: 2.5362\n",
            "Epoch 183/200\n",
            "4/4 [==============================] - 0s 14ms/step - loss: 3.0772 - val_loss: 2.1976\n",
            "Epoch 184/200\n",
            "4/4 [==============================] - 0s 14ms/step - loss: 3.0907 - val_loss: 2.1813\n",
            "Epoch 185/200\n",
            "4/4 [==============================] - 0s 14ms/step - loss: 3.1309 - val_loss: 2.5870\n",
            "Epoch 186/200\n",
            "4/4 [==============================] - 0s 15ms/step - loss: 3.1152 - val_loss: 2.0916\n",
            "Epoch 187/200\n",
            "4/4 [==============================] - 0s 16ms/step - loss: 3.0791 - val_loss: 2.5700\n",
            "Epoch 188/200\n",
            "4/4 [==============================] - 0s 15ms/step - loss: 3.0766 - val_loss: 2.3474\n",
            "Epoch 189/200\n",
            "4/4 [==============================] - 0s 14ms/step - loss: 3.0528 - val_loss: 2.2290\n",
            "Epoch 190/200\n",
            "4/4 [==============================] - 0s 14ms/step - loss: 3.0114 - val_loss: 2.5623\n",
            "Epoch 191/200\n",
            "4/4 [==============================] - 0s 14ms/step - loss: 3.0091 - val_loss: 2.1410\n",
            "Epoch 192/200\n",
            "4/4 [==============================] - 0s 14ms/step - loss: 3.0420 - val_loss: 2.4627\n",
            "Epoch 193/200\n",
            "4/4 [==============================] - 0s 14ms/step - loss: 3.0252 - val_loss: 2.4049\n",
            "Epoch 194/200\n",
            "4/4 [==============================] - 0s 18ms/step - loss: 3.0020 - val_loss: 2.1364\n",
            "Epoch 195/200\n",
            "4/4 [==============================] - 0s 16ms/step - loss: 3.1055 - val_loss: 2.2987\n",
            "Epoch 196/200\n",
            "4/4 [==============================] - 0s 14ms/step - loss: 3.0264 - val_loss: 2.4470\n",
            "Epoch 197/200\n",
            "4/4 [==============================] - 0s 15ms/step - loss: 3.0169 - val_loss: 2.2519\n",
            "Epoch 198/200\n",
            "4/4 [==============================] - 0s 15ms/step - loss: 3.0134 - val_loss: 2.3235\n",
            "Epoch 199/200\n",
            "4/4 [==============================] - 0s 13ms/step - loss: 3.0218 - val_loss: 2.4019\n",
            "Epoch 200/200\n",
            "4/4 [==============================] - 0s 13ms/step - loss: 3.0432 - val_loss: 2.1762\n"
          ]
        }
      ],
      "source": [
        "#Improving the Model by Adding More Hidden Layers\n",
        "#built the neural network architecture\n",
        "\n",
        "NNF2_model = Sequential()\n",
        "NNF2_model.add(Dense(13, input_dim=17, activation='relu'))\n",
        "NNF2_model.add(Dense(9, activation='relu'))\n",
        "NNF2_model.add(Dense(5, activation='relu'))\n",
        "NNF2_model.add(Dense(1, activation='linear'))\n",
        "\n",
        "NNF2_model.compile(loss='mae', optimizer='adam')\n",
        "\n",
        "#train the neural network on the train dataset\n",
        "history = NNF2_model.fit(train_features, train_labels, epochs=200, validation_split=0.2)"
      ]
    },
    {
      "cell_type": "code",
      "execution_count": 206,
      "metadata": {
        "colab": {
          "base_uri": "https://localhost:8080/",
          "height": 448
        },
        "id": "KmuWBm9iOeVL",
        "outputId": "93d0cb0c-1ea6-49e9-b664-f096ee4d1e97"
      },
      "outputs": [
        {
          "output_type": "execute_result",
          "data": {
            "text/plain": [
              "<matplotlib.legend.Legend at 0x7fe6254c5c70>"
            ]
          },
          "metadata": {},
          "execution_count": 206
        },
        {
          "output_type": "display_data",
          "data": {
            "text/plain": [
              "<Figure size 640x480 with 1 Axes>"
            ],
            "image/png": "[encoded data removed]"
          },
          "metadata": {}
        }
      ],
      "source": [
        "#plot the loss and validation loss of the dataset\n",
        "history_df = pd.DataFrame(history.history)\n",
        "plt.plot(history_df['loss'], label='loss')\n",
        "plt.plot(history_df['val_loss'], label='val_loss')\n",
        "\n",
        "plt.legend()"
      ]
    },
    {
      "cell_type": "code",
      "execution_count": 207,
      "metadata": {
        "colab": {
          "base_uri": "https://localhost:8080/"
        },
        "id": "xMGV7DF-OrmL",
        "outputId": "3dd5c38a-eed1-42d7-e1f8-f54d9ff80088"
      },
      "outputs": [
        {
          "output_type": "stream",
          "name": "stdout",
          "text": [
            "1/1 [==============================] - 0s 37ms/step - loss: 3.3187\n"
          ]
        },
        {
          "output_type": "execute_result",
          "data": {
            "text/plain": [
              "3.318666934967041"
            ]
          },
          "metadata": {},
          "execution_count": 207
        }
      ],
      "source": [
        " #evaluate the model\n",
        "NNF2_model.evaluate(test_features, test_labels, batch_size=128)"
      ]
    },
    {
      "cell_type": "code",
      "execution_count": 208,
      "metadata": {
        "colab": {
          "base_uri": "https://localhost:8080/",
          "height": 508
        },
        "id": "HVTHRCkBPPpE",
        "outputId": "7155b1f1-8685-44f0-e8c7-33c20038e06d"
      },
      "outputs": [
        {
          "output_type": "stream",
          "name": "stdout",
          "text": [
            "2/2 [==============================] - 0s 4ms/step\n"
          ]
        },
        {
          "output_type": "execute_result",
          "data": {
            "text/plain": [
              "[<matplotlib.lines.Line2D at 0x7fe627cfb0d0>]"
            ]
          },
          "metadata": {},
          "execution_count": 208
        },
        {
          "output_type": "display_data",
          "data": {
            "text/plain": [
              "<Figure size 640x480 with 1 Axes>"
            ],
            "image/png": "[encoded data removed]"
          },
          "metadata": {}
        }
      ],
      "source": [
        "y_pred = NNF2_model.predict(test_features).flatten()\n",
        "\n",
        "a = plt.axes(aspect='equal')\n",
        "plt.scatter(test_labels, y_pred)\n",
        "plt.xlabel('True values')\n",
        "plt.ylabel('Predicted values')\n",
        "plt.title('A plot that shows the true and predicted values')\n",
        "plt.xlim([0, 60])\n",
        "plt.ylim([0, 60])\n",
        "plt.plot([0, 60], [0, 60])"
      ]
    },
    {
      "cell_type": "code",
      "source": [
        "test_results['NNF2_model'] = NNF2_model.evaluate(test_features, test_labels, verbose=0)"
      ],
      "metadata": {
        "id": "3yz7foJBnuIV"
      },
      "execution_count": 209,
      "outputs": []
    },
    {
      "cell_type": "markdown",
      "source": [
        "##Performance"
      ],
      "metadata": {
        "id": "tXtnmawapzf4"
      }
    },
    {
      "cell_type": "markdown",
      "source": [
        "Since all models have been trained, we can review their test set performance:"
      ],
      "metadata": {
        "id": "aCxk8V9rqAFW"
      }
    },
    {
      "cell_type": "code",
      "source": [
        "pd.DataFrame(test_results, index=['Mean absolute error [MPG]']).T"
      ],
      "metadata": {
        "colab": {
          "base_uri": "https://localhost:8080/",
          "height": 206
        },
        "id": "LEKJiseypm7x",
        "outputId": "a1ff6dfa-19dd-4f7e-e0fe-7643faadf801"
      },
      "execution_count": 210,
      "outputs": [
        {
          "output_type": "execute_result",
          "data": {
            "text/plain": [
              "                     Mean absolute error [MPG]\n",
              "linear_female_model                   3.465047\n",
              "dnn_weight_model                      3.419867\n",
              "dnn_female_model                      3.749329\n",
              "NNF_model                             3.577170\n",
              "NNF2_model                            3.318667"
            ],
            "text/html": [
              "\n",
              "  <div id=\"df-68d73690-448d-45c4-9800-7afac3e24eea\">\n",
              "    <div class=\"colab-df-container\">\n",
              "      <div>\n",
              "<style scoped>\n",
              "    .dataframe tbody tr th:only-of-type {\n",
              "        vertical-align: middle;\n",
              "    }\n",
              "\n",
              "    .dataframe tbody tr th {\n",
              "        vertical-align: top;\n",
              "    }\n",
              "\n",
              "    .dataframe thead th {\n",
              "        text-align: right;\n",
              "    }\n",
              "</style>\n",
              "<table border=\"1\" class=\"dataframe\">\n",
              "  <thead>\n",
              "    <tr style=\"text-align: right;\">\n",
              "      <th></th>\n",
              "      <th>Mean absolute error [MPG]</th>\n",
              "    </tr>\n",
              "  </thead>\n",
              "  <tbody>\n",
              "    <tr>\n",
              "      <th>linear_female_model</th>\n",
              "      <td>3.465047</td>\n",
              "    </tr>\n",
              "    <tr>\n",
              "      <th>dnn_weight_model</th>\n",
              "      <td>3.419867</td>\n",
              "    </tr>\n",
              "    <tr>\n",
              "      <th>dnn_female_model</th>\n",
              "      <td>3.749329</td>\n",
              "    </tr>\n",
              "    <tr>\n",
              "      <th>NNF_model</th>\n",
              "      <td>3.577170</td>\n",
              "    </tr>\n",
              "    <tr>\n",
              "      <th>NNF2_model</th>\n",
              "      <td>3.318667</td>\n",
              "    </tr>\n",
              "  </tbody>\n",
              "</table>\n",
              "</div>\n",
              "      <button class=\"colab-df-convert\" onclick=\"convertToInteractive('df-68d73690-448d-45c4-9800-7afac3e24eea')\"\n",
              "              title=\"Convert this dataframe to an interactive table.\"\n",
              "              style=\"display:none;\">\n",
              "        \n",
              "  <svg xmlns=\"http://www.w3.org/2000/svg\" height=\"24px\"viewBox=\"0 0 24 24\"\n",
              "       width=\"24px\">\n",
              "    <path d=\"M0 0h24v24H0V0z\" fill=\"none\"/>\n",
              "    <path d=\"M18.56 5.44l.94 2.06.94-2.06 2.06-.94-2.06-.94-.94-2.06-.94 2.06-2.06.94zm-11 1L8.5 8.5l.94-2.06 2.06-.94-2.06-.94L8.5 2.5l-.94 2.06-2.06.94zm10 10l.94 2.06.94-2.06 2.06-.94-2.06-.94-.94-2.06-.94 2.06-2.06.94z\"/><path d=\"M17.41 7.96l-1.37-1.37c-.4-.4-.92-.59-1.43-.59-.52 0-1.04.2-1.43.59L10.3 9.45l-7.72 7.72c-.78.78-.78 2.05 0 2.83L4 21.41c.39.39.9.59 1.41.59.51 0 1.02-.2 1.41-.59l7.78-7.78 2.81-2.81c.8-.78.8-2.07 0-2.86zM5.41 20L4 18.59l7.72-7.72 1.47 1.35L5.41 20z\"/>\n",
              "  </svg>\n",
              "      </button>\n",
              "      \n",
              "  <style>\n",
              "    .colab-df-container {\n",
              "      display:flex;\n",
              "      flex-wrap:wrap;\n",
              "      gap: 12px;\n",
              "    }\n",
              "\n",
              "    .colab-df-convert {\n",
              "      background-color: #E8F0FE;\n",
              "      border: none;\n",
              "      border-radius: 50%;\n",
              "      cursor: pointer;\n",
              "      display: none;\n",
              "      fill: #1967D2;\n",
              "      height: 32px;\n",
              "      padding: 0 0 0 0;\n",
              "      width: 32px;\n",
              "    }\n",
              "\n",
              "    .colab-df-convert:hover {\n",
              "      background-color: #E2EBFA;\n",
              "      box-shadow: 0px 1px 2px rgba(60, 64, 67, 0.3), 0px 1px 3px 1px rgba(60, 64, 67, 0.15);\n",
              "      fill: #174EA6;\n",
              "    }\n",
              "\n",
              "    [theme=dark] .colab-df-convert {\n",
              "      background-color: #3B4455;\n",
              "      fill: #D2E3FC;\n",
              "    }\n",
              "\n",
              "    [theme=dark] .colab-df-convert:hover {\n",
              "      background-color: #434B5C;\n",
              "      box-shadow: 0px 1px 3px 1px rgba(0, 0, 0, 0.15);\n",
              "      filter: drop-shadow(0px 1px 2px rgba(0, 0, 0, 0.3));\n",
              "      fill: #FFFFFF;\n",
              "    }\n",
              "  </style>\n",
              "\n",
              "      <script>\n",
              "        const buttonEl =\n",
              "          document.querySelector('#df-68d73690-448d-45c4-9800-7afac3e24eea button.colab-df-convert');\n",
              "        buttonEl.style.display =\n",
              "          google.colab.kernel.accessAllowed ? 'block' : 'none';\n",
              "\n",
              "        async function convertToInteractive(key) {\n",
              "          const element = document.querySelector('#df-68d73690-448d-45c4-9800-7afac3e24eea');\n",
              "          const dataTable =\n",
              "            await google.colab.kernel.invokeFunction('convertToInteractive',\n",
              "                                                     [key], {});\n",
              "          if (!dataTable) return;\n",
              "\n",
              "          const docLinkHtml = 'Like what you see? Visit the ' +\n",
              "            '<a target=\"_blank\" href=https://colab.research.google.com/notebooks/data_table.ipynb>data table notebook</a>'\n",
              "            + ' to learn more about interactive tables.';\n",
              "          element.innerHTML = '';\n",
              "          dataTable['output_type'] = 'display_data';\n",
              "          await google.colab.output.renderOutput(dataTable, element);\n",
              "          const docLink = document.createElement('div');\n",
              "          docLink.innerHTML = docLinkHtml;\n",
              "          element.appendChild(docLink);\n",
              "        }\n",
              "      </script>\n",
              "    </div>\n",
              "  </div>\n",
              "  "
            ]
          },
          "metadata": {},
          "execution_count": 210
        }
      ]
    },
    {
      "cell_type": "markdown",
      "source": [
        "### Make predictions\n",
        "\n",
        "As we can see the most accurate model is the Neural network model. We can now make predictions with the `NN_model` on the test set using Keras `Model.predict` and review the loss:"
      ],
      "metadata": {
        "id": "Tg6ljxfDqs_5"
      }
    },
    {
      "cell_type": "code",
      "source": [
        "test_predictions = NNF2_model.predict(test_features).flatten()\n",
        "\n",
        "a = plt.axes(aspect='equal')\n",
        "plt.scatter(test_labels, test_predictions)\n",
        "plt.xlabel('True Values [BofyFat]')\n",
        "plt.ylabel('Predictions [BofyFat]')\n",
        "lims = [0, 50]\n",
        "plt.xlim(lims)\n",
        "plt.ylim(lims)\n",
        "_ = plt.plot(lims, lims)"
      ],
      "metadata": {
        "colab": {
          "base_uri": "https://localhost:8080/",
          "height": 473
        },
        "id": "QVxzwhQMq_tG",
        "outputId": "10a4ccad-2ae3-45b1-e90f-88166b02cf91"
      },
      "execution_count": 212,
      "outputs": [
        {
          "output_type": "stream",
          "name": "stdout",
          "text": [
            "2/2 [==============================] - 0s 10ms/step\n"
          ]
        },
        {
          "output_type": "display_data",
          "data": {
            "text/plain": [
              "<Figure size 640x480 with 1 Axes>"
            ],
            "image/png": "[encoded data removed]"
          },
          "metadata": {}
        }
      ]
    },
    {
      "cell_type": "markdown",
      "source": [
        "It appears that the model predicts reasonably well.\n",
        "\n",
        "Now, check the error distribution:"
      ],
      "metadata": {
        "id": "p8OeL2sCrNSZ"
      }
    },
    {
      "cell_type": "code",
      "source": [
        "error = test_predictions - test_labels\n",
        "plt.hist(error, bins=25)\n",
        "plt.xlabel('Prediction Error [BofyFat]]')\n",
        "_ = plt.ylabel('Count')"
      ],
      "metadata": {
        "colab": {
          "base_uri": "https://localhost:8080/",
          "height": 449
        },
        "id": "7EjpQ6hErMat",
        "outputId": "eecadd25-8abe-4c48-daa6-d3dbe8b06734"
      },
      "execution_count": 214,
      "outputs": [
        {
          "output_type": "display_data",
          "data": {
            "text/plain": [
              "<Figure size 640x480 with 1 Axes>"
            ],
            "image/png": "[encoded data removed]"
          },
          "metadata": {}
        }
      ]
    },
    {
      "cell_type": "code",
      "source": [
        "test_predictions = NNF2_model.predict([[60.7824,1.5748,22,31.2,87.3,33.2,26.8,94,68,23.2,58.5,50,39,15.8,34.6,23,22]]).flatten()"
      ],
      "metadata": {
        "colab": {
          "base_uri": "https://localhost:8080/"
        },
        "id": "S5jFz51lzQq5",
        "outputId": "bbfa6539-eab6-468e-d688-b512a346bc40"
      },
      "execution_count": 223,
      "outputs": [
        {
          "output_type": "stream",
          "name": "stdout",
          "text": [
            "1/1 [==============================] - 0s 40ms/step\n"
          ]
        }
      ]
    },
    {
      "cell_type": "code",
      "source": [
        "test_predictions"
      ],
      "metadata": {
        "colab": {
          "base_uri": "https://localhost:8080/"
        },
        "id": "vmhlvYHKzr94",
        "outputId": "7f40c7f5-2c97-4ef7-dc96-08427480d31f"
      },
      "execution_count": 224,
      "outputs": [
        {
          "output_type": "execute_result",
          "data": {
            "text/plain": [
              "array([22.93], dtype=float32)"
            ]
          },
          "metadata": {},
          "execution_count": 224
        }
      ]
    },
    {
      "cell_type": "markdown",
      "source": [
        "##saving the model as tflite file"
      ],
      "metadata": {
        "id": "S-oEjBeckiOQ"
      }
    },
    {
      "cell_type": "code",
      "execution_count": 225,
      "metadata": {
        "id": "68EoCNzbYYoZ"
      },
      "outputs": [],
      "source": [
        "# save your model\n",
        "NNF2_model.save('NNF2_model.h5')"
      ]
    },
    {
      "cell_type": "code",
      "execution_count": 228,
      "metadata": {
        "id": "tD5Z1tduZa5o"
      },
      "outputs": [],
      "source": [
        "# load the saved NNmodel\n",
        "NNF2_loaded_model = tf.keras.models.load_model('NNF2_model.h5')\n"
      ]
    },
    {
      "cell_type": "code",
      "execution_count": 230,
      "metadata": {
        "colab": {
          "base_uri": "https://localhost:8080/"
        },
        "id": "wRYZOgRJaT8J",
        "outputId": "70494575-3747-48e0-b611-7ba428a0f74b"
      },
      "outputs": [
        {
          "output_type": "stream",
          "name": "stderr",
          "text": [
            "WARNING:absl:Found untraced functions such as _update_step_xla while saving (showing 1 of 1). These functions will not be directly callable after loading.\n"
          ]
        }
      ],
      "source": [
        "# Convert the model to TensorFlow Lite format\n",
        "converter = tf.lite.TFLiteConverter.from_keras_model(NNF2_loaded_model)\n",
        "tflite_model = converter.convert()\n",
        "\n",
        "# Save the TensorFlow Lite model\n",
        "with open('NNF2_model.tflite', 'wb') as f:\n",
        "  f.write(tflite_model)"
      ]
    },
    {
      "cell_type": "markdown",
      "source": [
        "##loading and testing the saved tflite model"
      ],
      "metadata": {
        "id": "3umSJR1QrdRJ"
      }
    },
    {
      "cell_type": "code",
      "execution_count": 231,
      "metadata": {
        "id": "TyV9OIvMSRaH"
      },
      "outputs": [],
      "source": [
        "\n",
        "##loading the saved tflite model\n",
        "import tensorflow as tf\n",
        "import numpy as np\n",
        "\n",
        "# Load the TFLite model\n",
        "interpreter = tf.lite.Interpreter(model_path=\"NNF2_model.tflite\")\n",
        "interpreter.allocate_tensors()\n",
        "\n",
        "# Get input and output tensors\n",
        "input_details = interpreter.get_input_details()\n",
        "interpreter.resize_tensor_input(input_details[0]['index'], (1, 17))\n",
        "\n",
        "output_details = interpreter.get_output_details()\n",
        "\n",
        "interpreter.allocate_tensors()\n",
        "\n",
        "input_details = interpreter.get_input_details()\n",
        "input_shape = input_details[0]['shape']\n"
      ]
    },
    {
      "cell_type": "code",
      "execution_count": 234,
      "metadata": {
        "id": "Ka0TL8clcIL0"
      },
      "outputs": [],
      "source": [
        "data = [60.7824,1.5748,22,31.2,87.3,33.2,26.8,94,68,23.2,58.5,50,39,15.8,34.6,23,22]\n",
        "# Create a NumPy array with shape (1, 17)\n",
        "arrUUU = np.array([data],dtype=np.float32)\n"
      ]
    },
    {
      "cell_type": "code",
      "execution_count": 235,
      "metadata": {
        "id": "xl0LNuFRdl3y"
      },
      "outputs": [],
      "source": [
        "# Set the input tensor\n",
        "interpreter.set_tensor(input_details[0]['index'],arrUUU)\n",
        "\n",
        "# Run inference\n",
        "interpreter.invoke()\n",
        "\n",
        "# Get the output tensor\n",
        "output_data = interpreter.get_tensor(output_details[0]['index'])"
      ]
    },
    {
      "cell_type": "code",
      "execution_count": 236,
      "metadata": {
        "colab": {
          "base_uri": "https://localhost:8080/"
        },
        "id": "LD69pTbNdtSj",
        "outputId": "2e7520bd-089a-4603-ec1b-60aa0abe05d6"
      },
      "outputs": [
        {
          "output_type": "execute_result",
          "data": {
            "text/plain": [
              "array([[22.93]], dtype=float32)"
            ]
          },
          "metadata": {},
          "execution_count": 236
        }
      ],
      "source": [
        "output_data"
      ]
    },
    {
      "cell_type": "markdown",
      "metadata": {
        "id": "vgGQuV-yqYZH"
      },
      "source": [
        "## Conclusion\n",
        "\n",
        "This notebook introduced a few techniques to handle a regression problem. Here are a few more tips that may help:\n",
        "\n",
        "- Mean squared error (MSE) (`tf.keras.losses.MeanSquaredError`) and mean absolute error (MAE) (`tf.keras.losses.MeanAbsoluteError`) are common loss functions used for regression problems. MAE is less sensitive to outliers. Different loss functions are used for classification problems.\n",
        "- Similarly, evaluation metrics used for regression differ from classification.\n",
        "- When numeric input data features have values with different ranges, each feature should be scaled independently to the same range.\n",
        "- Overfitting is a common problem for DNN models, though it wasn't a problem for this tutorial. Visit the [Overfit and underfit](overfit_and_underfit.ipynb) tutorial for more help with this."
      ]
    }
  ],
  "metadata": {
    "colab": {
      "provenance": []
    },
    "kernelspec": {
      "display_name": "Python 3",
      "name": "python3"
    },
    "language_info": {
      "codemirror_mode": {
        "name": "ipython",
        "version": 3
      },
      "file_extension": ".py",
      "mimetype": "text/x-python",
      "name": "python",
      "nbconvert_exporter": "python",
      "pygments_lexer": "ipython3",
      "version": "3.9.16"
    }
  },
  "nbformat": 4,
  "nbformat_minor": 0
}