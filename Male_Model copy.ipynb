{
  "cells": [
    {
      "cell_type": "markdown",
      "metadata": {
        "id": "EIdT9iu_Z4Rb"
      },
      "source": [
        "# Predict Body Fat Percentage - Male"
      ]
    },
    {
      "cell_type": "code",
      "execution_count": null,
      "metadata": {
        "execution": {
          "iopub.execute_input": "2022-12-27T02:21:47.153620Z",
          "iopub.status.busy": "2022-12-27T02:21:47.153190Z",
          "iopub.status.idle": "2022-12-27T02:21:48.784452Z",
          "shell.execute_reply": "2022-12-27T02:21:48.783374Z"
        },
        "id": "moB4tpEHxKB3"
      },
      "outputs": [],
      "source": [
        "# Use seaborn for pairplot.\n",
        "!pip install -q seaborn"
      ]
    },
    {
      "cell_type": "code",
      "execution_count": null,
      "metadata": {
        "execution": {
          "iopub.execute_input": "2022-12-27T02:21:48.789114Z",
          "iopub.status.busy": "2022-12-27T02:21:48.788463Z",
          "iopub.status.idle": "2022-12-27T02:21:49.953631Z",
          "shell.execute_reply": "2022-12-27T02:21:49.952896Z"
        },
        "id": "1rRo8oNqZ-Rj"
      },
      "outputs": [],
      "source": [
        "import matplotlib.pyplot as plt\n",
        "import numpy as np\n",
        "import pandas as pd\n",
        "import seaborn as sns\n",
        "\n",
        "# Make NumPy printouts easier to read.\n",
        "np.set_printoptions(precision=3, suppress=True)"
      ]
    },
    {
      "cell_type": "code",
      "execution_count": null,
      "metadata": {
        "execution": {
          "iopub.execute_input": "2022-12-27T02:21:49.957849Z",
          "iopub.status.busy": "2022-12-27T02:21:49.957261Z",
          "iopub.status.idle": "2022-12-27T02:21:51.455642Z",
          "shell.execute_reply": "2022-12-27T02:21:51.454983Z"
        },
        "id": "9xQKvCJ85kCQ"
      },
      "outputs": [],
      "source": [
        "import tensorflow as tf\n",
        "\n",
        "from tensorflow import keras\n",
        "from tensorflow.keras import layers"
      ]
    },
    {
      "cell_type": "markdown",
      "metadata": {
        "id": "gFh9ne3FZ-On"
      },
      "source": [
        "### Get the data\n",
        "First download and import the dataset using pandas. Then identify the input and output parameters."
      ]
    },
    {
      "cell_type": "code",
      "execution_count": null,
      "metadata": {
        "execution": {
          "iopub.execute_input": "2022-12-27T02:21:51.459965Z",
          "iopub.status.busy": "2022-12-27T02:21:51.459053Z",
          "iopub.status.idle": "2022-12-27T02:21:51.857083Z",
          "shell.execute_reply": "2022-12-27T02:21:51.856436Z"
        },
        "id": "CiX2FI4gZtTt",
        "colab": {
          "base_uri": "https://localhost:8080/",
          "height": 424
        },
        "outputId": "4b3f1caa-b33c-4154-897d-2e0976818ef4"
      },
      "outputs": [
        {
          "output_type": "execute_result",
          "data": {
            "text/plain": [
              "     Density  BodyFat  Age  Weight  Height  Neck  Chest  Abdomen    Hip  \\\n",
              "0     1.0708     12.3   23  154.25   67.75  36.2   93.1     85.2   94.5   \n",
              "1     1.0853      6.1   22  173.25   72.25  38.5   93.6     83.0   98.7   \n",
              "2     1.0414     25.3   22  154.00   66.25  34.0   95.8     87.9   99.2   \n",
              "3     1.0751     10.4   26  184.75   72.25  37.4  101.8     86.4  101.2   \n",
              "4     1.0340     28.7   24  184.25   71.25  34.4   97.3    100.0  101.9   \n",
              "..       ...      ...  ...     ...     ...   ...    ...      ...    ...   \n",
              "247   1.0736     11.0   70  134.25   67.00  34.9   89.2     83.6   88.8   \n",
              "248   1.0236     33.6   72  201.00   69.75  40.9  108.5    105.0  104.5   \n",
              "249   1.0328     29.3   72  186.75   66.00  38.9  111.1    111.5  101.7   \n",
              "250   1.0399     26.0   72  190.75   70.50  38.9  108.3    101.3   97.8   \n",
              "251   1.0271     31.9   74  207.50   70.00  40.8  112.4    108.5  107.1   \n",
              "\n",
              "     Thigh  Knee  Ankle  Biceps  Forearm  Wrist  \n",
              "0     59.0  37.3   21.9    32.0     27.4   17.1  \n",
              "1     58.7  37.3   23.4    30.5     28.9   18.2  \n",
              "2     59.6  38.9   24.0    28.8     25.2   16.6  \n",
              "3     60.1  37.3   22.8    32.4     29.4   18.2  \n",
              "4     63.2  42.2   24.0    32.2     27.7   17.7  \n",
              "..     ...   ...    ...     ...      ...    ...  \n",
              "247   49.6  34.8   21.5    25.6     25.7   18.5  \n",
              "248   59.6  40.8   23.2    35.2     28.6   20.1  \n",
              "249   60.3  37.3   21.5    31.3     27.2   18.0  \n",
              "250   56.0  41.6   22.7    30.5     29.4   19.8  \n",
              "251   59.3  42.2   24.6    33.7     30.0   20.9  \n",
              "\n",
              "[252 rows x 15 columns]"
            ],
            "text/html": [
              "\n",
              "  <div id=\"df-e2d32ef8-a9d2-4e10-8a90-9603d3ecfd86\">\n",
              "    <div class=\"colab-df-container\">\n",
              "      <div>\n",
              "<style scoped>\n",
              "    .dataframe tbody tr th:only-of-type {\n",
              "        vertical-align: middle;\n",
              "    }\n",
              "\n",
              "    .dataframe tbody tr th {\n",
              "        vertical-align: top;\n",
              "    }\n",
              "\n",
              "    .dataframe thead th {\n",
              "        text-align: right;\n",
              "    }\n",
              "</style>\n",
              "<table border=\"1\" class=\"dataframe\">\n",
              "  <thead>\n",
              "    <tr style=\"text-align: right;\">\n",
              "      <th></th>\n",
              "      <th>Density</th>\n",
              "      <th>BodyFat</th>\n",
              "      <th>Age</th>\n",
              "      <th>Weight</th>\n",
              "      <th>Height</th>\n",
              "      <th>Neck</th>\n",
              "      <th>Chest</th>\n",
              "      <th>Abdomen</th>\n",
              "      <th>Hip</th>\n",
              "      <th>Thigh</th>\n",
              "      <th>Knee</th>\n",
              "      <th>Ankle</th>\n",
              "      <th>Biceps</th>\n",
              "      <th>Forearm</th>\n",
              "      <th>Wrist</th>\n",
              "    </tr>\n",
              "  </thead>\n",
              "  <tbody>\n",
              "    <tr>\n",
              "      <th>0</th>\n",
              "      <td>1.0708</td>\n",
              "      <td>12.3</td>\n",
              "      <td>23</td>\n",
              "      <td>154.25</td>\n",
              "      <td>67.75</td>\n",
              "      <td>36.2</td>\n",
              "      <td>93.1</td>\n",
              "      <td>85.2</td>\n",
              "      <td>94.5</td>\n",
              "      <td>59.0</td>\n",
              "      <td>37.3</td>\n",
              "      <td>21.9</td>\n",
              "      <td>32.0</td>\n",
              "      <td>27.4</td>\n",
              "      <td>17.1</td>\n",
              "    </tr>\n",
              "    <tr>\n",
              "      <th>1</th>\n",
              "      <td>1.0853</td>\n",
              "      <td>6.1</td>\n",
              "      <td>22</td>\n",
              "      <td>173.25</td>\n",
              "      <td>72.25</td>\n",
              "      <td>38.5</td>\n",
              "      <td>93.6</td>\n",
              "      <td>83.0</td>\n",
              "      <td>98.7</td>\n",
              "      <td>58.7</td>\n",
              "      <td>37.3</td>\n",
              "      <td>23.4</td>\n",
              "      <td>30.5</td>\n",
              "      <td>28.9</td>\n",
              "      <td>18.2</td>\n",
              "    </tr>\n",
              "    <tr>\n",
              "      <th>2</th>\n",
              "      <td>1.0414</td>\n",
              "      <td>25.3</td>\n",
              "      <td>22</td>\n",
              "      <td>154.00</td>\n",
              "      <td>66.25</td>\n",
              "      <td>34.0</td>\n",
              "      <td>95.8</td>\n",
              "      <td>87.9</td>\n",
              "      <td>99.2</td>\n",
              "      <td>59.6</td>\n",
              "      <td>38.9</td>\n",
              "      <td>24.0</td>\n",
              "      <td>28.8</td>\n",
              "      <td>25.2</td>\n",
              "      <td>16.6</td>\n",
              "    </tr>\n",
              "    <tr>\n",
              "      <th>3</th>\n",
              "      <td>1.0751</td>\n",
              "      <td>10.4</td>\n",
              "      <td>26</td>\n",
              "      <td>184.75</td>\n",
              "      <td>72.25</td>\n",
              "      <td>37.4</td>\n",
              "      <td>101.8</td>\n",
              "      <td>86.4</td>\n",
              "      <td>101.2</td>\n",
              "      <td>60.1</td>\n",
              "      <td>37.3</td>\n",
              "      <td>22.8</td>\n",
              "      <td>32.4</td>\n",
              "      <td>29.4</td>\n",
              "      <td>18.2</td>\n",
              "    </tr>\n",
              "    <tr>\n",
              "      <th>4</th>\n",
              "      <td>1.0340</td>\n",
              "      <td>28.7</td>\n",
              "      <td>24</td>\n",
              "      <td>184.25</td>\n",
              "      <td>71.25</td>\n",
              "      <td>34.4</td>\n",
              "      <td>97.3</td>\n",
              "      <td>100.0</td>\n",
              "      <td>101.9</td>\n",
              "      <td>63.2</td>\n",
              "      <td>42.2</td>\n",
              "      <td>24.0</td>\n",
              "      <td>32.2</td>\n",
              "      <td>27.7</td>\n",
              "      <td>17.7</td>\n",
              "    </tr>\n",
              "    <tr>\n",
              "      <th>...</th>\n",
              "      <td>...</td>\n",
              "      <td>...</td>\n",
              "      <td>...</td>\n",
              "      <td>...</td>\n",
              "      <td>...</td>\n",
              "      <td>...</td>\n",
              "      <td>...</td>\n",
              "      <td>...</td>\n",
              "      <td>...</td>\n",
              "      <td>...</td>\n",
              "      <td>...</td>\n",
              "      <td>...</td>\n",
              "      <td>...</td>\n",
              "      <td>...</td>\n",
              "      <td>...</td>\n",
              "    </tr>\n",
              "    <tr>\n",
              "      <th>247</th>\n",
              "      <td>1.0736</td>\n",
              "      <td>11.0</td>\n",
              "      <td>70</td>\n",
              "      <td>134.25</td>\n",
              "      <td>67.00</td>\n",
              "      <td>34.9</td>\n",
              "      <td>89.2</td>\n",
              "      <td>83.6</td>\n",
              "      <td>88.8</td>\n",
              "      <td>49.6</td>\n",
              "      <td>34.8</td>\n",
              "      <td>21.5</td>\n",
              "      <td>25.6</td>\n",
              "      <td>25.7</td>\n",
              "      <td>18.5</td>\n",
              "    </tr>\n",
              "    <tr>\n",
              "      <th>248</th>\n",
              "      <td>1.0236</td>\n",
              "      <td>33.6</td>\n",
              "      <td>72</td>\n",
              "      <td>201.00</td>\n",
              "      <td>69.75</td>\n",
              "      <td>40.9</td>\n",
              "      <td>108.5</td>\n",
              "      <td>105.0</td>\n",
              "      <td>104.5</td>\n",
              "      <td>59.6</td>\n",
              "      <td>40.8</td>\n",
              "      <td>23.2</td>\n",
              "      <td>35.2</td>\n",
              "      <td>28.6</td>\n",
              "      <td>20.1</td>\n",
              "    </tr>\n",
              "    <tr>\n",
              "      <th>249</th>\n",
              "      <td>1.0328</td>\n",
              "      <td>29.3</td>\n",
              "      <td>72</td>\n",
              "      <td>186.75</td>\n",
              "      <td>66.00</td>\n",
              "      <td>38.9</td>\n",
              "      <td>111.1</td>\n",
              "      <td>111.5</td>\n",
              "      <td>101.7</td>\n",
              "      <td>60.3</td>\n",
              "      <td>37.3</td>\n",
              "      <td>21.5</td>\n",
              "      <td>31.3</td>\n",
              "      <td>27.2</td>\n",
              "      <td>18.0</td>\n",
              "    </tr>\n",
              "    <tr>\n",
              "      <th>250</th>\n",
              "      <td>1.0399</td>\n",
              "      <td>26.0</td>\n",
              "      <td>72</td>\n",
              "      <td>190.75</td>\n",
              "      <td>70.50</td>\n",
              "      <td>38.9</td>\n",
              "      <td>108.3</td>\n",
              "      <td>101.3</td>\n",
              "      <td>97.8</td>\n",
              "      <td>56.0</td>\n",
              "      <td>41.6</td>\n",
              "      <td>22.7</td>\n",
              "      <td>30.5</td>\n",
              "      <td>29.4</td>\n",
              "      <td>19.8</td>\n",
              "    </tr>\n",
              "    <tr>\n",
              "      <th>251</th>\n",
              "      <td>1.0271</td>\n",
              "      <td>31.9</td>\n",
              "      <td>74</td>\n",
              "      <td>207.50</td>\n",
              "      <td>70.00</td>\n",
              "      <td>40.8</td>\n",
              "      <td>112.4</td>\n",
              "      <td>108.5</td>\n",
              "      <td>107.1</td>\n",
              "      <td>59.3</td>\n",
              "      <td>42.2</td>\n",
              "      <td>24.6</td>\n",
              "      <td>33.7</td>\n",
              "      <td>30.0</td>\n",
              "      <td>20.9</td>\n",
              "    </tr>\n",
              "  </tbody>\n",
              "</table>\n",
              "<p>252 rows × 15 columns</p>\n",
              "</div>\n",
              "      <button class=\"colab-df-convert\" onclick=\"convertToInteractive('df-e2d32ef8-a9d2-4e10-8a90-9603d3ecfd86')\"\n",
              "              title=\"Convert this dataframe to an interactive table.\"\n",
              "              style=\"display:none;\">\n",
              "        \n",
              "  <svg xmlns=\"http://www.w3.org/2000/svg\" height=\"24px\"viewBox=\"0 0 24 24\"\n",
              "       width=\"24px\">\n",
              "    <path d=\"M0 0h24v24H0V0z\" fill=\"none\"/>\n",
              "    <path d=\"M18.56 5.44l.94 2.06.94-2.06 2.06-.94-2.06-.94-.94-2.06-.94 2.06-2.06.94zm-11 1L8.5 8.5l.94-2.06 2.06-.94-2.06-.94L8.5 2.5l-.94 2.06-2.06.94zm10 10l.94 2.06.94-2.06 2.06-.94-2.06-.94-.94-2.06-.94 2.06-2.06.94z\"/><path d=\"M17.41 7.96l-1.37-1.37c-.4-.4-.92-.59-1.43-.59-.52 0-1.04.2-1.43.59L10.3 9.45l-7.72 7.72c-.78.78-.78 2.05 0 2.83L4 21.41c.39.39.9.59 1.41.59.51 0 1.02-.2 1.41-.59l7.78-7.78 2.81-2.81c.8-.78.8-2.07 0-2.86zM5.41 20L4 18.59l7.72-7.72 1.47 1.35L5.41 20z\"/>\n",
              "  </svg>\n",
              "      </button>\n",
              "      \n",
              "  <style>\n",
              "    .colab-df-container {\n",
              "      display:flex;\n",
              "      flex-wrap:wrap;\n",
              "      gap: 12px;\n",
              "    }\n",
              "\n",
              "    .colab-df-convert {\n",
              "      background-color: #E8F0FE;\n",
              "      border: none;\n",
              "      border-radius: 50%;\n",
              "      cursor: pointer;\n",
              "      display: none;\n",
              "      fill: #1967D2;\n",
              "      height: 32px;\n",
              "      padding: 0 0 0 0;\n",
              "      width: 32px;\n",
              "    }\n",
              "\n",
              "    .colab-df-convert:hover {\n",
              "      background-color: #E2EBFA;\n",
              "      box-shadow: 0px 1px 2px rgba(60, 64, 67, 0.3), 0px 1px 3px 1px rgba(60, 64, 67, 0.15);\n",
              "      fill: #174EA6;\n",
              "    }\n",
              "\n",
              "    [theme=dark] .colab-df-convert {\n",
              "      background-color: #3B4455;\n",
              "      fill: #D2E3FC;\n",
              "    }\n",
              "\n",
              "    [theme=dark] .colab-df-convert:hover {\n",
              "      background-color: #434B5C;\n",
              "      box-shadow: 0px 1px 3px 1px rgba(0, 0, 0, 0.15);\n",
              "      filter: drop-shadow(0px 1px 2px rgba(0, 0, 0, 0.3));\n",
              "      fill: #FFFFFF;\n",
              "    }\n",
              "  </style>\n",
              "\n",
              "      <script>\n",
              "        const buttonEl =\n",
              "          document.querySelector('#df-e2d32ef8-a9d2-4e10-8a90-9603d3ecfd86 button.colab-df-convert');\n",
              "        buttonEl.style.display =\n",
              "          google.colab.kernel.accessAllowed ? 'block' : 'none';\n",
              "\n",
              "        async function convertToInteractive(key) {\n",
              "          const element = document.querySelector('#df-e2d32ef8-a9d2-4e10-8a90-9603d3ecfd86');\n",
              "          const dataTable =\n",
              "            await google.colab.kernel.invokeFunction('convertToInteractive',\n",
              "                                                     [key], {});\n",
              "          if (!dataTable) return;\n",
              "\n",
              "          const docLinkHtml = 'Like what you see? Visit the ' +\n",
              "            '<a target=\"_blank\" href=https://colab.research.google.com/notebooks/data_table.ipynb>data table notebook</a>'\n",
              "            + ' to learn more about interactive tables.';\n",
              "          element.innerHTML = '';\n",
              "          dataTable['output_type'] = 'display_data';\n",
              "          await google.colab.output.renderOutput(dataTable, element);\n",
              "          const docLink = document.createElement('div');\n",
              "          docLink.innerHTML = docLinkHtml;\n",
              "          element.appendChild(docLink);\n",
              "        }\n",
              "      </script>\n",
              "    </div>\n",
              "  </div>\n",
              "  "
            ]
          },
          "metadata": {},
          "execution_count": 8
        }
      ],
      "source": [
        "#loading the dataset\n",
        "df=pd.read_csv('bodyfat.csv')\n",
        "df"
      ]
    },
    {
      "cell_type": "markdown",
      "metadata": {
        "id": "Db7Auq1yXUvh"
      },
      "source": [
        "### Split features from labels\n",
        "\n",
        "Separate the target value—the \"label\"—from the features. This label is the value that you will train the model to predict. Th X contains input features and y variable contains the label also known as output which is the Body Fat Percentage."
      ]
    },
    {
      "cell_type": "code",
      "source": [
        "#splitting to input and output\n",
        "X = df.drop(['BodyFat','Density'],axis=1)\n",
        "y=df['BodyFat']"
      ],
      "metadata": {
        "id": "AvKEs5XQzly-"
      },
      "execution_count": null,
      "outputs": []
    },
    {
      "cell_type": "markdown",
      "metadata": {
        "id": "3MWuJTKEDM-f"
      },
      "source": [
        "### Clean the data\n",
        "\n",
        "This dataset does not contain any null or unknown values and measuring units are constant throughout. Therefore there's no need to clean the dataset."
      ]
    },
    {
      "cell_type": "markdown",
      "metadata": {
        "id": "Cuym4yvk76vU"
      },
      "source": [
        "### Split the data into training and test sets\n",
        "\n",
        "Now, split the dataset into a training set and a test set. We will use the test set in the final evaluation of our models."
      ]
    },
    {
      "cell_type": "code",
      "execution_count": null,
      "metadata": {
        "execution": {
          "iopub.execute_input": "2022-12-27T02:21:54.619704Z",
          "iopub.status.busy": "2022-12-27T02:21:54.619079Z",
          "iopub.status.idle": "2022-12-27T02:21:54.623534Z",
          "shell.execute_reply": "2022-12-27T02:21:54.622996Z"
        },
        "id": "t2sluJdCW7jN"
      },
      "outputs": [],
      "source": [
        "from sklearn.model_selection import train_test_split #this function returns a tuple\n",
        "#splitting data\n",
        "train_features, test_features,train_labels,test_labels =train_test_split(X, y, test_size=0.2)"
      ]
    },
    {
      "cell_type": "markdown",
      "metadata": {
        "id": "J4ubs136WLNp"
      },
      "source": [
        "### Inspect the data\n",
        "\n",
        "Review the joint distribution of a few pairs of columns from the training set.\n",
        "\n"
      ]
    },
    {
      "cell_type": "code",
      "execution_count": null,
      "metadata": {
        "execution": {
          "iopub.execute_input": "2022-12-27T02:21:51.923735Z",
          "iopub.status.busy": "2022-12-27T02:21:51.923265Z",
          "iopub.status.idle": "2022-12-27T02:21:54.579330Z",
          "shell.execute_reply": "2022-12-27T02:21:54.578578Z"
        },
        "id": "oRKO_x8gWKv-",
        "outputId": "a02ac0f9-bc7f-4623-c4a1-7589d70a5dad",
        "colab": {
          "base_uri": "https://localhost:8080/",
          "height": 1000
        }
      },
      "outputs": [
        {
          "output_type": "execute_result",
          "data": {
            "text/plain": [
              "<seaborn.axisgrid.PairGrid at 0x7fe6e85f6c10>"
            ]
          },
          "metadata": {},
          "execution_count": 9
        },
        {
          "output_type": "display_data",
          "data": {
            "text/plain": [
              "<Figure size 1000x1000 with 20 Axes>"
            ],
            "image/png": "[encoded data removed]"
          },
          "metadata": {}
        }
      ],
      "source": [
        "sns.pairplot(train_features[['Age', 'Weight', 'Height', 'Abdomen']], diag_kind='kde')"
      ]
    },
    {
      "cell_type": "markdown",
      "metadata": {
        "id": "gavKO_6DWRMP"
      },
      "source": [
        "Let's also check the overall statistics. Note how each feature covers a very different range:"
      ]
    },
    {
      "cell_type": "code",
      "execution_count": null,
      "metadata": {
        "execution": {
          "iopub.execute_input": "2022-12-27T02:21:54.584792Z",
          "iopub.status.busy": "2022-12-27T02:21:54.584146Z",
          "iopub.status.idle": "2022-12-27T02:21:54.616279Z",
          "shell.execute_reply": "2022-12-27T02:21:54.615730Z"
        },
        "id": "yi2FzC3T21jR",
        "outputId": "36077fbd-a416-4cbe-f991-f590c24915b0",
        "colab": {
          "base_uri": "https://localhost:8080/",
          "height": 457
        }
      },
      "outputs": [
        {
          "output_type": "execute_result",
          "data": {
            "text/plain": [
              "         count        mean        std    min     25%     50%     75%     max\n",
              "Age      201.0   44.895522  12.468121   22.0   36.00   43.00   54.00   81.00\n",
              "Weight   201.0  179.517164  30.505539  118.5  159.25  176.75  198.50  363.15\n",
              "Height   201.0   70.069652   3.919917   29.5   68.25   70.00   72.25   77.50\n",
              "Neck     201.0   38.076119   2.508790   31.1   36.40   38.00   39.80   51.20\n",
              "Chest    201.0  101.007960   8.672084   79.3   94.40   99.70  106.00  136.20\n",
              "Abdomen  201.0   92.807463  11.123628   69.4   85.20   91.10   99.70  148.10\n",
              "Hip      201.0   99.951741   7.565382   85.0   95.30   99.20  103.90  147.70\n",
              "Thigh    201.0   59.476119   5.467580   47.2   56.00   59.10   62.80   87.30\n",
              "Knee     201.0   38.601493   2.448846   33.4   37.00   38.60   39.90   49.10\n",
              "Ankle    201.0   23.172139   1.802615   19.1   22.10   22.80   24.00   33.90\n",
              "Biceps   201.0   32.365672   3.177352   24.8   30.30   32.10   34.70   45.00\n",
              "Forearm  201.0   28.725373   2.066205   21.0   27.30   28.80   30.10   34.90\n",
              "Wrist    201.0   18.242289   0.956793   16.1   17.60   18.30   18.80   21.40"
            ],
            "text/html": [
              "\n",
              "  <div id=\"df-dd310dc7-c193-4166-b002-4cb52d88bb37\">\n",
              "    <div class=\"colab-df-container\">\n",
              "      <div>\n",
              "<style scoped>\n",
              "    .dataframe tbody tr th:only-of-type {\n",
              "        vertical-align: middle;\n",
              "    }\n",
              "\n",
              "    .dataframe tbody tr th {\n",
              "        vertical-align: top;\n",
              "    }\n",
              "\n",
              "    .dataframe thead th {\n",
              "        text-align: right;\n",
              "    }\n",
              "</style>\n",
              "<table border=\"1\" class=\"dataframe\">\n",
              "  <thead>\n",
              "    <tr style=\"text-align: right;\">\n",
              "      <th></th>\n",
              "      <th>count</th>\n",
              "      <th>mean</th>\n",
              "      <th>std</th>\n",
              "      <th>min</th>\n",
              "      <th>25%</th>\n",
              "      <th>50%</th>\n",
              "      <th>75%</th>\n",
              "      <th>max</th>\n",
              "    </tr>\n",
              "  </thead>\n",
              "  <tbody>\n",
              "    <tr>\n",
              "      <th>Age</th>\n",
              "      <td>201.0</td>\n",
              "      <td>44.895522</td>\n",
              "      <td>12.468121</td>\n",
              "      <td>22.0</td>\n",
              "      <td>36.00</td>\n",
              "      <td>43.00</td>\n",
              "      <td>54.00</td>\n",
              "      <td>81.00</td>\n",
              "    </tr>\n",
              "    <tr>\n",
              "      <th>Weight</th>\n",
              "      <td>201.0</td>\n",
              "      <td>179.517164</td>\n",
              "      <td>30.505539</td>\n",
              "      <td>118.5</td>\n",
              "      <td>159.25</td>\n",
              "      <td>176.75</td>\n",
              "      <td>198.50</td>\n",
              "      <td>363.15</td>\n",
              "    </tr>\n",
              "    <tr>\n",
              "      <th>Height</th>\n",
              "      <td>201.0</td>\n",
              "      <td>70.069652</td>\n",
              "      <td>3.919917</td>\n",
              "      <td>29.5</td>\n",
              "      <td>68.25</td>\n",
              "      <td>70.00</td>\n",
              "      <td>72.25</td>\n",
              "      <td>77.50</td>\n",
              "    </tr>\n",
              "    <tr>\n",
              "      <th>Neck</th>\n",
              "      <td>201.0</td>\n",
              "      <td>38.076119</td>\n",
              "      <td>2.508790</td>\n",
              "      <td>31.1</td>\n",
              "      <td>36.40</td>\n",
              "      <td>38.00</td>\n",
              "      <td>39.80</td>\n",
              "      <td>51.20</td>\n",
              "    </tr>\n",
              "    <tr>\n",
              "      <th>Chest</th>\n",
              "      <td>201.0</td>\n",
              "      <td>101.007960</td>\n",
              "      <td>8.672084</td>\n",
              "      <td>79.3</td>\n",
              "      <td>94.40</td>\n",
              "      <td>99.70</td>\n",
              "      <td>106.00</td>\n",
              "      <td>136.20</td>\n",
              "    </tr>\n",
              "    <tr>\n",
              "      <th>Abdomen</th>\n",
              "      <td>201.0</td>\n",
              "      <td>92.807463</td>\n",
              "      <td>11.123628</td>\n",
              "      <td>69.4</td>\n",
              "      <td>85.20</td>\n",
              "      <td>91.10</td>\n",
              "      <td>99.70</td>\n",
              "      <td>148.10</td>\n",
              "    </tr>\n",
              "    <tr>\n",
              "      <th>Hip</th>\n",
              "      <td>201.0</td>\n",
              "      <td>99.951741</td>\n",
              "      <td>7.565382</td>\n",
              "      <td>85.0</td>\n",
              "      <td>95.30</td>\n",
              "      <td>99.20</td>\n",
              "      <td>103.90</td>\n",
              "      <td>147.70</td>\n",
              "    </tr>\n",
              "    <tr>\n",
              "      <th>Thigh</th>\n",
              "      <td>201.0</td>\n",
              "      <td>59.476119</td>\n",
              "      <td>5.467580</td>\n",
              "      <td>47.2</td>\n",
              "      <td>56.00</td>\n",
              "      <td>59.10</td>\n",
              "      <td>62.80</td>\n",
              "      <td>87.30</td>\n",
              "    </tr>\n",
              "    <tr>\n",
              "      <th>Knee</th>\n",
              "      <td>201.0</td>\n",
              "      <td>38.601493</td>\n",
              "      <td>2.448846</td>\n",
              "      <td>33.4</td>\n",
              "      <td>37.00</td>\n",
              "      <td>38.60</td>\n",
              "      <td>39.90</td>\n",
              "      <td>49.10</td>\n",
              "    </tr>\n",
              "    <tr>\n",
              "      <th>Ankle</th>\n",
              "      <td>201.0</td>\n",
              "      <td>23.172139</td>\n",
              "      <td>1.802615</td>\n",
              "      <td>19.1</td>\n",
              "      <td>22.10</td>\n",
              "      <td>22.80</td>\n",
              "      <td>24.00</td>\n",
              "      <td>33.90</td>\n",
              "    </tr>\n",
              "    <tr>\n",
              "      <th>Biceps</th>\n",
              "      <td>201.0</td>\n",
              "      <td>32.365672</td>\n",
              "      <td>3.177352</td>\n",
              "      <td>24.8</td>\n",
              "      <td>30.30</td>\n",
              "      <td>32.10</td>\n",
              "      <td>34.70</td>\n",
              "      <td>45.00</td>\n",
              "    </tr>\n",
              "    <tr>\n",
              "      <th>Forearm</th>\n",
              "      <td>201.0</td>\n",
              "      <td>28.725373</td>\n",
              "      <td>2.066205</td>\n",
              "      <td>21.0</td>\n",
              "      <td>27.30</td>\n",
              "      <td>28.80</td>\n",
              "      <td>30.10</td>\n",
              "      <td>34.90</td>\n",
              "    </tr>\n",
              "    <tr>\n",
              "      <th>Wrist</th>\n",
              "      <td>201.0</td>\n",
              "      <td>18.242289</td>\n",
              "      <td>0.956793</td>\n",
              "      <td>16.1</td>\n",
              "      <td>17.60</td>\n",
              "      <td>18.30</td>\n",
              "      <td>18.80</td>\n",
              "      <td>21.40</td>\n",
              "    </tr>\n",
              "  </tbody>\n",
              "</table>\n",
              "</div>\n",
              "      <button class=\"colab-df-convert\" onclick=\"convertToInteractive('df-dd310dc7-c193-4166-b002-4cb52d88bb37')\"\n",
              "              title=\"Convert this dataframe to an interactive table.\"\n",
              "              style=\"display:none;\">\n",
              "        \n",
              "  <svg xmlns=\"http://www.w3.org/2000/svg\" height=\"24px\"viewBox=\"0 0 24 24\"\n",
              "       width=\"24px\">\n",
              "    <path d=\"M0 0h24v24H0V0z\" fill=\"none\"/>\n",
              "    <path d=\"M18.56 5.44l.94 2.06.94-2.06 2.06-.94-2.06-.94-.94-2.06-.94 2.06-2.06.94zm-11 1L8.5 8.5l.94-2.06 2.06-.94-2.06-.94L8.5 2.5l-.94 2.06-2.06.94zm10 10l.94 2.06.94-2.06 2.06-.94-2.06-.94-.94-2.06-.94 2.06-2.06.94z\"/><path d=\"M17.41 7.96l-1.37-1.37c-.4-.4-.92-.59-1.43-.59-.52 0-1.04.2-1.43.59L10.3 9.45l-7.72 7.72c-.78.78-.78 2.05 0 2.83L4 21.41c.39.39.9.59 1.41.59.51 0 1.02-.2 1.41-.59l7.78-7.78 2.81-2.81c.8-.78.8-2.07 0-2.86zM5.41 20L4 18.59l7.72-7.72 1.47 1.35L5.41 20z\"/>\n",
              "  </svg>\n",
              "      </button>\n",
              "      \n",
              "  <style>\n",
              "    .colab-df-container {\n",
              "      display:flex;\n",
              "      flex-wrap:wrap;\n",
              "      gap: 12px;\n",
              "    }\n",
              "\n",
              "    .colab-df-convert {\n",
              "      background-color: #E8F0FE;\n",
              "      border: none;\n",
              "      border-radius: 50%;\n",
              "      cursor: pointer;\n",
              "      display: none;\n",
              "      fill: #1967D2;\n",
              "      height: 32px;\n",
              "      padding: 0 0 0 0;\n",
              "      width: 32px;\n",
              "    }\n",
              "\n",
              "    .colab-df-convert:hover {\n",
              "      background-color: #E2EBFA;\n",
              "      box-shadow: 0px 1px 2px rgba(60, 64, 67, 0.3), 0px 1px 3px 1px rgba(60, 64, 67, 0.15);\n",
              "      fill: #174EA6;\n",
              "    }\n",
              "\n",
              "    [theme=dark] .colab-df-convert {\n",
              "      background-color: #3B4455;\n",
              "      fill: #D2E3FC;\n",
              "    }\n",
              "\n",
              "    [theme=dark] .colab-df-convert:hover {\n",
              "      background-color: #434B5C;\n",
              "      box-shadow: 0px 1px 3px 1px rgba(0, 0, 0, 0.15);\n",
              "      filter: drop-shadow(0px 1px 2px rgba(0, 0, 0, 0.3));\n",
              "      fill: #FFFFFF;\n",
              "    }\n",
              "  </style>\n",
              "\n",
              "      <script>\n",
              "        const buttonEl =\n",
              "          document.querySelector('#df-dd310dc7-c193-4166-b002-4cb52d88bb37 button.colab-df-convert');\n",
              "        buttonEl.style.display =\n",
              "          google.colab.kernel.accessAllowed ? 'block' : 'none';\n",
              "\n",
              "        async function convertToInteractive(key) {\n",
              "          const element = document.querySelector('#df-dd310dc7-c193-4166-b002-4cb52d88bb37');\n",
              "          const dataTable =\n",
              "            await google.colab.kernel.invokeFunction('convertToInteractive',\n",
              "                                                     [key], {});\n",
              "          if (!dataTable) return;\n",
              "\n",
              "          const docLinkHtml = 'Like what you see? Visit the ' +\n",
              "            '<a target=\"_blank\" href=https://colab.research.google.com/notebooks/data_table.ipynb>data table notebook</a>'\n",
              "            + ' to learn more about interactive tables.';\n",
              "          element.innerHTML = '';\n",
              "          dataTable['output_type'] = 'display_data';\n",
              "          await google.colab.output.renderOutput(dataTable, element);\n",
              "          const docLink = document.createElement('div');\n",
              "          docLink.innerHTML = docLinkHtml;\n",
              "          element.appendChild(docLink);\n",
              "        }\n",
              "      </script>\n",
              "    </div>\n",
              "  </div>\n",
              "  "
            ]
          },
          "metadata": {},
          "execution_count": 10
        }
      ],
      "source": [
        "train_features.describe().transpose()"
      ]
    },
    {
      "cell_type": "markdown",
      "metadata": {
        "id": "mRklxK5s388r"
      },
      "source": [
        "## Normalization\n",
        "\n",
        "In the table of statistics it's easy to see how different the ranges of each feature are:"
      ]
    },
    {
      "cell_type": "markdown",
      "metadata": {
        "id": "-ywmerQ6dSox"
      },
      "source": [
        "It is good practice to normalize features that use different scales and ranges.\n",
        "\n",
        "One reason this is important is because the features are multiplied by the model weights. So, the scale of the outputs and the scale of the gradients are affected by the scale of the inputs.\n",
        "\n",
        "Although a model *might* converge without feature normalization, normalization makes training much more stable. And it also make the preprocessing process more efficient."
      ]
    },
    {
      "cell_type": "markdown",
      "metadata": {
        "id": "aFJ6ISropeoo"
      },
      "source": [
        "### The Normalization layer\n",
        "\n",
        "The `tf.keras.layers.Normalization` is a clean and simple way to add feature normalization into the model.\n",
        "\n",
        "The first step is to create the layer:"
      ]
    },
    {
      "cell_type": "code",
      "execution_count": null,
      "metadata": {
        "execution": {
          "iopub.execute_input": "2022-12-27T02:21:54.654470Z",
          "iopub.status.busy": "2022-12-27T02:21:54.653996Z",
          "iopub.status.idle": "2022-12-27T02:21:54.671432Z",
          "shell.execute_reply": "2022-12-27T02:21:54.670897Z"
        },
        "id": "JlC5ooJrgjQF"
      },
      "outputs": [],
      "source": [
        "normalizer = tf.keras.layers.Normalization(axis=-1)"
      ]
    },
    {
      "cell_type": "markdown",
      "metadata": {
        "id": "XYA2Ap6nVOha"
      },
      "source": [
        "Then, fit the state of the preprocessing layer to the data by calling `Normalization.adapt`:"
      ]
    },
    {
      "cell_type": "code",
      "execution_count": null,
      "metadata": {
        "execution": {
          "iopub.execute_input": "2022-12-27T02:21:54.674924Z",
          "iopub.status.busy": "2022-12-27T02:21:54.674352Z",
          "iopub.status.idle": "2022-12-27T02:21:58.227347Z",
          "shell.execute_reply": "2022-12-27T02:21:58.226632Z"
        },
        "id": "CrBbbjbwV91f"
      },
      "outputs": [],
      "source": [
        "normalizer.adapt(np.array(train_features))"
      ]
    },
    {
      "cell_type": "markdown",
      "metadata": {
        "id": "oZccMR5yV9YV"
      },
      "source": [
        "Calculate the mean and variance, and store them in the layer:"
      ]
    },
    {
      "cell_type": "code",
      "execution_count": null,
      "metadata": {
        "colab": {
          "base_uri": "https://localhost:8080/"
        },
        "execution": {
          "iopub.execute_input": "2022-12-27T02:21:58.231969Z",
          "iopub.status.busy": "2022-12-27T02:21:58.231364Z",
          "iopub.status.idle": "2022-12-27T02:21:58.235553Z",
          "shell.execute_reply": "2022-12-27T02:21:58.234937Z"
        },
        "id": "GGn-ukwxSPtx",
        "outputId": "73523cf5-6f99-4a25-bdfd-657fab0adc50"
      },
      "outputs": [
        {
          "output_type": "stream",
          "name": "stdout",
          "text": [
            "[[ 44.896 179.517  70.07   38.076 101.008  92.807  99.952  59.476  38.601\n",
            "   23.172  32.366  28.725  18.242]]\n"
          ]
        }
      ],
      "source": [
        "print(normalizer.mean.numpy())"
      ]
    },
    {
      "cell_type": "markdown",
      "metadata": {
        "id": "oGWKaF9GSRuN"
      },
      "source": [
        "When the layer is called, it returns the input data, with each feature independently normalized:"
      ]
    },
    {
      "cell_type": "code",
      "execution_count": null,
      "metadata": {
        "colab": {
          "base_uri": "https://localhost:8080/"
        },
        "execution": {
          "iopub.execute_input": "2022-12-27T02:21:58.238943Z",
          "iopub.status.busy": "2022-12-27T02:21:58.238495Z",
          "iopub.status.idle": "2022-12-27T02:21:58.250628Z",
          "shell.execute_reply": "2022-12-27T02:21:58.249973Z"
        },
        "id": "2l7zFL_XWIRu",
        "outputId": "f19b9d60-473c-4f0b-ac62-6602c3a15756"
      },
      "outputs": [
        {
          "output_type": "stream",
          "name": "stdout",
          "text": [
            "First example: [[ 64.   160.    65.75  36.5  104.3   90.9   93.8   57.8   39.5   23.3\n",
            "   29.2   28.4   18.1 ]]\n",
            "\n",
            "Normalized: [[ 1.54 -0.64 -1.1  -0.63  0.38 -0.17 -0.82 -0.31  0.37  0.07 -1.   -0.16\n",
            "  -0.15]]\n"
          ]
        }
      ],
      "source": [
        "first = np.array(train_features[:1])\n",
        "\n",
        "with np.printoptions(precision=2, suppress=True):\n",
        "  print('First example:', first)\n",
        "  print()\n",
        "  print('Normalized:', normalizer(first).numpy())"
      ]
    },
    {
      "cell_type": "markdown",
      "metadata": {
        "id": "6o3CrycBXA2s"
      },
      "source": [
        "## Linear regression"
      ]
    },
    {
      "cell_type": "markdown",
      "metadata": {
        "id": "lFby9n0tnHkw"
      },
      "source": [
        "### Linear regression with one variable\n",
        "\n",
        "Begin with a single-variable linear regression to predict `'BodyFat'` from `'Weight'`.\n",
        "\n",
        "Training a model with `tf.keras` typically starts by defining the model architecture. Here we've used a `tf.keras.Sequential` model.\n",
        "\n",
        "There are two steps in your single-variable linear regression model:\n",
        "\n",
        "- Normalize the `'Weight'` input features using the `tf.keras.layers.Normalization` preprocessing layer.\n",
        "- Apply a linear transformation ($y = mx+b$) to produce 1 output using a linear layer (`tf.keras.layers.Dense`).\n",
        "\n",
        "The number of _inputs_ can either be set by the `input_shape` argument, or automatically when the model is run for the first time."
      ]
    },
    {
      "cell_type": "markdown",
      "metadata": {
        "id": "Xp3gAFn3TPv8"
      },
      "source": [
        "First, create a NumPy array made of the `'Weight'` features. Then, instantiate the `tf.keras.layers.Normalization` and fit its state to the `Weight` data:"
      ]
    },
    {
      "cell_type": "code",
      "execution_count": null,
      "metadata": {
        "execution": {
          "iopub.execute_input": "2022-12-27T02:21:58.254002Z",
          "iopub.status.busy": "2022-12-27T02:21:58.253568Z",
          "iopub.status.idle": "2022-12-27T02:21:58.435457Z",
          "shell.execute_reply": "2022-12-27T02:21:58.434733Z"
        },
        "id": "1gJAy0fKs1TS"
      },
      "outputs": [],
      "source": [
        "weight = np.array(train_features['Weight'])\n",
        "\n",
        "weight_normalizer = layers.Normalization(input_shape=[1,], axis=None)\n",
        "weight_normalizer.adapt(weight)"
      ]
    },
    {
      "cell_type": "markdown",
      "metadata": {
        "id": "4NVlHJY2TWlC"
      },
      "source": [
        "Build the Keras Sequential model:"
      ]
    },
    {
      "cell_type": "code",
      "execution_count": null,
      "metadata": {
        "colab": {
          "base_uri": "https://localhost:8080/"
        },
        "execution": {
          "iopub.execute_input": "2022-12-27T02:21:58.439673Z",
          "iopub.status.busy": "2022-12-27T02:21:58.439034Z",
          "iopub.status.idle": "2022-12-27T02:21:58.479041Z",
          "shell.execute_reply": "2022-12-27T02:21:58.478416Z"
        },
        "id": "c0sXM7qLlKfZ",
        "outputId": "d9d4f05b-4a52-4a4a-dc38-04f2f242a53d"
      },
      "outputs": [
        {
          "output_type": "stream",
          "name": "stdout",
          "text": [
            "Model: \"sequential\"\n",
            "_________________________________________________________________\n",
            " Layer (type)                Output Shape              Param #   \n",
            "=================================================================\n",
            " normalization_3 (Normalizat  (None, 1)                3         \n",
            " ion)                                                            \n",
            "                                                                 \n",
            " dense (Dense)               (None, 1)                 2         \n",
            "                                                                 \n",
            "=================================================================\n",
            "Total params: 5\n",
            "Trainable params: 2\n",
            "Non-trainable params: 3\n",
            "_________________________________________________________________\n"
          ]
        }
      ],
      "source": [
        "weight_model = tf.keras.Sequential([\n",
        "    weight_normalizer,\n",
        "    layers.Dense(units=1)\n",
        "])\n",
        "\n",
        "weight_model.summary()"
      ]
    },
    {
      "cell_type": "markdown",
      "metadata": {
        "id": "eObQu9fDnXGL"
      },
      "source": [
        "\n",
        "\n",
        "Run the untrained model on the first 10 'weight' values. The output won't be good, but notice that it has the expected shape of `(10, 1)`:"
      ]
    },
    {
      "cell_type": "code",
      "execution_count": null,
      "metadata": {
        "colab": {
          "base_uri": "https://localhost:8080/"
        },
        "execution": {
          "iopub.execute_input": "2022-12-27T02:21:58.485115Z",
          "iopub.status.busy": "2022-12-27T02:21:58.484669Z",
          "iopub.status.idle": "2022-12-27T02:22:00.555803Z",
          "shell.execute_reply": "2022-12-27T02:22:00.555093Z"
        },
        "id": "UfV1HS6bns-s",
        "outputId": "a55f9552-9959-4064-b972-7c7c36d40fa1"
      },
      "outputs": [
        {
          "output_type": "stream",
          "name": "stdout",
          "text": [
            "1/1 [==============================] - 0s 129ms/step\n"
          ]
        },
        {
          "output_type": "execute_result",
          "data": {
            "text/plain": [
              "array([[-0.786],\n",
              "       [ 0.211],\n",
              "       [ 1.821],\n",
              "       [-0.675],\n",
              "       [-0.162],\n",
              "       [-0.766],\n",
              "       [-0.101],\n",
              "       [-1.098],\n",
              "       [-1.128],\n",
              "       [-2.457]], dtype=float32)"
            ]
          },
          "metadata": {},
          "execution_count": 19
        }
      ],
      "source": [
        "weight_model.predict(weight[:10])"
      ]
    },
    {
      "cell_type": "markdown",
      "metadata": {
        "id": "CSkanJlmmFBX"
      },
      "source": [
        "Once the model is built, configure the training procedure using the Keras `Model.compile` method. The most important arguments to compile are the `loss` and the `optimizer`, since these define what will be optimized (`mean_absolute_error`) and how (using the `tf.keras.optimizers.Adam`)."
      ]
    },
    {
      "cell_type": "code",
      "execution_count": null,
      "metadata": {
        "execution": {
          "iopub.execute_input": "2022-12-27T02:22:00.559406Z",
          "iopub.status.busy": "2022-12-27T02:22:00.558906Z",
          "iopub.status.idle": "2022-12-27T02:22:00.571440Z",
          "shell.execute_reply": "2022-12-27T02:22:00.570811Z"
        },
        "id": "JxA_3lpOm-SK"
      },
      "outputs": [],
      "source": [
        "weight_model.compile(\n",
        "    optimizer=tf.keras.optimizers.Adam(learning_rate=0.1),\n",
        "    loss='mean_absolute_error')"
      ]
    },
    {
      "cell_type": "markdown",
      "metadata": {
        "id": "Z3q1I9TwnRSC"
      },
      "source": [
        "Use Keras `Model.fit` to execute the training for 100 epochs:"
      ]
    },
    {
      "cell_type": "code",
      "execution_count": null,
      "metadata": {
        "colab": {
          "base_uri": "https://localhost:8080/"
        },
        "execution": {
          "iopub.execute_input": "2022-12-27T02:22:00.574939Z",
          "iopub.status.busy": "2022-12-27T02:22:00.574498Z",
          "iopub.status.idle": "2022-12-27T02:22:05.423840Z",
          "shell.execute_reply": "2022-12-27T02:22:05.423038Z"
        },
        "id": "-iSrNy59nRAp",
        "outputId": "b8854088-af04-4125-af1d-f1787e532f91"
      },
      "outputs": [
        {
          "output_type": "stream",
          "name": "stdout",
          "text": [
            "CPU times: user 4.48 s, sys: 180 ms, total: 4.66 s\n",
            "Wall time: 5.37 s\n"
          ]
        }
      ],
      "source": [
        "%%time\n",
        "history = weight_model.fit(\n",
        "    train_features['Weight'],\n",
        "    train_labels,\n",
        "    epochs=100,\n",
        "    # Suppress logging.\n",
        "    verbose=0,\n",
        "    # Calculate validation results on 20% of the training data.\n",
        "    validation_split = 0.2)"
      ]
    },
    {
      "cell_type": "markdown",
      "metadata": {
        "id": "tQm3pc0FYPQB"
      },
      "source": [
        "Visualize the model's training progress using the stats stored in the `history` object:"
      ]
    },
    {
      "cell_type": "code",
      "execution_count": null,
      "metadata": {
        "colab": {
          "base_uri": "https://localhost:8080/",
          "height": 206
        },
        "execution": {
          "iopub.execute_input": "2022-12-27T02:22:05.427885Z",
          "iopub.status.busy": "2022-12-27T02:22:05.427205Z",
          "iopub.status.idle": "2022-12-27T02:22:05.436508Z",
          "shell.execute_reply": "2022-12-27T02:22:05.435773Z"
        },
        "id": "YCAwD_y4AdC3",
        "outputId": "71a5a291-2b1c-405a-c235-b9da85a462bf"
      },
      "outputs": [
        {
          "output_type": "execute_result",
          "data": {
            "text/plain": [
              "        loss  val_loss  epoch\n",
              "95  5.449790  4.722830     95\n",
              "96  5.449090  4.716677     96\n",
              "97  5.448554  4.715113     97\n",
              "98  5.448304  4.711480     98\n",
              "99  5.448735  4.716201     99"
            ],
            "text/html": [
              "\n",
              "  <div id=\"df-429ac4f5-efa2-49dd-b66d-a461189e147c\">\n",
              "    <div class=\"colab-df-container\">\n",
              "      <div>\n",
              "<style scoped>\n",
              "    .dataframe tbody tr th:only-of-type {\n",
              "        vertical-align: middle;\n",
              "    }\n",
              "\n",
              "    .dataframe tbody tr th {\n",
              "        vertical-align: top;\n",
              "    }\n",
              "\n",
              "    .dataframe thead th {\n",
              "        text-align: right;\n",
              "    }\n",
              "</style>\n",
              "<table border=\"1\" class=\"dataframe\">\n",
              "  <thead>\n",
              "    <tr style=\"text-align: right;\">\n",
              "      <th></th>\n",
              "      <th>loss</th>\n",
              "      <th>val_loss</th>\n",
              "      <th>epoch</th>\n",
              "    </tr>\n",
              "  </thead>\n",
              "  <tbody>\n",
              "    <tr>\n",
              "      <th>95</th>\n",
              "      <td>5.449790</td>\n",
              "      <td>4.722830</td>\n",
              "      <td>95</td>\n",
              "    </tr>\n",
              "    <tr>\n",
              "      <th>96</th>\n",
              "      <td>5.449090</td>\n",
              "      <td>4.716677</td>\n",
              "      <td>96</td>\n",
              "    </tr>\n",
              "    <tr>\n",
              "      <th>97</th>\n",
              "      <td>5.448554</td>\n",
              "      <td>4.715113</td>\n",
              "      <td>97</td>\n",
              "    </tr>\n",
              "    <tr>\n",
              "      <th>98</th>\n",
              "      <td>5.448304</td>\n",
              "      <td>4.711480</td>\n",
              "      <td>98</td>\n",
              "    </tr>\n",
              "    <tr>\n",
              "      <th>99</th>\n",
              "      <td>5.448735</td>\n",
              "      <td>4.716201</td>\n",
              "      <td>99</td>\n",
              "    </tr>\n",
              "  </tbody>\n",
              "</table>\n",
              "</div>\n",
              "      <button class=\"colab-df-convert\" onclick=\"convertToInteractive('df-429ac4f5-efa2-49dd-b66d-a461189e147c')\"\n",
              "              title=\"Convert this dataframe to an interactive table.\"\n",
              "              style=\"display:none;\">\n",
              "        \n",
              "  <svg xmlns=\"http://www.w3.org/2000/svg\" height=\"24px\"viewBox=\"0 0 24 24\"\n",
              "       width=\"24px\">\n",
              "    <path d=\"M0 0h24v24H0V0z\" fill=\"none\"/>\n",
              "    <path d=\"M18.56 5.44l.94 2.06.94-2.06 2.06-.94-2.06-.94-.94-2.06-.94 2.06-2.06.94zm-11 1L8.5 8.5l.94-2.06 2.06-.94-2.06-.94L8.5 2.5l-.94 2.06-2.06.94zm10 10l.94 2.06.94-2.06 2.06-.94-2.06-.94-.94-2.06-.94 2.06-2.06.94z\"/><path d=\"M17.41 7.96l-1.37-1.37c-.4-.4-.92-.59-1.43-.59-.52 0-1.04.2-1.43.59L10.3 9.45l-7.72 7.72c-.78.78-.78 2.05 0 2.83L4 21.41c.39.39.9.59 1.41.59.51 0 1.02-.2 1.41-.59l7.78-7.78 2.81-2.81c.8-.78.8-2.07 0-2.86zM5.41 20L4 18.59l7.72-7.72 1.47 1.35L5.41 20z\"/>\n",
              "  </svg>\n",
              "      </button>\n",
              "      \n",
              "  <style>\n",
              "    .colab-df-container {\n",
              "      display:flex;\n",
              "      flex-wrap:wrap;\n",
              "      gap: 12px;\n",
              "    }\n",
              "\n",
              "    .colab-df-convert {\n",
              "      background-color: #E8F0FE;\n",
              "      border: none;\n",
              "      border-radius: 50%;\n",
              "      cursor: pointer;\n",
              "      display: none;\n",
              "      fill: #1967D2;\n",
              "      height: 32px;\n",
              "      padding: 0 0 0 0;\n",
              "      width: 32px;\n",
              "    }\n",
              "\n",
              "    .colab-df-convert:hover {\n",
              "      background-color: #E2EBFA;\n",
              "      box-shadow: 0px 1px 2px rgba(60, 64, 67, 0.3), 0px 1px 3px 1px rgba(60, 64, 67, 0.15);\n",
              "      fill: #174EA6;\n",
              "    }\n",
              "\n",
              "    [theme=dark] .colab-df-convert {\n",
              "      background-color: #3B4455;\n",
              "      fill: #D2E3FC;\n",
              "    }\n",
              "\n",
              "    [theme=dark] .colab-df-convert:hover {\n",
              "      background-color: #434B5C;\n",
              "      box-shadow: 0px 1px 3px 1px rgba(0, 0, 0, 0.15);\n",
              "      filter: drop-shadow(0px 1px 2px rgba(0, 0, 0, 0.3));\n",
              "      fill: #FFFFFF;\n",
              "    }\n",
              "  </style>\n",
              "\n",
              "      <script>\n",
              "        const buttonEl =\n",
              "          document.querySelector('#df-429ac4f5-efa2-49dd-b66d-a461189e147c button.colab-df-convert');\n",
              "        buttonEl.style.display =\n",
              "          google.colab.kernel.accessAllowed ? 'block' : 'none';\n",
              "\n",
              "        async function convertToInteractive(key) {\n",
              "          const element = document.querySelector('#df-429ac4f5-efa2-49dd-b66d-a461189e147c');\n",
              "          const dataTable =\n",
              "            await google.colab.kernel.invokeFunction('convertToInteractive',\n",
              "                                                     [key], {});\n",
              "          if (!dataTable) return;\n",
              "\n",
              "          const docLinkHtml = 'Like what you see? Visit the ' +\n",
              "            '<a target=\"_blank\" href=https://colab.research.google.com/notebooks/data_table.ipynb>data table notebook</a>'\n",
              "            + ' to learn more about interactive tables.';\n",
              "          element.innerHTML = '';\n",
              "          dataTable['output_type'] = 'display_data';\n",
              "          await google.colab.output.renderOutput(dataTable, element);\n",
              "          const docLink = document.createElement('div');\n",
              "          docLink.innerHTML = docLinkHtml;\n",
              "          element.appendChild(docLink);\n",
              "        }\n",
              "      </script>\n",
              "    </div>\n",
              "  </div>\n",
              "  "
            ]
          },
          "metadata": {},
          "execution_count": 24
        }
      ],
      "source": [
        "hist = pd.DataFrame(history.history)\n",
        "hist['epoch'] = history.epoch\n",
        "hist.tail()"
      ]
    },
    {
      "cell_type": "code",
      "execution_count": null,
      "metadata": {
        "execution": {
          "iopub.execute_input": "2022-12-27T02:22:05.439841Z",
          "iopub.status.busy": "2022-12-27T02:22:05.439226Z",
          "iopub.status.idle": "2022-12-27T02:22:05.443423Z",
          "shell.execute_reply": "2022-12-27T02:22:05.442818Z"
        },
        "id": "9E54UoZunqhc"
      },
      "outputs": [],
      "source": [
        "def plot_loss(history):\n",
        "  plt.plot(history.history['loss'], label='loss')\n",
        "  plt.plot(history.history['val_loss'], label='val_loss')\n",
        "  plt.ylim([0, 10])\n",
        "  plt.xlabel('Epoch')\n",
        "  plt.ylabel('Error [MPG]')\n",
        "  plt.legend()\n",
        "  plt.grid(True)"
      ]
    },
    {
      "cell_type": "code",
      "execution_count": null,
      "metadata": {
        "execution": {
          "iopub.execute_input": "2022-12-27T02:22:05.446629Z",
          "iopub.status.busy": "2022-12-27T02:22:05.446150Z",
          "iopub.status.idle": "2022-12-27T02:22:05.647641Z",
          "shell.execute_reply": "2022-12-27T02:22:05.646972Z"
        },
        "id": "yYsQYrIZyqjz",
        "outputId": "1286db07-d4d5-4e51-f09c-76083ced522a",
        "colab": {
          "base_uri": "https://localhost:8080/",
          "height": 455
        }
      },
      "outputs": [
        {
          "output_type": "display_data",
          "data": {
            "text/plain": [
              "<Figure size 640x480 with 1 Axes>"
            ],
            "image/png": "[encoded data removed]"
          },
          "metadata": {}
        }
      ],
      "source": [
        "plot_loss(history)"
      ]
    },
    {
      "cell_type": "markdown",
      "metadata": {
        "id": "CMNrt8X2ebXd"
      },
      "source": [
        "Collect the results on the test set for later:"
      ]
    },
    {
      "cell_type": "code",
      "execution_count": null,
      "metadata": {
        "execution": {
          "iopub.execute_input": "2022-12-27T02:22:05.651850Z",
          "iopub.status.busy": "2022-12-27T02:22:05.651189Z",
          "iopub.status.idle": "2022-12-27T02:22:05.724107Z",
          "shell.execute_reply": "2022-12-27T02:22:05.723323Z"
        },
        "id": "kDZ8EvNYrDtx"
      },
      "outputs": [],
      "source": [
        "test_results = {}\n",
        "\n",
        "test_results['weight_model'] = weight_model.evaluate(\n",
        "    test_features['Weight'],\n",
        "    test_labels, verbose=0)"
      ]
    },
    {
      "cell_type": "markdown",
      "metadata": {
        "id": "F0qutYAKwoda"
      },
      "source": [
        "Since this is a single variable regression, it's easy to view the model's predictions as a function of the input:"
      ]
    },
    {
      "cell_type": "code",
      "execution_count": null,
      "metadata": {
        "colab": {
          "base_uri": "https://localhost:8080/"
        },
        "execution": {
          "iopub.execute_input": "2022-12-27T02:22:05.728299Z",
          "iopub.status.busy": "2022-12-27T02:22:05.727716Z",
          "iopub.status.idle": "2022-12-27T02:22:05.873397Z",
          "shell.execute_reply": "2022-12-27T02:22:05.872637Z"
        },
        "id": "xDS2JEtOn9Jn",
        "outputId": "8e025506-968f-4bb8-fa37-bb2bcc1f61c3"
      },
      "outputs": [
        {
          "output_type": "stream",
          "name": "stdout",
          "text": [
            "8/8 [==============================] - 0s 2ms/step\n"
          ]
        }
      ],
      "source": [
        "x = tf.linspace(0.0, 250, 251)\n",
        "y = weight_model.predict(x)"
      ]
    },
    {
      "cell_type": "code",
      "execution_count": null,
      "metadata": {
        "execution": {
          "iopub.execute_input": "2022-12-27T02:22:05.877137Z",
          "iopub.status.busy": "2022-12-27T02:22:05.876609Z",
          "iopub.status.idle": "2022-12-27T02:22:05.880724Z",
          "shell.execute_reply": "2022-12-27T02:22:05.879964Z"
        },
        "id": "rttFCTU8czsI"
      },
      "outputs": [],
      "source": [
        "def plot_weight(x, y):\n",
        "  plt.scatter(train_features['Weight'], train_labels, label='Data')\n",
        "  plt.plot(x, y, color='k', label='Predictions')\n",
        "  plt.xlabel('Weight')\n",
        "  plt.ylabel('BodyFat')\n",
        "  plt.legend()"
      ]
    },
    {
      "cell_type": "code",
      "execution_count": null,
      "metadata": {
        "colab": {
          "base_uri": "https://localhost:8080/",
          "height": 451
        },
        "execution": {
          "iopub.execute_input": "2022-12-27T02:22:05.883917Z",
          "iopub.status.busy": "2022-12-27T02:22:05.883458Z",
          "iopub.status.idle": "2022-12-27T02:22:06.049933Z",
          "shell.execute_reply": "2022-12-27T02:22:06.049273Z"
        },
        "id": "7l9ZiAOEUNBL",
        "outputId": "944222b1-3790-4d79-aafe-c6525c9c809d"
      },
      "outputs": [
        {
          "output_type": "display_data",
          "data": {
            "text/plain": [
              "<Figure size 640x480 with 1 Axes>"
            ],
            "image/png": "[encoded data removed]"
          },
          "metadata": {}
        }
      ],
      "source": [
        "plot_weight(x, y)"
      ]
    },
    {
      "cell_type": "markdown",
      "metadata": {
        "id": "Yk2RmlqPoM9u"
      },
      "source": [
        "### Linear regression with multiple inputs"
      ]
    },
    {
      "cell_type": "markdown",
      "metadata": {
        "id": "PribnwDHUksC"
      },
      "source": [
        "We can use an almost identical setup to make predictions based on multiple inputs. This model still does the same $y = mx+b$ except that $m$ is a matrix and $b$ is a vector.\n",
        "\n",
        "Created a two-step Keras Sequential model again with the first layer being `normalizer` (`tf.keras.layers.Normalization(axis=-1)`) we defined earlier and adapted to the whole dataset:"
      ]
    },
    {
      "cell_type": "code",
      "execution_count": null,
      "metadata": {
        "execution": {
          "iopub.execute_input": "2022-12-27T02:22:06.053946Z",
          "iopub.status.busy": "2022-12-27T02:22:06.053452Z",
          "iopub.status.idle": "2022-12-27T02:22:06.075940Z",
          "shell.execute_reply": "2022-12-27T02:22:06.075352Z"
        },
        "id": "ssnVcKg7oMe6"
      },
      "outputs": [],
      "source": [
        "linear_male_model = tf.keras.Sequential([\n",
        "    normalizer,\n",
        "    layers.Dense(units=1)\n",
        "])"
      ]
    },
    {
      "cell_type": "markdown",
      "metadata": {
        "id": "IHlx6WeIWyAr"
      },
      "source": [
        "When calling `Model.predict` on a batch of inputs, it produces `units=1` outputs for each example:"
      ]
    },
    {
      "cell_type": "code",
      "execution_count": null,
      "metadata": {
        "colab": {
          "base_uri": "https://localhost:8080/"
        },
        "execution": {
          "iopub.execute_input": "2022-12-27T02:22:06.079508Z",
          "iopub.status.busy": "2022-12-27T02:22:06.079125Z",
          "iopub.status.idle": "2022-12-27T02:22:06.167951Z",
          "shell.execute_reply": "2022-12-27T02:22:06.167440Z"
        },
        "id": "DynfJV18WiuT",
        "outputId": "8ddbcce2-04e9-48ec-c6f7-3545a9b7b3a3"
      },
      "outputs": [
        {
          "output_type": "stream",
          "name": "stdout",
          "text": [
            "1/1 [==============================] - 0s 69ms/step\n"
          ]
        },
        {
          "output_type": "execute_result",
          "data": {
            "text/plain": [
              "array([[ 1.691],\n",
              "       [-1.042],\n",
              "       [-0.575],\n",
              "       [-0.622],\n",
              "       [ 0.673],\n",
              "       [ 0.416],\n",
              "       [-0.534],\n",
              "       [-0.403],\n",
              "       [-0.248],\n",
              "       [-0.794]], dtype=float32)"
            ]
          },
          "metadata": {},
          "execution_count": 36
        }
      ],
      "source": [
        "linear_male_model.predict(train_features[:10])"
      ]
    },
    {
      "cell_type": "markdown",
      "metadata": {
        "id": "hvHKH3rPXHmq"
      },
      "source": [
        "When we call the model, its weight matrices will be built— the `kernel` weights (the $m$ in $y=mx+b$) have a shape of `(9, 1)`:"
      ]
    },
    {
      "cell_type": "code",
      "execution_count": null,
      "metadata": {
        "colab": {
          "base_uri": "https://localhost:8080/"
        },
        "execution": {
          "iopub.execute_input": "2022-12-27T02:22:06.171083Z",
          "iopub.status.busy": "2022-12-27T02:22:06.170827Z",
          "iopub.status.idle": "2022-12-27T02:22:06.176335Z",
          "shell.execute_reply": "2022-12-27T02:22:06.175674Z"
        },
        "id": "DwJ4Fq0RXBQf",
        "outputId": "5a17c118-7b88-492a-f672-1767c4a25930"
      },
      "outputs": [
        {
          "output_type": "execute_result",
          "data": {
            "text/plain": [
              "<tf.Variable 'dense_2/kernel:0' shape=(13, 1) dtype=float32, numpy=\n",
              "array([[ 0.469],\n",
              "       [ 0.591],\n",
              "       [-0.601],\n",
              "       [-0.134],\n",
              "       [ 0.278],\n",
              "       [ 0.088],\n",
              "       [-0.652],\n",
              "       [-0.46 ],\n",
              "       [ 0.293],\n",
              "       [-0.176],\n",
              "       [ 0.195],\n",
              "       [ 0.509],\n",
              "       [-0.114]], dtype=float32)>"
            ]
          },
          "metadata": {},
          "execution_count": 39
        }
      ],
      "source": [
        "linear_male_model.layers[1].kernel"
      ]
    },
    {
      "cell_type": "markdown",
      "metadata": {
        "id": "eINAc6rZXzOt"
      },
      "source": [
        "Configure the model with Keras `Model.compile` and train with `Model.fit` for 100 epochs:"
      ]
    },
    {
      "cell_type": "code",
      "execution_count": null,
      "metadata": {
        "execution": {
          "iopub.execute_input": "2022-12-27T02:22:06.179475Z",
          "iopub.status.busy": "2022-12-27T02:22:06.179040Z",
          "iopub.status.idle": "2022-12-27T02:22:06.186898Z",
          "shell.execute_reply": "2022-12-27T02:22:06.186347Z"
        },
        "id": "A0Sv_Ybr0szp"
      },
      "outputs": [],
      "source": [
        "linear_male_model.compile(\n",
        "    optimizer=tf.keras.optimizers.Adam(learning_rate=0.1),\n",
        "    loss='mean_absolute_error')"
      ]
    },
    {
      "cell_type": "code",
      "execution_count": null,
      "metadata": {
        "colab": {
          "base_uri": "https://localhost:8080/"
        },
        "execution": {
          "iopub.execute_input": "2022-12-27T02:22:06.190200Z",
          "iopub.status.busy": "2022-12-27T02:22:06.189768Z",
          "iopub.status.idle": "2022-12-27T02:22:10.884881Z",
          "shell.execute_reply": "2022-12-27T02:22:10.884154Z"
        },
        "id": "EZoOYORvoTSe",
        "outputId": "9f83a9ac-467e-4571-e85f-4c298f4235b4"
      },
      "outputs": [
        {
          "output_type": "stream",
          "name": "stdout",
          "text": [
            "CPU times: user 4.89 s, sys: 192 ms, total: 5.08 s\n",
            "Wall time: 11.4 s\n"
          ]
        }
      ],
      "source": [
        "%%time\n",
        "history = linear_male_model.fit(\n",
        "    train_features,\n",
        "    train_labels,\n",
        "    epochs=100,\n",
        "    # Suppress logging.\n",
        "    verbose=0,\n",
        "    # Calculate validation results on 20% of the training data.\n",
        "    validation_split = 0.2)"
      ]
    },
    {
      "cell_type": "markdown",
      "metadata": {
        "id": "EdxiCbiNYK2F"
      },
      "source": [
        "Using all the inputs in this regression model achieves a much lower training and validation error than the `weight_model`, which had one input:"
      ]
    },
    {
      "cell_type": "code",
      "execution_count": null,
      "metadata": {
        "colab": {
          "base_uri": "https://localhost:8080/",
          "height": 455
        },
        "execution": {
          "iopub.execute_input": "2022-12-27T02:22:10.888692Z",
          "iopub.status.busy": "2022-12-27T02:22:10.888146Z",
          "iopub.status.idle": "2022-12-27T02:22:11.032126Z",
          "shell.execute_reply": "2022-12-27T02:22:11.031420Z"
        },
        "id": "4sWO3W0koYgu",
        "outputId": "a4453661-b7da-4e66-8c6a-becbb1ac753d"
      },
      "outputs": [
        {
          "output_type": "display_data",
          "data": {
            "text/plain": [
              "<Figure size 640x480 with 1 Axes>"
            ],
            "image/png": "[encoded data removed]"
          },
          "metadata": {}
        }
      ],
      "source": [
        "plot_loss(history)"
      ]
    },
    {
      "cell_type": "markdown",
      "metadata": {
        "id": "NyN49hIWe_NH"
      },
      "source": [
        "Collect the results on the test set for later:"
      ]
    },
    {
      "cell_type": "code",
      "execution_count": null,
      "metadata": {
        "execution": {
          "iopub.execute_input": "2022-12-27T02:22:11.035426Z",
          "iopub.status.busy": "2022-12-27T02:22:11.035129Z",
          "iopub.status.idle": "2022-12-27T02:22:11.105123Z",
          "shell.execute_reply": "2022-12-27T02:22:11.104418Z"
        },
        "id": "jNC3D1DGsGgK",
        "colab": {
          "base_uri": "https://localhost:8080/"
        },
        "outputId": "afd4bd96-20d7-4cfa-882f-20319dd79515"
      },
      "outputs": [
        {
          "output_type": "execute_result",
          "data": {
            "text/plain": [
              "{'linear_male_model': 3.751894235610962}"
            ]
          },
          "metadata": {},
          "execution_count": 46
        }
      ],
      "source": [
        "test_results={}\n",
        "\n",
        "test_results['linear_male_model'] = linear_male_model.evaluate(\n",
        "    test_features, test_labels, verbose=0)\n",
        "test_results"
      ]
    },
    {
      "cell_type": "code",
      "execution_count": null,
      "metadata": {
        "colab": {
          "base_uri": "https://localhost:8080/",
          "height": 508
        },
        "id": "Ni4WhucSQwuw",
        "outputId": "c20c1d8e-51f2-455e-d1da-e318897f3668"
      },
      "outputs": [
        {
          "output_type": "stream",
          "name": "stdout",
          "text": [
            "2/2 [==============================] - 0s 5ms/step\n"
          ]
        },
        {
          "output_type": "execute_result",
          "data": {
            "text/plain": [
              "[<matplotlib.lines.Line2D at 0x7fe65001d280>]"
            ]
          },
          "metadata": {},
          "execution_count": 47
        },
        {
          "output_type": "display_data",
          "data": {
            "text/plain": [
              "<Figure size 640x480 with 1 Axes>"
            ],
            "image/png": "[encoded data removed]"
          },
          "metadata": {}
        }
      ],
      "source": [
        "y_pred = linear_male_model.predict(test_features).flatten()\n",
        "\n",
        "a = plt.axes(aspect='equal')\n",
        "plt.scatter(test_labels, y_pred)\n",
        "plt.xlabel('True values')\n",
        "plt.ylabel('Predicted values')\n",
        "plt.title('A plot that shows the true and predicted values')\n",
        "plt.xlim([0, 60])\n",
        "plt.ylim([0, 60])\n",
        "plt.plot([0, 60], [0, 60])"
      ]
    },
    {
      "cell_type": "markdown",
      "metadata": {
        "id": "SmjdzxKzEu1-"
      },
      "source": [
        "## Regression with a deep neural network (DNN)"
      ]
    },
    {
      "cell_type": "markdown",
      "metadata": {
        "id": "DT_aHPsrzO1t"
      },
      "source": [
        "In the previous section, we implemented two linear models for single and multiple inputs.\n",
        "\n",
        "Here, we will implement single-input and multiple-input DNN models.\n",
        "\n",
        "The code is basically the same except the model is expanded to include some \"hidden\" non-linear layers. The name \"hidden\" here just means not directly connected to the inputs or outputs."
      ]
    },
    {
      "cell_type": "markdown",
      "metadata": {
        "id": "6SWtkIjhrZwa"
      },
      "source": [
        "These models will contain a few more layers than the linear model:\n",
        "\n",
        "* The normalization layer, as before (with `weight_normalizer` for a single-input model and `normalizer` for a multiple-input model).\n",
        "* Two hidden, non-linear, `Dense` layers with the ReLU (`relu`) activation function nonlinearity.\n",
        "* A linear `Dense` single-output layer.\n",
        "\n",
        "Both models will use the same training procedure, so the `compile` method is included in the `build_and_compile_model` function below."
      ]
    },
    {
      "cell_type": "code",
      "execution_count": null,
      "metadata": {
        "execution": {
          "iopub.execute_input": "2022-12-27T02:22:11.109282Z",
          "iopub.status.busy": "2022-12-27T02:22:11.108800Z",
          "iopub.status.idle": "2022-12-27T02:22:11.112981Z",
          "shell.execute_reply": "2022-12-27T02:22:11.112362Z"
        },
        "id": "c26juK7ZG8j-"
      },
      "outputs": [],
      "source": [
        "def build_and_compile_model(norm):\n",
        "  model = keras.Sequential([\n",
        "      norm,\n",
        "      layers.Dense(64, activation='relu'),\n",
        "      layers.Dense(64, activation='relu'),\n",
        "      layers.Dense(1)\n",
        "  ])\n",
        "\n",
        "  model.compile(loss='mean_absolute_error',\n",
        "                optimizer=tf.keras.optimizers.Adam(0.001))\n",
        "  return model"
      ]
    },
    {
      "cell_type": "markdown",
      "metadata": {
        "id": "6c51caebbc0d"
      },
      "source": [
        "### Regression using a DNN and a single input"
      ]
    },
    {
      "cell_type": "markdown",
      "metadata": {
        "id": "xvu9gtxTZR5V"
      },
      "source": [
        "Create a DNN model with only `'Weight'` as input and `weight_normalizer` (defined earlier) as the normalization layer:"
      ]
    },
    {
      "cell_type": "code",
      "execution_count": null,
      "metadata": {
        "execution": {
          "iopub.execute_input": "2022-12-27T02:22:11.116490Z",
          "iopub.status.busy": "2022-12-27T02:22:11.115832Z",
          "iopub.status.idle": "2022-12-27T02:22:11.160117Z",
          "shell.execute_reply": "2022-12-27T02:22:11.159505Z"
        },
        "id": "cGbPb-PHGbhs"
      },
      "outputs": [],
      "source": [
        "dnn_weight_model = build_and_compile_model(weight_normalizer)"
      ]
    },
    {
      "cell_type": "markdown",
      "metadata": {
        "id": "Sj49Og4YGULr"
      },
      "source": [
        "This model has quite a few more trainable parameters than the linear models:"
      ]
    },
    {
      "cell_type": "code",
      "execution_count": null,
      "metadata": {
        "colab": {
          "base_uri": "https://localhost:8080/"
        },
        "execution": {
          "iopub.execute_input": "2022-12-27T02:22:11.163797Z",
          "iopub.status.busy": "2022-12-27T02:22:11.163230Z",
          "iopub.status.idle": "2022-12-27T02:22:11.175948Z",
          "shell.execute_reply": "2022-12-27T02:22:11.175423Z"
        },
        "id": "ReAD0n6MsFK-",
        "outputId": "f3a2e559-41b9-4cb4-e25c-37502bb7daf9"
      },
      "outputs": [
        {
          "output_type": "stream",
          "name": "stdout",
          "text": [
            "Model: \"sequential_3\"\n",
            "_________________________________________________________________\n",
            " Layer (type)                Output Shape              Param #   \n",
            "=================================================================\n",
            " normalization_3 (Normalizat  (None, 1)                3         \n",
            " ion)                                                            \n",
            "                                                                 \n",
            " dense_3 (Dense)             (None, 64)                128       \n",
            "                                                                 \n",
            " dense_4 (Dense)             (None, 64)                4160      \n",
            "                                                                 \n",
            " dense_5 (Dense)             (None, 1)                 65        \n",
            "                                                                 \n",
            "=================================================================\n",
            "Total params: 4,356\n",
            "Trainable params: 4,353\n",
            "Non-trainable params: 3\n",
            "_________________________________________________________________\n"
          ]
        }
      ],
      "source": [
        "dnn_weight_model.summary()"
      ]
    },
    {
      "cell_type": "markdown",
      "metadata": {
        "id": "0-qWCsh6DlyH"
      },
      "source": [
        "Train the model with Keras `Model.fit`:"
      ]
    },
    {
      "cell_type": "code",
      "execution_count": null,
      "metadata": {
        "colab": {
          "base_uri": "https://localhost:8080/"
        },
        "execution": {
          "iopub.execute_input": "2022-12-27T02:22:11.182996Z",
          "iopub.status.busy": "2022-12-27T02:22:11.182580Z",
          "iopub.status.idle": "2022-12-27T02:22:16.684968Z",
          "shell.execute_reply": "2022-12-27T02:22:16.684099Z"
        },
        "id": "sD7qHCmNIOY0",
        "outputId": "433d927e-2c46-4e4f-f0b5-a5862d718a9f"
      },
      "outputs": [
        {
          "output_type": "stream",
          "name": "stdout",
          "text": [
            "CPU times: user 5.05 s, sys: 169 ms, total: 5.22 s\n",
            "Wall time: 5.75 s\n"
          ]
        }
      ],
      "source": [
        "%%time\n",
        "history = dnn_weight_model.fit(\n",
        "    train_features['Weight'],\n",
        "    train_labels,\n",
        "    validation_split=0.2,\n",
        "    verbose=0, epochs=100)"
      ]
    },
    {
      "cell_type": "markdown",
      "metadata": {
        "id": "dArGGxHxcKjN"
      },
      "source": [
        "This model does slightly better than the linear single-input `weight_model`:"
      ]
    },
    {
      "cell_type": "code",
      "execution_count": null,
      "metadata": {
        "colab": {
          "base_uri": "https://localhost:8080/",
          "height": 455
        },
        "execution": {
          "iopub.execute_input": "2022-12-27T02:22:16.688395Z",
          "iopub.status.busy": "2022-12-27T02:22:16.688128Z",
          "iopub.status.idle": "2022-12-27T02:22:16.828790Z",
          "shell.execute_reply": "2022-12-27T02:22:16.828218Z"
        },
        "id": "NcF6UWjdCU8T",
        "outputId": "cc2458c7-d1e2-450c-de6a-8d22b0245671"
      },
      "outputs": [
        {
          "output_type": "display_data",
          "data": {
            "text/plain": [
              "<Figure size 640x480 with 1 Axes>"
            ],
            "image/png": "[encoded data removed]"
          },
          "metadata": {}
        }
      ],
      "source": [
        "plot_loss(history)"
      ]
    },
    {
      "cell_type": "markdown",
      "metadata": {
        "id": "TG1snlpR2QCK"
      },
      "source": [
        "this model takes advantage of the nonlinearity provided by the hidden layers:"
      ]
    },
    {
      "cell_type": "code",
      "execution_count": null,
      "metadata": {
        "colab": {
          "base_uri": "https://localhost:8080/"
        },
        "execution": {
          "iopub.execute_input": "2022-12-27T02:22:16.832178Z",
          "iopub.status.busy": "2022-12-27T02:22:16.831452Z",
          "iopub.status.idle": "2022-12-27T02:22:16.941695Z",
          "shell.execute_reply": "2022-12-27T02:22:16.941017Z"
        },
        "id": "hPF53Rem14NS",
        "outputId": "71625478-b60a-4fed-926d-30dde27d6e4a"
      },
      "outputs": [
        {
          "output_type": "stream",
          "name": "stderr",
          "text": [
            "WARNING:tensorflow:5 out of the last 14 calls to <function Model.make_predict_function.<locals>.predict_function at 0x7fe641fe2040> triggered tf.function retracing. Tracing is expensive and the excessive number of tracings could be due to (1) creating @tf.function repeatedly in a loop, (2) passing tensors with different shapes, (3) passing Python objects instead of tensors. For (1), please define your @tf.function outside of the loop. For (2), @tf.function has reduce_retracing=True option that can avoid unnecessary retracing. For (3), please refer to https://www.tensorflow.org/guide/function#controlling_retracing and https://www.tensorflow.org/api_docs/python/tf/function for  more details.\n"
          ]
        },
        {
          "output_type": "stream",
          "name": "stdout",
          "text": [
            "8/8 [==============================] - 0s 3ms/step\n"
          ]
        }
      ],
      "source": [
        "x = tf.linspace(0.0, 250, 251)\n",
        "y = dnn_weight_model.predict(x)"
      ]
    },
    {
      "cell_type": "code",
      "execution_count": null,
      "metadata": {
        "colab": {
          "base_uri": "https://localhost:8080/",
          "height": 449
        },
        "execution": {
          "iopub.execute_input": "2022-12-27T02:22:16.945325Z",
          "iopub.status.busy": "2022-12-27T02:22:16.944616Z",
          "iopub.status.idle": "2022-12-27T02:22:17.260050Z",
          "shell.execute_reply": "2022-12-27T02:22:17.259422Z"
        },
        "id": "rsf9rD8I17Wq",
        "outputId": "6b6dcda7-897f-4a9b-9420-3914d4fdc44d"
      },
      "outputs": [
        {
          "output_type": "display_data",
          "data": {
            "text/plain": [
              "<Figure size 640x480 with 1 Axes>"
            ],
            "image/png": "[encoded data removed]"
          },
          "metadata": {}
        }
      ],
      "source": [
        "plot_weight(x, y)"
      ]
    },
    {
      "cell_type": "markdown",
      "metadata": {
        "id": "WxCJKIUpe4io"
      },
      "source": [
        "Collect the results on the test set for later:"
      ]
    },
    {
      "cell_type": "code",
      "execution_count": null,
      "metadata": {
        "execution": {
          "iopub.execute_input": "2022-12-27T02:22:17.263414Z",
          "iopub.status.busy": "2022-12-27T02:22:17.263171Z",
          "iopub.status.idle": "2022-12-27T02:22:17.328590Z",
          "shell.execute_reply": "2022-12-27T02:22:17.327769Z"
        },
        "id": "bJjM0dU52XtN"
      },
      "outputs": [],
      "source": [
        "test_results['dnn_weight_model'] = dnn_weight_model.evaluate(\n",
        "    test_features['Weight'], test_labels,\n",
        "    verbose=0)"
      ]
    },
    {
      "cell_type": "code",
      "source": [
        "test_results"
      ],
      "metadata": {
        "colab": {
          "base_uri": "https://localhost:8080/"
        },
        "id": "L-8uRICpbZ0Z",
        "outputId": "be9582ec-61cb-41c3-aa44-13b3c7370931"
      },
      "execution_count": null,
      "outputs": [
        {
          "output_type": "execute_result",
          "data": {
            "text/plain": [
              "{'linear_male_model': 3.751894235610962, 'dnn_weight_model': 5.363422393798828}"
            ]
          },
          "metadata": {},
          "execution_count": 59
        }
      ]
    },
    {
      "cell_type": "markdown",
      "metadata": {
        "id": "S_2Btebp2e64"
      },
      "source": [
        "### Regression using a DNN and multiple inputs"
      ]
    },
    {
      "cell_type": "markdown",
      "metadata": {
        "id": "aKFtezDldLSf"
      },
      "source": [
        "Repeat the previous process using all the inputs. The model's performance slightly improves on the validation dataset."
      ]
    },
    {
      "cell_type": "code",
      "execution_count": null,
      "metadata": {
        "colab": {
          "base_uri": "https://localhost:8080/"
        },
        "execution": {
          "iopub.execute_input": "2022-12-27T02:22:17.332495Z",
          "iopub.status.busy": "2022-12-27T02:22:17.331769Z",
          "iopub.status.idle": "2022-12-27T02:22:17.381104Z",
          "shell.execute_reply": "2022-12-27T02:22:17.380455Z"
        },
        "id": "c0mhscXh2k36",
        "outputId": "568bf107-cdb6-4def-87a0-a01c56ee1a94"
      },
      "outputs": [
        {
          "output_type": "stream",
          "name": "stdout",
          "text": [
            "Model: \"sequential_4\"\n",
            "_________________________________________________________________\n",
            " Layer (type)                Output Shape              Param #   \n",
            "=================================================================\n",
            " normalization (Normalizatio  (None, 13)               27        \n",
            " n)                                                              \n",
            "                                                                 \n",
            " dense_6 (Dense)             (None, 64)                896       \n",
            "                                                                 \n",
            " dense_7 (Dense)             (None, 64)                4160      \n",
            "                                                                 \n",
            " dense_8 (Dense)             (None, 1)                 65        \n",
            "                                                                 \n",
            "=================================================================\n",
            "Total params: 5,148\n",
            "Trainable params: 5,121\n",
            "Non-trainable params: 27\n",
            "_________________________________________________________________\n"
          ]
        }
      ],
      "source": [
        "dnn_male_model = build_and_compile_model(normalizer)\n",
        "dnn_male_model.summary()"
      ]
    },
    {
      "cell_type": "code",
      "execution_count": null,
      "metadata": {
        "colab": {
          "base_uri": "https://localhost:8080/"
        },
        "execution": {
          "iopub.execute_input": "2022-12-27T02:22:17.388131Z",
          "iopub.status.busy": "2022-12-27T02:22:17.387876Z",
          "iopub.status.idle": "2022-12-27T02:22:22.936845Z",
          "shell.execute_reply": "2022-12-27T02:22:22.936082Z"
        },
        "id": "CXDENACl2tuW",
        "outputId": "28076d2e-ace7-4949-ad9d-a716653237eb"
      },
      "outputs": [
        {
          "output_type": "stream",
          "name": "stdout",
          "text": [
            "CPU times: user 8.15 s, sys: 202 ms, total: 8.35 s\n",
            "Wall time: 22 s\n"
          ]
        }
      ],
      "source": [
        "%%time\n",
        "history = dnn_male_model.fit(\n",
        "    train_features,\n",
        "    train_labels,\n",
        "    validation_split=0.2,\n",
        "    verbose=0, epochs=100)"
      ]
    },
    {
      "cell_type": "code",
      "execution_count": null,
      "metadata": {
        "colab": {
          "base_uri": "https://localhost:8080/",
          "height": 455
        },
        "execution": {
          "iopub.execute_input": "2022-12-27T02:22:22.940250Z",
          "iopub.status.busy": "2022-12-27T02:22:22.939645Z",
          "iopub.status.idle": "2022-12-27T02:22:23.080628Z",
          "shell.execute_reply": "2022-12-27T02:22:23.079973Z"
        },
        "id": "-9Dbj0fX23RQ",
        "outputId": "30646912-400b-4522-fbf3-f4ba5e2c3ed5"
      },
      "outputs": [
        {
          "output_type": "display_data",
          "data": {
            "text/plain": [
              "<Figure size 640x480 with 1 Axes>"
            ],
            "image/png": "[encoded data removed]"
          },
          "metadata": {}
        }
      ],
      "source": [
        "plot_loss(history)"
      ]
    },
    {
      "cell_type": "code",
      "source": [
        "y_pred = dnn_male_model.predict(test_features).flatten()\n",
        "\n",
        "a = plt.axes(aspect='equal')\n",
        "plt.scatter(test_labels, y_pred)\n",
        "plt.xlabel('True values')\n",
        "plt.ylabel('Predicted values')\n",
        "plt.title('A plot that shows the true and predicted values')\n",
        "plt.xlim([0, 60])\n",
        "plt.ylim([0, 60])\n",
        "plt.plot([0, 60], [0, 60])"
      ],
      "metadata": {
        "colab": {
          "base_uri": "https://localhost:8080/",
          "height": 508
        },
        "id": "1_DKoUnetQj9",
        "outputId": "703273f5-ba75-40b1-e0cd-6b99f5471949"
      },
      "execution_count": 135,
      "outputs": [
        {
          "output_type": "stream",
          "name": "stdout",
          "text": [
            "2/2 [==============================] - 0s 8ms/step\n"
          ]
        },
        {
          "output_type": "execute_result",
          "data": {
            "text/plain": [
              "[<matplotlib.lines.Line2D at 0x7fe6366f2c40>]"
            ]
          },
          "metadata": {},
          "execution_count": 135
        },
        {
          "output_type": "display_data",
          "data": {
            "text/plain": [
              "<Figure size 640x480 with 1 Axes>"
            ],
            "image/png": "[encoded data removed]"
          },
          "metadata": {}
        }
      ]
    },
    {
      "cell_type": "markdown",
      "metadata": {
        "id": "hWoVYS34fJPZ"
      },
      "source": [
        "Collect the results on the test set:"
      ]
    },
    {
      "cell_type": "code",
      "execution_count": null,
      "metadata": {
        "execution": {
          "iopub.execute_input": "2022-12-27T02:22:23.083756Z",
          "iopub.status.busy": "2022-12-27T02:22:23.083521Z",
          "iopub.status.idle": "2022-12-27T02:22:23.150917Z",
          "shell.execute_reply": "2022-12-27T02:22:23.150249Z"
        },
        "id": "-bZIa96W3c7K"
      },
      "outputs": [],
      "source": [
        "test_results['dnn_male_model'] = dnn_male_model.evaluate(test_features, test_labels, verbose=0)"
      ]
    },
    {
      "cell_type": "code",
      "source": [
        "test_results"
      ],
      "metadata": {
        "colab": {
          "base_uri": "https://localhost:8080/"
        },
        "id": "UeiEYnqNb_mO",
        "outputId": "61d4c9fc-0351-476e-99cd-fed6653f4907"
      },
      "execution_count": null,
      "outputs": [
        {
          "output_type": "execute_result",
          "data": {
            "text/plain": [
              "{'linear_male_model': 3.751894235610962,\n",
              " 'dnn_weight_model': 5.363422393798828,\n",
              " 'dnn_model': 4.753164768218994,\n",
              " 'dnn_male_model': 4.753164768218994}"
            ]
          },
          "metadata": {},
          "execution_count": 65
        }
      ]
    },
    {
      "cell_type": "markdown",
      "metadata": {
        "id": "0fLkem0kJGgA"
      },
      "source": [
        "## Building a Multilayer Neural Network with Tensorflow Keras. "
      ]
    },
    {
      "cell_type": "code",
      "execution_count": null,
      "metadata": {
        "id": "HQSSiz1qJQIL"
      },
      "outputs": [],
      "source": [
        "# import the necessary libraries\n",
        "import pandas as pd\n",
        "import matplotlib.pyplot as plt\n",
        "import seaborn as sns\n",
        "import numpy as np\n",
        "from statsmodels.stats.outliers_influence import variance_inflation_factor as vif\n",
        "from sklearn.decomposition import PCA\n",
        "from sklearn.preprocessing import RobustScaler\n",
        "from sklearn.preprocessing import MinMaxScaler\n",
        "from sklearn.model_selection import train_test_split\n",
        "import tensorflow as tf\n",
        "from tensorflow.keras import Sequential\n",
        "from tensorflow.keras.layers import Dense\n",
        "#rescale the data to be robust to outliers\n",
        "scaler = RobustScaler()\n",
        "scaler.fit(train_features)\n",
        "X_train = scaler.transform(train_features)\n",
        "X_test = scaler.transform(test_features)\n",
        "\n",
        "\n",
        "#built the neural network architecture\n",
        "NN_model = Sequential()\n",
        "NN_model.add(Dense(15, input_dim=13, activation='relu'))\n",
        "NN_model.add(Dense(1, activation='linear'))"
      ]
    },
    {
      "cell_type": "code",
      "execution_count": null,
      "metadata": {
        "id": "wE2xTQCdJq2V"
      },
      "outputs": [],
      "source": [
        "NN_model.compile(loss='mae', optimizer='adam')"
      ]
    },
    {
      "cell_type": "code",
      "execution_count": null,
      "metadata": {
        "colab": {
          "base_uri": "https://localhost:8080/"
        },
        "id": "WEhL4bTzJtzr",
        "outputId": "088487e8-560c-4d71-c3d0-88d0180c2317"
      },
      "outputs": [
        {
          "output_type": "stream",
          "name": "stdout",
          "text": [
            "Epoch 1/200\n",
            "5/5 [==============================] - 1s 51ms/step - loss: 3.4433 - val_loss: 4.0908\n",
            "Epoch 2/200\n",
            "5/5 [==============================] - 0s 15ms/step - loss: 3.3929 - val_loss: 3.7610\n",
            "Epoch 3/200\n",
            "5/5 [==============================] - 0s 15ms/step - loss: 3.4042 - val_loss: 3.9604\n",
            "Epoch 4/200\n",
            "5/5 [==============================] - 0s 15ms/step - loss: 3.4048 - val_loss: 3.7640\n",
            "Epoch 5/200\n",
            "5/5 [==============================] - 0s 15ms/step - loss: 3.4145 - val_loss: 3.8126\n",
            "Epoch 6/200\n",
            "5/5 [==============================] - 0s 14ms/step - loss: 3.3880 - val_loss: 3.7939\n",
            "Epoch 7/200\n",
            "5/5 [==============================] - 0s 13ms/step - loss: 3.4001 - val_loss: 4.0216\n",
            "Epoch 8/200\n",
            "5/5 [==============================] - 0s 11ms/step - loss: 3.3805 - val_loss: 3.8017\n",
            "Epoch 9/200\n",
            "5/5 [==============================] - 0s 13ms/step - loss: 3.4955 - val_loss: 3.7167\n",
            "Epoch 10/200\n",
            "5/5 [==============================] - 0s 14ms/step - loss: 3.4045 - val_loss: 3.9281\n",
            "Epoch 11/200\n",
            "5/5 [==============================] - 0s 16ms/step - loss: 3.3849 - val_loss: 3.8287\n",
            "Epoch 12/200\n",
            "5/5 [==============================] - 0s 14ms/step - loss: 3.3635 - val_loss: 3.7913\n",
            "Epoch 13/200\n",
            "5/5 [==============================] - 0s 14ms/step - loss: 3.4219 - val_loss: 3.7675\n",
            "Epoch 14/200\n",
            "5/5 [==============================] - 0s 10ms/step - loss: 3.3678 - val_loss: 4.0297\n",
            "Epoch 15/200\n",
            "5/5 [==============================] - 0s 15ms/step - loss: 3.3815 - val_loss: 3.7702\n",
            "Epoch 16/200\n",
            "5/5 [==============================] - 0s 11ms/step - loss: 3.4013 - val_loss: 3.7743\n",
            "Epoch 17/200\n",
            "5/5 [==============================] - 0s 11ms/step - loss: 3.3555 - val_loss: 3.8666\n",
            "Epoch 18/200\n",
            "5/5 [==============================] - 0s 14ms/step - loss: 3.3627 - val_loss: 3.7950\n",
            "Epoch 19/200\n",
            "5/5 [==============================] - 0s 9ms/step - loss: 3.3611 - val_loss: 3.7720\n",
            "Epoch 20/200\n",
            "5/5 [==============================] - 0s 14ms/step - loss: 3.3565 - val_loss: 3.7771\n",
            "Epoch 21/200\n",
            "5/5 [==============================] - 0s 9ms/step - loss: 3.3803 - val_loss: 4.0256\n",
            "Epoch 22/200\n",
            "5/5 [==============================] - 0s 10ms/step - loss: 3.3584 - val_loss: 3.7685\n",
            "Epoch 23/200\n",
            "5/5 [==============================] - 0s 15ms/step - loss: 3.4068 - val_loss: 3.7711\n",
            "Epoch 24/200\n",
            "5/5 [==============================] - 0s 14ms/step - loss: 3.3886 - val_loss: 3.9994\n",
            "Epoch 25/200\n",
            "5/5 [==============================] - 0s 15ms/step - loss: 3.3649 - val_loss: 3.7455\n",
            "Epoch 26/200\n",
            "5/5 [==============================] - 0s 14ms/step - loss: 3.3641 - val_loss: 3.8082\n",
            "Epoch 27/200\n",
            "5/5 [==============================] - 0s 11ms/step - loss: 3.4277 - val_loss: 3.9628\n",
            "Epoch 28/200\n",
            "5/5 [==============================] - 0s 11ms/step - loss: 3.4142 - val_loss: 3.7093\n",
            "Epoch 29/200\n",
            "5/5 [==============================] - 0s 10ms/step - loss: 3.3575 - val_loss: 4.1075\n",
            "Epoch 30/200\n",
            "5/5 [==============================] - 0s 9ms/step - loss: 3.3889 - val_loss: 3.7644\n",
            "Epoch 31/200\n",
            "5/5 [==============================] - 0s 9ms/step - loss: 3.3474 - val_loss: 3.7519\n",
            "Epoch 32/200\n",
            "5/5 [==============================] - 0s 9ms/step - loss: 3.3481 - val_loss: 3.8470\n",
            "Epoch 33/200\n",
            "5/5 [==============================] - 0s 13ms/step - loss: 3.3366 - val_loss: 3.7860\n",
            "Epoch 34/200\n",
            "5/5 [==============================] - 0s 10ms/step - loss: 3.3478 - val_loss: 3.8612\n",
            "Epoch 35/200\n",
            "5/5 [==============================] - 0s 14ms/step - loss: 3.3318 - val_loss: 3.7215\n",
            "Epoch 36/200\n",
            "5/5 [==============================] - 0s 17ms/step - loss: 3.4353 - val_loss: 3.9866\n",
            "Epoch 37/200\n",
            "5/5 [==============================] - 0s 10ms/step - loss: 3.3434 - val_loss: 3.7239\n",
            "Epoch 38/200\n",
            "5/5 [==============================] - 0s 10ms/step - loss: 3.3666 - val_loss: 3.7437\n",
            "Epoch 39/200\n",
            "5/5 [==============================] - 0s 12ms/step - loss: 3.3130 - val_loss: 3.9367\n",
            "Epoch 40/200\n",
            "5/5 [==============================] - 0s 10ms/step - loss: 3.3611 - val_loss: 3.8005\n",
            "Epoch 41/200\n",
            "5/5 [==============================] - 0s 14ms/step - loss: 3.3933 - val_loss: 3.6895\n",
            "Epoch 42/200\n",
            "5/5 [==============================] - 0s 12ms/step - loss: 3.3734 - val_loss: 4.0627\n",
            "Epoch 43/200\n",
            "5/5 [==============================] - 0s 15ms/step - loss: 3.4165 - val_loss: 3.7256\n",
            "Epoch 44/200\n",
            "5/5 [==============================] - 0s 14ms/step - loss: 3.4942 - val_loss: 3.6699\n",
            "Epoch 45/200\n",
            "5/5 [==============================] - 0s 11ms/step - loss: 3.3880 - val_loss: 4.2413\n",
            "Epoch 46/200\n",
            "5/5 [==============================] - 0s 13ms/step - loss: 3.3861 - val_loss: 3.7208\n",
            "Epoch 47/200\n",
            "5/5 [==============================] - 0s 16ms/step - loss: 3.3717 - val_loss: 3.7198\n",
            "Epoch 48/200\n",
            "5/5 [==============================] - 0s 14ms/step - loss: 3.3256 - val_loss: 3.8984\n",
            "Epoch 49/200\n",
            "5/5 [==============================] - 0s 10ms/step - loss: 3.3892 - val_loss: 3.7847\n",
            "Epoch 50/200\n",
            "5/5 [==============================] - 0s 11ms/step - loss: 3.4545 - val_loss: 3.8401\n",
            "Epoch 51/200\n",
            "5/5 [==============================] - 0s 10ms/step - loss: 3.5444 - val_loss: 3.6760\n",
            "Epoch 52/200\n",
            "5/5 [==============================] - 0s 15ms/step - loss: 3.3371 - val_loss: 4.1577\n",
            "Epoch 53/200\n",
            "5/5 [==============================] - 0s 10ms/step - loss: 3.4790 - val_loss: 3.7148\n",
            "Epoch 54/200\n",
            "5/5 [==============================] - 0s 10ms/step - loss: 3.4265 - val_loss: 3.7280\n",
            "Epoch 55/200\n",
            "5/5 [==============================] - 0s 10ms/step - loss: 3.3493 - val_loss: 4.0827\n",
            "Epoch 56/200\n",
            "5/5 [==============================] - 0s 16ms/step - loss: 3.3581 - val_loss: 3.7319\n",
            "Epoch 57/200\n",
            "5/5 [==============================] - 0s 18ms/step - loss: 3.3350 - val_loss: 3.7413\n",
            "Epoch 58/200\n",
            "5/5 [==============================] - 0s 15ms/step - loss: 3.3205 - val_loss: 3.8104\n",
            "Epoch 59/200\n",
            "5/5 [==============================] - 0s 12ms/step - loss: 3.3094 - val_loss: 3.7447\n",
            "Epoch 60/200\n",
            "5/5 [==============================] - 0s 12ms/step - loss: 3.3338 - val_loss: 3.7813\n",
            "Epoch 61/200\n",
            "5/5 [==============================] - 0s 10ms/step - loss: 3.3141 - val_loss: 3.7920\n",
            "Epoch 62/200\n",
            "5/5 [==============================] - 0s 16ms/step - loss: 3.3212 - val_loss: 3.7762\n",
            "Epoch 63/200\n",
            "5/5 [==============================] - 0s 14ms/step - loss: 3.3154 - val_loss: 3.8698\n",
            "Epoch 64/200\n",
            "5/5 [==============================] - 0s 15ms/step - loss: 3.3684 - val_loss: 3.8301\n",
            "Epoch 65/200\n",
            "5/5 [==============================] - 0s 12ms/step - loss: 3.3173 - val_loss: 3.7227\n",
            "Epoch 66/200\n",
            "5/5 [==============================] - 0s 23ms/step - loss: 3.3198 - val_loss: 3.8971\n",
            "Epoch 67/200\n",
            "5/5 [==============================] - 0s 25ms/step - loss: 3.3269 - val_loss: 3.7323\n",
            "Epoch 68/200\n",
            "5/5 [==============================] - 0s 26ms/step - loss: 3.3232 - val_loss: 3.7320\n",
            "Epoch 69/200\n",
            "5/5 [==============================] - 0s 21ms/step - loss: 3.3719 - val_loss: 3.8019\n",
            "Epoch 70/200\n",
            "5/5 [==============================] - 0s 11ms/step - loss: 3.3204 - val_loss: 3.7069\n",
            "Epoch 71/200\n",
            "5/5 [==============================] - 0s 13ms/step - loss: 3.3384 - val_loss: 3.8757\n",
            "Epoch 72/200\n",
            "5/5 [==============================] - 0s 51ms/step - loss: 3.3122 - val_loss: 3.7545\n",
            "Epoch 73/200\n",
            "5/5 [==============================] - 0s 17ms/step - loss: 3.3336 - val_loss: 3.6971\n",
            "Epoch 74/200\n",
            "5/5 [==============================] - 0s 11ms/step - loss: 3.3274 - val_loss: 3.9911\n",
            "Epoch 75/200\n",
            "5/5 [==============================] - 0s 11ms/step - loss: 3.3704 - val_loss: 3.7608\n",
            "Epoch 76/200\n",
            "5/5 [==============================] - 0s 17ms/step - loss: 3.3250 - val_loss: 3.7580\n",
            "Epoch 77/200\n",
            "5/5 [==============================] - 0s 20ms/step - loss: 3.3331 - val_loss: 3.8908\n",
            "Epoch 78/200\n",
            "5/5 [==============================] - 0s 17ms/step - loss: 3.3065 - val_loss: 3.7386\n",
            "Epoch 79/200\n",
            "5/5 [==============================] - 0s 15ms/step - loss: 3.3487 - val_loss: 3.7045\n",
            "Epoch 80/200\n",
            "5/5 [==============================] - 0s 19ms/step - loss: 3.3104 - val_loss: 3.9309\n",
            "Epoch 81/200\n",
            "5/5 [==============================] - 0s 26ms/step - loss: 3.3830 - val_loss: 3.6934\n",
            "Epoch 82/200\n",
            "5/5 [==============================] - 0s 19ms/step - loss: 3.3079 - val_loss: 3.7992\n",
            "Epoch 83/200\n",
            "5/5 [==============================] - 0s 18ms/step - loss: 3.3120 - val_loss: 3.7929\n",
            "Epoch 84/200\n",
            "5/5 [==============================] - 0s 19ms/step - loss: 3.3037 - val_loss: 3.7947\n",
            "Epoch 85/200\n",
            "5/5 [==============================] - 0s 17ms/step - loss: 3.3396 - val_loss: 3.6771\n",
            "Epoch 86/200\n",
            "5/5 [==============================] - 0s 18ms/step - loss: 3.3311 - val_loss: 3.9338\n",
            "Epoch 87/200\n",
            "5/5 [==============================] - 0s 20ms/step - loss: 3.3330 - val_loss: 3.7636\n",
            "Epoch 88/200\n",
            "5/5 [==============================] - 0s 18ms/step - loss: 3.3185 - val_loss: 3.8036\n",
            "Epoch 89/200\n",
            "5/5 [==============================] - 0s 19ms/step - loss: 3.3578 - val_loss: 3.8223\n",
            "Epoch 90/200\n",
            "5/5 [==============================] - 0s 36ms/step - loss: 3.3360 - val_loss: 3.6662\n",
            "Epoch 91/200\n",
            "5/5 [==============================] - 0s 19ms/step - loss: 3.3290 - val_loss: 3.9157\n",
            "Epoch 92/200\n",
            "5/5 [==============================] - 0s 20ms/step - loss: 3.3186 - val_loss: 3.7459\n",
            "Epoch 93/200\n",
            "5/5 [==============================] - 0s 17ms/step - loss: 3.3156 - val_loss: 3.7179\n",
            "Epoch 94/200\n",
            "5/5 [==============================] - 0s 17ms/step - loss: 3.3013 - val_loss: 3.7555\n",
            "Epoch 95/200\n",
            "5/5 [==============================] - 0s 18ms/step - loss: 3.3054 - val_loss: 3.7723\n",
            "Epoch 96/200\n",
            "5/5 [==============================] - 0s 24ms/step - loss: 3.3218 - val_loss: 3.8916\n",
            "Epoch 97/200\n",
            "5/5 [==============================] - 0s 24ms/step - loss: 3.2855 - val_loss: 3.6833\n",
            "Epoch 98/200\n",
            "5/5 [==============================] - 0s 17ms/step - loss: 3.3580 - val_loss: 3.8064\n",
            "Epoch 99/200\n",
            "5/5 [==============================] - 0s 19ms/step - loss: 3.3592 - val_loss: 3.7218\n",
            "Epoch 100/200\n",
            "5/5 [==============================] - 0s 19ms/step - loss: 3.3500 - val_loss: 3.6971\n",
            "Epoch 101/200\n",
            "5/5 [==============================] - 0s 23ms/step - loss: 3.3439 - val_loss: 3.9352\n",
            "Epoch 102/200\n",
            "5/5 [==============================] - 0s 23ms/step - loss: 3.3192 - val_loss: 3.7220\n",
            "Epoch 103/200\n",
            "5/5 [==============================] - 0s 22ms/step - loss: 3.3130 - val_loss: 3.7520\n",
            "Epoch 104/200\n",
            "5/5 [==============================] - 0s 22ms/step - loss: 3.2955 - val_loss: 3.7785\n",
            "Epoch 105/200\n",
            "5/5 [==============================] - 0s 19ms/step - loss: 3.2977 - val_loss: 3.7928\n",
            "Epoch 106/200\n",
            "5/5 [==============================] - 0s 25ms/step - loss: 3.2917 - val_loss: 3.7761\n",
            "Epoch 107/200\n",
            "5/5 [==============================] - 0s 23ms/step - loss: 3.3052 - val_loss: 3.7961\n",
            "Epoch 108/200\n",
            "5/5 [==============================] - 0s 25ms/step - loss: 3.3037 - val_loss: 3.7799\n",
            "Epoch 109/200\n",
            "5/5 [==============================] - 0s 18ms/step - loss: 3.3053 - val_loss: 3.6812\n",
            "Epoch 110/200\n",
            "5/5 [==============================] - 0s 20ms/step - loss: 3.3155 - val_loss: 3.7437\n",
            "Epoch 111/200\n",
            "5/5 [==============================] - 0s 16ms/step - loss: 3.2981 - val_loss: 3.7952\n",
            "Epoch 112/200\n",
            "5/5 [==============================] - 0s 22ms/step - loss: 3.3060 - val_loss: 3.7340\n",
            "Epoch 113/200\n",
            "5/5 [==============================] - 0s 36ms/step - loss: 3.2968 - val_loss: 3.7057\n",
            "Epoch 114/200\n",
            "5/5 [==============================] - 0s 30ms/step - loss: 3.2953 - val_loss: 3.7721\n",
            "Epoch 115/200\n",
            "5/5 [==============================] - 0s 52ms/step - loss: 3.3014 - val_loss: 3.7799\n",
            "Epoch 116/200\n",
            "5/5 [==============================] - 0s 55ms/step - loss: 3.2819 - val_loss: 3.7132\n",
            "Epoch 117/200\n",
            "5/5 [==============================] - 0s 36ms/step - loss: 3.3073 - val_loss: 3.7518\n",
            "Epoch 118/200\n",
            "5/5 [==============================] - 0s 34ms/step - loss: 3.2855 - val_loss: 3.7289\n",
            "Epoch 119/200\n",
            "5/5 [==============================] - 0s 42ms/step - loss: 3.2835 - val_loss: 3.8547\n",
            "Epoch 120/200\n",
            "5/5 [==============================] - 0s 42ms/step - loss: 3.3095 - val_loss: 3.6792\n",
            "Epoch 121/200\n",
            "5/5 [==============================] - 0s 29ms/step - loss: 3.3367 - val_loss: 3.7332\n",
            "Epoch 122/200\n",
            "5/5 [==============================] - 0s 39ms/step - loss: 3.3909 - val_loss: 3.7751\n",
            "Epoch 123/200\n",
            "5/5 [==============================] - 0s 31ms/step - loss: 3.3392 - val_loss: 3.6790\n",
            "Epoch 124/200\n",
            "5/5 [==============================] - 0s 26ms/step - loss: 3.3884 - val_loss: 4.0330\n",
            "Epoch 125/200\n",
            "5/5 [==============================] - 0s 33ms/step - loss: 3.3271 - val_loss: 3.6212\n",
            "Epoch 126/200\n",
            "5/5 [==============================] - 0s 33ms/step - loss: 3.3470 - val_loss: 3.9188\n",
            "Epoch 127/200\n",
            "5/5 [==============================] - 0s 39ms/step - loss: 3.3474 - val_loss: 3.7481\n",
            "Epoch 128/200\n",
            "5/5 [==============================] - 0s 34ms/step - loss: 3.2839 - val_loss: 3.6971\n",
            "Epoch 129/200\n",
            "5/5 [==============================] - 0s 27ms/step - loss: 3.2953 - val_loss: 3.7325\n",
            "Epoch 130/200\n",
            "5/5 [==============================] - 0s 34ms/step - loss: 3.2819 - val_loss: 3.8239\n",
            "Epoch 131/200\n",
            "5/5 [==============================] - 0s 39ms/step - loss: 3.2738 - val_loss: 3.6955\n",
            "Epoch 132/200\n",
            "5/5 [==============================] - 0s 39ms/step - loss: 3.2948 - val_loss: 3.8040\n",
            "Epoch 133/200\n",
            "5/5 [==============================] - 0s 41ms/step - loss: 3.2740 - val_loss: 3.7208\n",
            "Epoch 134/200\n",
            "5/5 [==============================] - 0s 40ms/step - loss: 3.2813 - val_loss: 3.7388\n",
            "Epoch 135/200\n",
            "5/5 [==============================] - 0s 39ms/step - loss: 3.2978 - val_loss: 3.7454\n",
            "Epoch 136/200\n",
            "5/5 [==============================] - 0s 56ms/step - loss: 3.2835 - val_loss: 3.7018\n",
            "Epoch 137/200\n",
            "5/5 [==============================] - 0s 41ms/step - loss: 3.3395 - val_loss: 3.7724\n",
            "Epoch 138/200\n",
            "5/5 [==============================] - 0s 24ms/step - loss: 3.2763 - val_loss: 3.7209\n",
            "Epoch 139/200\n",
            "5/5 [==============================] - 0s 19ms/step - loss: 3.3334 - val_loss: 3.7369\n",
            "Epoch 140/200\n",
            "5/5 [==============================] - 0s 22ms/step - loss: 3.3496 - val_loss: 3.7915\n",
            "Epoch 141/200\n",
            "5/5 [==============================] - 0s 24ms/step - loss: 3.3454 - val_loss: 3.6668\n",
            "Epoch 142/200\n",
            "5/5 [==============================] - 0s 23ms/step - loss: 3.3125 - val_loss: 3.8748\n",
            "Epoch 143/200\n",
            "5/5 [==============================] - 0s 20ms/step - loss: 3.3240 - val_loss: 3.6553\n",
            "Epoch 144/200\n",
            "5/5 [==============================] - 0s 21ms/step - loss: 3.3282 - val_loss: 3.8473\n",
            "Epoch 145/200\n",
            "5/5 [==============================] - 0s 20ms/step - loss: 3.2902 - val_loss: 3.6826\n",
            "Epoch 146/200\n",
            "5/5 [==============================] - 0s 20ms/step - loss: 3.3075 - val_loss: 3.8135\n",
            "Epoch 147/200\n",
            "5/5 [==============================] - 0s 18ms/step - loss: 3.2850 - val_loss: 3.7303\n",
            "Epoch 148/200\n",
            "5/5 [==============================] - 0s 20ms/step - loss: 3.3057 - val_loss: 3.7695\n",
            "Epoch 149/200\n",
            "5/5 [==============================] - 0s 20ms/step - loss: 3.2990 - val_loss: 3.7262\n",
            "Epoch 150/200\n",
            "5/5 [==============================] - 0s 18ms/step - loss: 3.3143 - val_loss: 3.8091\n",
            "Epoch 151/200\n",
            "5/5 [==============================] - 0s 21ms/step - loss: 3.2949 - val_loss: 3.6326\n",
            "Epoch 152/200\n",
            "5/5 [==============================] - 0s 18ms/step - loss: 3.3404 - val_loss: 3.8462\n",
            "Epoch 153/200\n",
            "5/5 [==============================] - 0s 16ms/step - loss: 3.2827 - val_loss: 3.6648\n",
            "Epoch 154/200\n",
            "5/5 [==============================] - 0s 20ms/step - loss: 3.3019 - val_loss: 3.7603\n",
            "Epoch 155/200\n",
            "5/5 [==============================] - 0s 15ms/step - loss: 3.3362 - val_loss: 3.7532\n",
            "Epoch 156/200\n",
            "5/5 [==============================] - 0s 29ms/step - loss: 3.3795 - val_loss: 3.7209\n",
            "Epoch 157/200\n",
            "5/5 [==============================] - 0s 23ms/step - loss: 3.5464 - val_loss: 3.6212\n",
            "Epoch 158/200\n",
            "5/5 [==============================] - 0s 25ms/step - loss: 3.4083 - val_loss: 4.0009\n",
            "Epoch 159/200\n",
            "5/5 [==============================] - 0s 24ms/step - loss: 3.2888 - val_loss: 3.6405\n",
            "Epoch 160/200\n",
            "5/5 [==============================] - 0s 17ms/step - loss: 3.3130 - val_loss: 3.7249\n",
            "Epoch 161/200\n",
            "5/5 [==============================] - 0s 20ms/step - loss: 3.3287 - val_loss: 3.9461\n",
            "Epoch 162/200\n",
            "5/5 [==============================] - 0s 18ms/step - loss: 3.2454 - val_loss: 3.6407\n",
            "Epoch 163/200\n",
            "5/5 [==============================] - 0s 18ms/step - loss: 3.3215 - val_loss: 3.7018\n",
            "Epoch 164/200\n",
            "5/5 [==============================] - 0s 22ms/step - loss: 3.3016 - val_loss: 3.8129\n",
            "Epoch 165/200\n",
            "5/5 [==============================] - 0s 18ms/step - loss: 3.2531 - val_loss: 3.6109\n",
            "Epoch 166/200\n",
            "5/5 [==============================] - 0s 17ms/step - loss: 3.3093 - val_loss: 3.8741\n",
            "Epoch 167/200\n",
            "5/5 [==============================] - 0s 19ms/step - loss: 3.3153 - val_loss: 3.7079\n",
            "Epoch 168/200\n",
            "5/5 [==============================] - 0s 18ms/step - loss: 3.2816 - val_loss: 3.7104\n",
            "Epoch 169/200\n",
            "5/5 [==============================] - 0s 24ms/step - loss: 3.3139 - val_loss: 3.7496\n",
            "Epoch 170/200\n",
            "5/5 [==============================] - 0s 18ms/step - loss: 3.2641 - val_loss: 3.7220\n",
            "Epoch 171/200\n",
            "5/5 [==============================] - 0s 16ms/step - loss: 3.2822 - val_loss: 3.6711\n",
            "Epoch 172/200\n",
            "5/5 [==============================] - 0s 22ms/step - loss: 3.3060 - val_loss: 3.7268\n",
            "Epoch 173/200\n",
            "5/5 [==============================] - 0s 20ms/step - loss: 3.2972 - val_loss: 3.7152\n",
            "Epoch 174/200\n",
            "5/5 [==============================] - 0s 21ms/step - loss: 3.2739 - val_loss: 3.7428\n",
            "Epoch 175/200\n",
            "5/5 [==============================] - 0s 20ms/step - loss: 3.2606 - val_loss: 3.7606\n",
            "Epoch 176/200\n",
            "5/5 [==============================] - 0s 22ms/step - loss: 3.2860 - val_loss: 3.6430\n",
            "Epoch 177/200\n",
            "5/5 [==============================] - 0s 21ms/step - loss: 3.3338 - val_loss: 3.8116\n",
            "Epoch 178/200\n",
            "5/5 [==============================] - 0s 21ms/step - loss: 3.3355 - val_loss: 3.6426\n",
            "Epoch 179/200\n",
            "5/5 [==============================] - 0s 19ms/step - loss: 3.2788 - val_loss: 3.9151\n",
            "Epoch 180/200\n",
            "5/5 [==============================] - 0s 25ms/step - loss: 3.3016 - val_loss: 3.6465\n",
            "Epoch 181/200\n",
            "5/5 [==============================] - 0s 20ms/step - loss: 3.2886 - val_loss: 3.7450\n",
            "Epoch 182/200\n",
            "5/5 [==============================] - 0s 22ms/step - loss: 3.2605 - val_loss: 3.6707\n",
            "Epoch 183/200\n",
            "5/5 [==============================] - 0s 27ms/step - loss: 3.2913 - val_loss: 3.7455\n",
            "Epoch 184/200\n",
            "5/5 [==============================] - 0s 21ms/step - loss: 3.2607 - val_loss: 3.7202\n",
            "Epoch 185/200\n",
            "5/5 [==============================] - 0s 23ms/step - loss: 3.2647 - val_loss: 3.6971\n",
            "Epoch 186/200\n",
            "5/5 [==============================] - 0s 22ms/step - loss: 3.2668 - val_loss: 3.7339\n",
            "Epoch 187/200\n",
            "5/5 [==============================] - 0s 20ms/step - loss: 3.2794 - val_loss: 3.7091\n",
            "Epoch 188/200\n",
            "5/5 [==============================] - 0s 19ms/step - loss: 3.2636 - val_loss: 3.7473\n",
            "Epoch 189/200\n",
            "5/5 [==============================] - 0s 18ms/step - loss: 3.2873 - val_loss: 3.6235\n",
            "Epoch 190/200\n",
            "5/5 [==============================] - 0s 18ms/step - loss: 3.2629 - val_loss: 3.8192\n",
            "Epoch 191/200\n",
            "5/5 [==============================] - 0s 16ms/step - loss: 3.3281 - val_loss: 3.7143\n",
            "Epoch 192/200\n",
            "5/5 [==============================] - 0s 22ms/step - loss: 3.3133 - val_loss: 3.6145\n",
            "Epoch 193/200\n",
            "5/5 [==============================] - 0s 15ms/step - loss: 3.3124 - val_loss: 3.9904\n",
            "Epoch 194/200\n",
            "5/5 [==============================] - 0s 23ms/step - loss: 3.3446 - val_loss: 3.6322\n",
            "Epoch 195/200\n",
            "5/5 [==============================] - 0s 16ms/step - loss: 3.3455 - val_loss: 3.6624\n",
            "Epoch 196/200\n",
            "5/5 [==============================] - 0s 18ms/step - loss: 3.2934 - val_loss: 3.9277\n",
            "Epoch 197/200\n",
            "5/5 [==============================] - 0s 21ms/step - loss: 3.2838 - val_loss: 3.6296\n",
            "Epoch 198/200\n",
            "5/5 [==============================] - 0s 19ms/step - loss: 3.2772 - val_loss: 3.7234\n",
            "Epoch 199/200\n",
            "5/5 [==============================] - 0s 26ms/step - loss: 3.2523 - val_loss: 3.7748\n",
            "Epoch 200/200\n",
            "5/5 [==============================] - 0s 22ms/step - loss: 3.2837 - val_loss: 3.6209\n"
          ]
        }
      ],
      "source": [
        "#train the neural network on the train dataset\n",
        "history12 = NN_model.fit(train_features, train_labels, epochs=200, validation_split=0.2)"
      ]
    },
    {
      "cell_type": "code",
      "execution_count": null,
      "metadata": {
        "colab": {
          "base_uri": "https://localhost:8080/",
          "height": 448
        },
        "id": "nEOT1yP1La6e",
        "outputId": "fae3877f-fc61-4a4f-ba19-f45f1f870952"
      },
      "outputs": [
        {
          "output_type": "execute_result",
          "data": {
            "text/plain": [
              "<matplotlib.legend.Legend at 0x7fe636bd7f40>"
            ]
          },
          "metadata": {},
          "execution_count": 121
        },
        {
          "output_type": "display_data",
          "data": {
            "text/plain": [
              "<Figure size 640x480 with 1 Axes>"
            ],
            "image/png": "[encoded data removed]"
          },
          "metadata": {}
        }
      ],
      "source": [
        "#plot the loss and validation loss of the dataset\n",
        "history_df = pd.DataFrame(history.history)\n",
        "plt.plot(history_df['loss'], label='loss')\n",
        "plt.plot(history_df['val_loss'], label='val_loss')\n",
        "\n",
        "plt.legend()"
      ]
    },
    {
      "cell_type": "code",
      "execution_count": null,
      "metadata": {
        "colab": {
          "base_uri": "https://localhost:8080/"
        },
        "id": "Nl6VB1XAMVPQ",
        "outputId": "b3c981dc-d3a7-4d88-d999-e898ff7de1c0"
      },
      "outputs": [
        {
          "output_type": "stream",
          "name": "stdout",
          "text": [
            "1/1 [==============================] - 0s 25ms/step - loss: 3.6969\n"
          ]
        },
        {
          "output_type": "execute_result",
          "data": {
            "text/plain": [
              "3.696934461593628"
            ]
          },
          "metadata": {},
          "execution_count": 122
        }
      ],
      "source": [
        "#evaluate the model\n",
        "NN_model.evaluate(test_features, test_labels, batch_size=128)"
      ]
    },
    {
      "cell_type": "code",
      "execution_count": null,
      "metadata": {
        "colab": {
          "base_uri": "https://localhost:8080/",
          "height": 508
        },
        "id": "CeMlsF0eNSct",
        "outputId": "8a4a6bab-23f4-4abd-a0ce-a01e57552d77"
      },
      "outputs": [
        {
          "output_type": "stream",
          "name": "stdout",
          "text": [
            "2/2 [==============================] - 0s 5ms/step\n"
          ]
        },
        {
          "output_type": "execute_result",
          "data": {
            "text/plain": [
              "[<matplotlib.lines.Line2D at 0x7fe636b3a490>]"
            ]
          },
          "metadata": {},
          "execution_count": 123
        },
        {
          "output_type": "display_data",
          "data": {
            "text/plain": [
              "<Figure size 640x480 with 1 Axes>"
            ],
            "image/png": "[encoded data removed]"
          },
          "metadata": {}
        }
      ],
      "source": [
        "y_pred = NN_model.predict(test_features).flatten()\n",
        "\n",
        "a = plt.axes(aspect='equal')\n",
        "plt.scatter(test_labels, y_pred)\n",
        "plt.xlabel('True values')\n",
        "plt.ylabel('Predicted values')\n",
        "plt.title('A plot that shows the true and predicted values')\n",
        "plt.xlim([0, 60])\n",
        "plt.ylim([0, 60])\n",
        "plt.plot([0, 60], [0, 60])"
      ]
    },
    {
      "cell_type": "code",
      "source": [
        "test_results['NN_model'] = NN_model.evaluate(test_features, test_labels, verbose=0)"
      ],
      "metadata": {
        "id": "LqVZ23aam23o"
      },
      "execution_count": null,
      "outputs": []
    },
    {
      "cell_type": "code",
      "source": [
        "test_results"
      ],
      "metadata": {
        "colab": {
          "base_uri": "https://localhost:8080/"
        },
        "id": "VDmhfTihm7k6",
        "outputId": "7bd2a951-6a53-4272-d519-14851a9e4f2a"
      },
      "execution_count": null,
      "outputs": [
        {
          "output_type": "execute_result",
          "data": {
            "text/plain": [
              "{'linear_male_model': 3.751894235610962,\n",
              " 'dnn_weight_model': 5.363422393798828,\n",
              " 'dnn_model': 4.753164768218994,\n",
              " 'dnn_male_model': 4.753164768218994,\n",
              " 'NN_model': 3.696934700012207,\n",
              " 'NN2_model': [4.254603862762451, 4.254603862762451]}"
            ]
          },
          "metadata": {},
          "execution_count": 125
        }
      ]
    },
    {
      "cell_type": "code",
      "execution_count": null,
      "metadata": {
        "colab": {
          "base_uri": "https://localhost:8080/"
        },
        "id": "Kt5R867eNiku",
        "outputId": "a69543f0-413d-42cd-99fb-ecee2056c478"
      },
      "outputs": [
        {
          "output_type": "stream",
          "name": "stdout",
          "text": [
            "Epoch 1/200\n",
            "5/5 [==============================] - 6s 353ms/step - loss: 21.5212 - val_loss: 20.8821\n",
            "Epoch 2/200\n",
            "5/5 [==============================] - 0s 75ms/step - loss: 20.9634 - val_loss: 20.3952\n",
            "Epoch 3/200\n",
            "5/5 [==============================] - 0s 62ms/step - loss: 20.5259 - val_loss: 20.0207\n",
            "Epoch 4/200\n",
            "5/5 [==============================] - 0s 35ms/step - loss: 20.1805 - val_loss: 19.7134\n",
            "Epoch 5/200\n",
            "5/5 [==============================] - 0s 59ms/step - loss: 19.8937 - val_loss: 19.4695\n",
            "Epoch 6/200\n",
            "5/5 [==============================] - 0s 59ms/step - loss: 19.7048 - val_loss: 19.3255\n",
            "Epoch 7/200\n",
            "5/5 [==============================] - 0s 86ms/step - loss: 19.5597 - val_loss: 19.2135\n",
            "Epoch 8/200\n",
            "5/5 [==============================] - 0s 68ms/step - loss: 19.4595 - val_loss: 19.1204\n",
            "Epoch 9/200\n",
            "5/5 [==============================] - 0s 21ms/step - loss: 19.3694 - val_loss: 19.0390\n",
            "Epoch 10/200\n",
            "5/5 [==============================] - 0s 51ms/step - loss: 19.2993 - val_loss: 18.9792\n",
            "Epoch 11/200\n",
            "5/5 [==============================] - 0s 50ms/step - loss: 19.2424 - val_loss: 18.9330\n",
            "Epoch 12/200\n",
            "5/5 [==============================] - 0s 34ms/step - loss: 19.1991 - val_loss: 18.8931\n",
            "Epoch 13/200\n",
            "5/5 [==============================] - 0s 35ms/step - loss: 19.1620 - val_loss: 18.8603\n",
            "Epoch 14/200\n",
            "5/5 [==============================] - 0s 23ms/step - loss: 19.1325 - val_loss: 18.8336\n",
            "Epoch 15/200\n",
            "5/5 [==============================] - 0s 35ms/step - loss: 19.1068 - val_loss: 18.8104\n",
            "Epoch 16/200\n",
            "5/5 [==============================] - 0s 49ms/step - loss: 19.0849 - val_loss: 18.7898\n",
            "Epoch 17/200\n",
            "5/5 [==============================] - 0s 38ms/step - loss: 19.0655 - val_loss: 18.7704\n",
            "Epoch 18/200\n",
            "5/5 [==============================] - 0s 28ms/step - loss: 19.0472 - val_loss: 18.7526\n",
            "Epoch 19/200\n",
            "5/5 [==============================] - 0s 24ms/step - loss: 19.0297 - val_loss: 18.7353\n",
            "Epoch 20/200\n",
            "5/5 [==============================] - 0s 46ms/step - loss: 19.0124 - val_loss: 18.7171\n",
            "Epoch 21/200\n",
            "5/5 [==============================] - 0s 46ms/step - loss: 18.9935 - val_loss: 18.6966\n",
            "Epoch 22/200\n",
            "5/5 [==============================] - 0s 34ms/step - loss: 18.9714 - val_loss: 18.6716\n",
            "Epoch 23/200\n",
            "5/5 [==============================] - 0s 23ms/step - loss: 18.9439 - val_loss: 18.6392\n",
            "Epoch 24/200\n",
            "5/5 [==============================] - 0s 29ms/step - loss: 18.9074 - val_loss: 18.5957\n",
            "Epoch 25/200\n",
            "5/5 [==============================] - 0s 33ms/step - loss: 18.8586 - val_loss: 18.5353\n",
            "Epoch 26/200\n",
            "5/5 [==============================] - 0s 35ms/step - loss: 18.7898 - val_loss: 18.4513\n",
            "Epoch 27/200\n",
            "5/5 [==============================] - 0s 43ms/step - loss: 18.6941 - val_loss: 18.3327\n",
            "Epoch 28/200\n",
            "5/5 [==============================] - 0s 28ms/step - loss: 18.5575 - val_loss: 18.1616\n",
            "Epoch 29/200\n",
            "5/5 [==============================] - 0s 20ms/step - loss: 18.3549 - val_loss: 17.8978\n",
            "Epoch 30/200\n",
            "5/5 [==============================] - 0s 19ms/step - loss: 18.0287 - val_loss: 17.4996\n",
            "Epoch 31/200\n",
            "5/5 [==============================] - 0s 26ms/step - loss: 17.5447 - val_loss: 16.9090\n",
            "Epoch 32/200\n",
            "5/5 [==============================] - 0s 21ms/step - loss: 16.8444 - val_loss: 16.0778\n",
            "Epoch 33/200\n",
            "5/5 [==============================] - 0s 29ms/step - loss: 15.8762 - val_loss: 14.9429\n",
            "Epoch 34/200\n",
            "5/5 [==============================] - 0s 17ms/step - loss: 14.5643 - val_loss: 13.3865\n",
            "Epoch 35/200\n",
            "5/5 [==============================] - 0s 19ms/step - loss: 12.8405 - val_loss: 11.4742\n",
            "Epoch 36/200\n",
            "5/5 [==============================] - 0s 19ms/step - loss: 10.8114 - val_loss: 9.4554\n",
            "Epoch 37/200\n",
            "5/5 [==============================] - 0s 28ms/step - loss: 8.6341 - val_loss: 7.3494\n",
            "Epoch 38/200\n",
            "5/5 [==============================] - 0s 23ms/step - loss: 6.9409 - val_loss: 6.0588\n",
            "Epoch 39/200\n",
            "5/5 [==============================] - 0s 25ms/step - loss: 6.2389 - val_loss: 5.6293\n",
            "Epoch 40/200\n",
            "5/5 [==============================] - 0s 17ms/step - loss: 6.1839 - val_loss: 5.8094\n",
            "Epoch 41/200\n",
            "5/5 [==============================] - 0s 25ms/step - loss: 6.2250 - val_loss: 5.7318\n",
            "Epoch 42/200\n",
            "5/5 [==============================] - 0s 21ms/step - loss: 6.0789 - val_loss: 5.5941\n",
            "Epoch 43/200\n",
            "5/5 [==============================] - 0s 17ms/step - loss: 5.9895 - val_loss: 5.5374\n",
            "Epoch 44/200\n",
            "5/5 [==============================] - 0s 34ms/step - loss: 5.9194 - val_loss: 5.5585\n",
            "Epoch 45/200\n",
            "5/5 [==============================] - 0s 28ms/step - loss: 5.9131 - val_loss: 5.5498\n",
            "Epoch 46/200\n",
            "5/5 [==============================] - 0s 20ms/step - loss: 5.9076 - val_loss: 5.5142\n",
            "Epoch 47/200\n",
            "5/5 [==============================] - 0s 19ms/step - loss: 5.8914 - val_loss: 5.5026\n",
            "Epoch 48/200\n",
            "5/5 [==============================] - 0s 19ms/step - loss: 5.8725 - val_loss: 5.4986\n",
            "Epoch 49/200\n",
            "5/5 [==============================] - 0s 20ms/step - loss: 5.8628 - val_loss: 5.4924\n",
            "Epoch 50/200\n",
            "5/5 [==============================] - 0s 15ms/step - loss: 5.8593 - val_loss: 5.4850\n",
            "Epoch 51/200\n",
            "5/5 [==============================] - 0s 18ms/step - loss: 5.8461 - val_loss: 5.4806\n",
            "Epoch 52/200\n",
            "5/5 [==============================] - 0s 15ms/step - loss: 5.8359 - val_loss: 5.4762\n",
            "Epoch 53/200\n",
            "5/5 [==============================] - 0s 20ms/step - loss: 5.8301 - val_loss: 5.4715\n",
            "Epoch 54/200\n",
            "5/5 [==============================] - 0s 35ms/step - loss: 5.8320 - val_loss: 5.4626\n",
            "Epoch 55/200\n",
            "5/5 [==============================] - 0s 20ms/step - loss: 5.8284 - val_loss: 5.4634\n",
            "Epoch 56/200\n",
            "5/5 [==============================] - 0s 37ms/step - loss: 5.8082 - val_loss: 5.4525\n",
            "Epoch 57/200\n",
            "5/5 [==============================] - 0s 29ms/step - loss: 5.8058 - val_loss: 5.4399\n",
            "Epoch 58/200\n",
            "5/5 [==============================] - 0s 46ms/step - loss: 5.7965 - val_loss: 5.4312\n",
            "Epoch 59/200\n",
            "5/5 [==============================] - 0s 46ms/step - loss: 5.7884 - val_loss: 5.4278\n",
            "Epoch 60/200\n",
            "5/5 [==============================] - 0s 47ms/step - loss: 5.7836 - val_loss: 5.4253\n",
            "Epoch 61/200\n",
            "5/5 [==============================] - 0s 40ms/step - loss: 5.7727 - val_loss: 5.4193\n",
            "Epoch 62/200\n",
            "5/5 [==============================] - 0s 58ms/step - loss: 5.7653 - val_loss: 5.4132\n",
            "Epoch 63/200\n",
            "5/5 [==============================] - 0s 62ms/step - loss: 5.7534 - val_loss: 5.4056\n",
            "Epoch 64/200\n",
            "5/5 [==============================] - 0s 78ms/step - loss: 5.7467 - val_loss: 5.3984\n",
            "Epoch 65/200\n",
            "5/5 [==============================] - 0s 78ms/step - loss: 5.7400 - val_loss: 5.3876\n",
            "Epoch 66/200\n",
            "5/5 [==============================] - 0s 47ms/step - loss: 5.7321 - val_loss: 5.3827\n",
            "Epoch 67/200\n",
            "5/5 [==============================] - 0s 41ms/step - loss: 5.7294 - val_loss: 5.3727\n",
            "Epoch 68/200\n",
            "5/5 [==============================] - 0s 38ms/step - loss: 5.7204 - val_loss: 5.3707\n",
            "Epoch 69/200\n",
            "5/5 [==============================] - 0s 34ms/step - loss: 5.7091 - val_loss: 5.3654\n",
            "Epoch 70/200\n",
            "5/5 [==============================] - 0s 57ms/step - loss: 5.7050 - val_loss: 5.3553\n",
            "Epoch 71/200\n",
            "5/5 [==============================] - 0s 66ms/step - loss: 5.6933 - val_loss: 5.3503\n",
            "Epoch 72/200\n",
            "5/5 [==============================] - 0s 51ms/step - loss: 5.6878 - val_loss: 5.3418\n",
            "Epoch 73/200\n",
            "5/5 [==============================] - 0s 53ms/step - loss: 5.6826 - val_loss: 5.3379\n",
            "Epoch 74/200\n",
            "5/5 [==============================] - 0s 64ms/step - loss: 5.6753 - val_loss: 5.3351\n",
            "Epoch 75/200\n",
            "5/5 [==============================] - 0s 33ms/step - loss: 5.6640 - val_loss: 5.3306\n",
            "Epoch 76/200\n",
            "5/5 [==============================] - 0s 50ms/step - loss: 5.6614 - val_loss: 5.3157\n",
            "Epoch 77/200\n",
            "5/5 [==============================] - 0s 25ms/step - loss: 5.6625 - val_loss: 5.3057\n",
            "Epoch 78/200\n",
            "5/5 [==============================] - 0s 40ms/step - loss: 5.6393 - val_loss: 5.3007\n",
            "Epoch 79/200\n",
            "5/5 [==============================] - 0s 35ms/step - loss: 5.6346 - val_loss: 5.3009\n",
            "Epoch 80/200\n",
            "5/5 [==============================] - 0s 39ms/step - loss: 5.6252 - val_loss: 5.2999\n",
            "Epoch 81/200\n",
            "5/5 [==============================] - 0s 33ms/step - loss: 5.6183 - val_loss: 5.2938\n",
            "Epoch 82/200\n",
            "5/5 [==============================] - 0s 36ms/step - loss: 5.6230 - val_loss: 5.2717\n",
            "Epoch 83/200\n",
            "5/5 [==============================] - 0s 36ms/step - loss: 5.5967 - val_loss: 5.2654\n",
            "Epoch 84/200\n",
            "5/5 [==============================] - 0s 52ms/step - loss: 5.5854 - val_loss: 5.2590\n",
            "Epoch 85/200\n",
            "5/5 [==============================] - 0s 46ms/step - loss: 5.5773 - val_loss: 5.2556\n",
            "Epoch 86/200\n",
            "5/5 [==============================] - 0s 21ms/step - loss: 5.5714 - val_loss: 5.2524\n",
            "Epoch 87/200\n",
            "5/5 [==============================] - 0s 23ms/step - loss: 5.5670 - val_loss: 5.2492\n",
            "Epoch 88/200\n",
            "5/5 [==============================] - 0s 26ms/step - loss: 5.5539 - val_loss: 5.2332\n",
            "Epoch 89/200\n",
            "5/5 [==============================] - 0s 17ms/step - loss: 5.5419 - val_loss: 5.2256\n",
            "Epoch 90/200\n",
            "5/5 [==============================] - 0s 20ms/step - loss: 5.5357 - val_loss: 5.2231\n",
            "Epoch 91/200\n",
            "5/5 [==============================] - 0s 37ms/step - loss: 5.5278 - val_loss: 5.2121\n",
            "Epoch 92/200\n",
            "5/5 [==============================] - 0s 43ms/step - loss: 5.5172 - val_loss: 5.2017\n",
            "Epoch 93/200\n",
            "5/5 [==============================] - 0s 48ms/step - loss: 5.5610 - val_loss: 5.2355\n",
            "Epoch 94/200\n",
            "5/5 [==============================] - 0s 15ms/step - loss: 5.5236 - val_loss: 5.2218\n",
            "Epoch 95/200\n",
            "5/5 [==============================] - 0s 23ms/step - loss: 5.5083 - val_loss: 5.1827\n",
            "Epoch 96/200\n",
            "5/5 [==============================] - 0s 16ms/step - loss: 5.4904 - val_loss: 5.1890\n",
            "Epoch 97/200\n",
            "5/5 [==============================] - 0s 28ms/step - loss: 5.4813 - val_loss: 5.1715\n",
            "Epoch 98/200\n",
            "5/5 [==============================] - 0s 26ms/step - loss: 5.4673 - val_loss: 5.1678\n",
            "Epoch 99/200\n",
            "5/5 [==============================] - 0s 46ms/step - loss: 5.4631 - val_loss: 5.1581\n",
            "Epoch 100/200\n",
            "5/5 [==============================] - 0s 13ms/step - loss: 5.4492 - val_loss: 5.1527\n",
            "Epoch 101/200\n",
            "5/5 [==============================] - 0s 15ms/step - loss: 5.4467 - val_loss: 5.1481\n",
            "Epoch 102/200\n",
            "5/5 [==============================] - 0s 16ms/step - loss: 5.4360 - val_loss: 5.1407\n",
            "Epoch 103/200\n",
            "5/5 [==============================] - 0s 24ms/step - loss: 5.4298 - val_loss: 5.1348\n",
            "Epoch 104/200\n",
            "5/5 [==============================] - 0s 20ms/step - loss: 5.4147 - val_loss: 5.1308\n",
            "Epoch 105/200\n",
            "5/5 [==============================] - 0s 20ms/step - loss: 5.4024 - val_loss: 5.1259\n",
            "Epoch 106/200\n",
            "5/5 [==============================] - 0s 22ms/step - loss: 5.3950 - val_loss: 5.1172\n",
            "Epoch 107/200\n",
            "5/5 [==============================] - 0s 13ms/step - loss: 5.4186 - val_loss: 5.1211\n",
            "Epoch 108/200\n",
            "5/5 [==============================] - 0s 21ms/step - loss: 5.3783 - val_loss: 5.1087\n",
            "Epoch 109/200\n",
            "5/5 [==============================] - 0s 14ms/step - loss: 5.3645 - val_loss: 5.0995\n",
            "Epoch 110/200\n",
            "5/5 [==============================] - 0s 19ms/step - loss: 5.3794 - val_loss: 5.0957\n",
            "Epoch 111/200\n",
            "5/5 [==============================] - 0s 25ms/step - loss: 5.3526 - val_loss: 5.0826\n",
            "Epoch 112/200\n",
            "5/5 [==============================] - 0s 24ms/step - loss: 5.3635 - val_loss: 5.0825\n",
            "Epoch 113/200\n",
            "5/5 [==============================] - 0s 15ms/step - loss: 5.3451 - val_loss: 5.0726\n",
            "Epoch 114/200\n",
            "5/5 [==============================] - 0s 18ms/step - loss: 5.3291 - val_loss: 5.0731\n",
            "Epoch 115/200\n",
            "5/5 [==============================] - 0s 17ms/step - loss: 5.3206 - val_loss: 5.0676\n",
            "Epoch 116/200\n",
            "5/5 [==============================] - 0s 27ms/step - loss: 5.3136 - val_loss: 5.0595\n",
            "Epoch 117/200\n",
            "5/5 [==============================] - 0s 16ms/step - loss: 5.3402 - val_loss: 5.0464\n",
            "Epoch 118/200\n",
            "5/5 [==============================] - 0s 26ms/step - loss: 5.3114 - val_loss: 5.0506\n",
            "Epoch 119/200\n",
            "5/5 [==============================] - 0s 27ms/step - loss: 5.2922 - val_loss: 5.0435\n",
            "Epoch 120/200\n",
            "5/5 [==============================] - 0s 23ms/step - loss: 5.2810 - val_loss: 5.0379\n",
            "Epoch 121/200\n",
            "5/5 [==============================] - 0s 34ms/step - loss: 5.2742 - val_loss: 5.0306\n",
            "Epoch 122/200\n",
            "5/5 [==============================] - 0s 42ms/step - loss: 5.2675 - val_loss: 5.0189\n",
            "Epoch 123/200\n",
            "5/5 [==============================] - 0s 32ms/step - loss: 5.2632 - val_loss: 5.0129\n",
            "Epoch 124/200\n",
            "5/5 [==============================] - 0s 43ms/step - loss: 5.2517 - val_loss: 5.0076\n",
            "Epoch 125/200\n",
            "5/5 [==============================] - 0s 29ms/step - loss: 5.2431 - val_loss: 4.9996\n",
            "Epoch 126/200\n",
            "5/5 [==============================] - 0s 31ms/step - loss: 5.2337 - val_loss: 4.9924\n",
            "Epoch 127/200\n",
            "5/5 [==============================] - 0s 30ms/step - loss: 5.2272 - val_loss: 4.9901\n",
            "Epoch 128/200\n",
            "5/5 [==============================] - 0s 18ms/step - loss: 5.2183 - val_loss: 4.9831\n",
            "Epoch 129/200\n",
            "5/5 [==============================] - 0s 17ms/step - loss: 5.2094 - val_loss: 4.9782\n",
            "Epoch 130/200\n",
            "5/5 [==============================] - 0s 22ms/step - loss: 5.1996 - val_loss: 4.9653\n",
            "Epoch 131/200\n",
            "5/5 [==============================] - 0s 18ms/step - loss: 5.1982 - val_loss: 4.9609\n",
            "Epoch 132/200\n",
            "5/5 [==============================] - 0s 20ms/step - loss: 5.1819 - val_loss: 4.9525\n",
            "Epoch 133/200\n",
            "5/5 [==============================] - 0s 14ms/step - loss: 5.1736 - val_loss: 4.9478\n",
            "Epoch 134/200\n",
            "5/5 [==============================] - 0s 19ms/step - loss: 5.1882 - val_loss: 4.9386\n",
            "Epoch 135/200\n",
            "5/5 [==============================] - 0s 17ms/step - loss: 5.1633 - val_loss: 4.9348\n",
            "Epoch 136/200\n",
            "5/5 [==============================] - 0s 18ms/step - loss: 5.1503 - val_loss: 4.9282\n",
            "Epoch 137/200\n",
            "5/5 [==============================] - 0s 21ms/step - loss: 5.1396 - val_loss: 4.9206\n",
            "Epoch 138/200\n",
            "5/5 [==============================] - 0s 19ms/step - loss: 5.1463 - val_loss: 4.9066\n",
            "Epoch 139/200\n",
            "5/5 [==============================] - 0s 20ms/step - loss: 5.1338 - val_loss: 4.9056\n",
            "Epoch 140/200\n",
            "5/5 [==============================] - 0s 24ms/step - loss: 5.1117 - val_loss: 4.8993\n",
            "Epoch 141/200\n",
            "5/5 [==============================] - 0s 15ms/step - loss: 5.1073 - val_loss: 4.8924\n",
            "Epoch 142/200\n",
            "5/5 [==============================] - 0s 21ms/step - loss: 5.0996 - val_loss: 4.8818\n",
            "Epoch 143/200\n",
            "5/5 [==============================] - 0s 16ms/step - loss: 5.0917 - val_loss: 4.8725\n",
            "Epoch 144/200\n",
            "5/5 [==============================] - 0s 20ms/step - loss: 5.0932 - val_loss: 4.8623\n",
            "Epoch 145/200\n",
            "5/5 [==============================] - 0s 20ms/step - loss: 5.0656 - val_loss: 4.8618\n",
            "Epoch 146/200\n",
            "5/5 [==============================] - 0s 21ms/step - loss: 5.0642 - val_loss: 4.8595\n",
            "Epoch 147/200\n",
            "5/5 [==============================] - 0s 48ms/step - loss: 5.0564 - val_loss: 4.8523\n",
            "Epoch 148/200\n",
            "5/5 [==============================] - 0s 48ms/step - loss: 5.0522 - val_loss: 4.8374\n",
            "Epoch 149/200\n",
            "5/5 [==============================] - 0s 38ms/step - loss: 5.0351 - val_loss: 4.8295\n",
            "Epoch 150/200\n",
            "5/5 [==============================] - 0s 50ms/step - loss: 5.0328 - val_loss: 4.8253\n",
            "Epoch 151/200\n",
            "5/5 [==============================] - 0s 31ms/step - loss: 5.0256 - val_loss: 4.8128\n",
            "Epoch 152/200\n",
            "5/5 [==============================] - 0s 28ms/step - loss: 5.0120 - val_loss: 4.8086\n",
            "Epoch 153/200\n",
            "5/5 [==============================] - 0s 19ms/step - loss: 4.9996 - val_loss: 4.8002\n",
            "Epoch 154/200\n",
            "5/5 [==============================] - 0s 15ms/step - loss: 5.0006 - val_loss: 4.7991\n",
            "Epoch 155/200\n",
            "5/5 [==============================] - 0s 27ms/step - loss: 4.9865 - val_loss: 4.7868\n",
            "Epoch 156/200\n",
            "5/5 [==============================] - 0s 25ms/step - loss: 4.9818 - val_loss: 4.7734\n",
            "Epoch 157/200\n",
            "5/5 [==============================] - 0s 19ms/step - loss: 4.9679 - val_loss: 4.7649\n",
            "Epoch 158/200\n",
            "5/5 [==============================] - 0s 23ms/step - loss: 4.9656 - val_loss: 4.7565\n",
            "Epoch 159/200\n",
            "5/5 [==============================] - 0s 29ms/step - loss: 4.9629 - val_loss: 4.7613\n",
            "Epoch 160/200\n",
            "5/5 [==============================] - 0s 22ms/step - loss: 4.9554 - val_loss: 4.7493\n",
            "Epoch 161/200\n",
            "5/5 [==============================] - 0s 36ms/step - loss: 4.9426 - val_loss: 4.7411\n",
            "Epoch 162/200\n",
            "5/5 [==============================] - 0s 36ms/step - loss: 4.9275 - val_loss: 4.7306\n",
            "Epoch 163/200\n",
            "5/5 [==============================] - 0s 39ms/step - loss: 4.9222 - val_loss: 4.7204\n",
            "Epoch 164/200\n",
            "5/5 [==============================] - 0s 22ms/step - loss: 4.9122 - val_loss: 4.7082\n",
            "Epoch 165/200\n",
            "5/5 [==============================] - 0s 20ms/step - loss: 4.9245 - val_loss: 4.6973\n",
            "Epoch 166/200\n",
            "5/5 [==============================] - 0s 22ms/step - loss: 4.8940 - val_loss: 4.6946\n",
            "Epoch 167/200\n",
            "5/5 [==============================] - 0s 36ms/step - loss: 4.9308 - val_loss: 4.7020\n",
            "Epoch 168/200\n",
            "5/5 [==============================] - 0s 25ms/step - loss: 4.8841 - val_loss: 4.6826\n",
            "Epoch 169/200\n",
            "5/5 [==============================] - 0s 15ms/step - loss: 4.8742 - val_loss: 4.6669\n",
            "Epoch 170/200\n",
            "5/5 [==============================] - 0s 23ms/step - loss: 4.8680 - val_loss: 4.6608\n",
            "Epoch 171/200\n",
            "5/5 [==============================] - 0s 45ms/step - loss: 4.8625 - val_loss: 4.6421\n",
            "Epoch 172/200\n",
            "5/5 [==============================] - 0s 33ms/step - loss: 4.8408 - val_loss: 4.6370\n",
            "Epoch 173/200\n",
            "5/5 [==============================] - 0s 37ms/step - loss: 4.8189 - val_loss: 4.6265\n",
            "Epoch 174/200\n",
            "5/5 [==============================] - 0s 30ms/step - loss: 4.8083 - val_loss: 4.6097\n",
            "Epoch 175/200\n",
            "5/5 [==============================] - 0s 34ms/step - loss: 4.7935 - val_loss: 4.5920\n",
            "Epoch 176/200\n",
            "5/5 [==============================] - 0s 32ms/step - loss: 4.7893 - val_loss: 4.5782\n",
            "Epoch 177/200\n",
            "5/5 [==============================] - 0s 95ms/step - loss: 4.7668 - val_loss: 4.5674\n",
            "Epoch 178/200\n",
            "5/5 [==============================] - 0s 85ms/step - loss: 4.7603 - val_loss: 4.5571\n",
            "Epoch 179/200\n",
            "5/5 [==============================] - 0s 81ms/step - loss: 4.7603 - val_loss: 4.5461\n",
            "Epoch 180/200\n",
            "5/5 [==============================] - 0s 80ms/step - loss: 4.7347 - val_loss: 4.5442\n",
            "Epoch 181/200\n",
            "5/5 [==============================] - 0s 79ms/step - loss: 4.7594 - val_loss: 4.5355\n",
            "Epoch 182/200\n",
            "5/5 [==============================] - 0s 44ms/step - loss: 4.7426 - val_loss: 4.5108\n",
            "Epoch 183/200\n",
            "5/5 [==============================] - 0s 33ms/step - loss: 4.7019 - val_loss: 4.4964\n",
            "Epoch 184/200\n",
            "5/5 [==============================] - 0s 59ms/step - loss: 4.7004 - val_loss: 4.4909\n",
            "Epoch 185/200\n",
            "5/5 [==============================] - 0s 42ms/step - loss: 4.6821 - val_loss: 4.4859\n",
            "Epoch 186/200\n",
            "5/5 [==============================] - 0s 27ms/step - loss: 4.6675 - val_loss: 4.4716\n",
            "Epoch 187/200\n",
            "5/5 [==============================] - 0s 31ms/step - loss: 4.6598 - val_loss: 4.4558\n",
            "Epoch 188/200\n",
            "5/5 [==============================] - 0s 23ms/step - loss: 4.6483 - val_loss: 4.4452\n",
            "Epoch 189/200\n",
            "5/5 [==============================] - 0s 40ms/step - loss: 4.6495 - val_loss: 4.4338\n",
            "Epoch 190/200\n",
            "5/5 [==============================] - 0s 33ms/step - loss: 4.6348 - val_loss: 4.4348\n",
            "Epoch 191/200\n",
            "5/5 [==============================] - 0s 30ms/step - loss: 4.6215 - val_loss: 4.4248\n",
            "Epoch 192/200\n",
            "5/5 [==============================] - 0s 24ms/step - loss: 4.6000 - val_loss: 4.4036\n",
            "Epoch 193/200\n",
            "5/5 [==============================] - 0s 28ms/step - loss: 4.5927 - val_loss: 4.3920\n",
            "Epoch 194/200\n",
            "5/5 [==============================] - 0s 31ms/step - loss: 4.6126 - val_loss: 4.3901\n",
            "Epoch 195/200\n",
            "5/5 [==============================] - 0s 30ms/step - loss: 4.5709 - val_loss: 4.3734\n",
            "Epoch 196/200\n",
            "5/5 [==============================] - 0s 19ms/step - loss: 4.5605 - val_loss: 4.3629\n",
            "Epoch 197/200\n",
            "5/5 [==============================] - 0s 22ms/step - loss: 4.5461 - val_loss: 4.3461\n",
            "Epoch 198/200\n",
            "5/5 [==============================] - 0s 17ms/step - loss: 4.5321 - val_loss: 4.3321\n",
            "Epoch 199/200\n",
            "5/5 [==============================] - 0s 18ms/step - loss: 4.5614 - val_loss: 4.3519\n",
            "Epoch 200/200\n",
            "5/5 [==============================] - 0s 21ms/step - loss: 4.5219 - val_loss: 4.3189\n"
          ]
        }
      ],
      "source": [
        "#Improving the Model by Adding More Hidden Layers\n",
        "#built the neural network architecture\n",
        "\n",
        "NN2_model = Sequential()\n",
        "NN2_model.add(Dense(13, input_dim=13, activation='relu'))\n",
        "NN2_model.add(Dense(9, activation='relu'))\n",
        "NN2_model.add(Dense(5, activation='relu'))\n",
        "NN2_model.add(Dense(1, activation='linear'))\n",
        "\n",
        "NN2_model.compile(loss='mae', optimizer='adam')\n",
        "\n",
        "#train the neural network on the train dataset\n",
        "history = NN2_model.fit(train_features, train_labels, epochs=200, validation_split=0.2)"
      ]
    },
    {
      "cell_type": "code",
      "execution_count": null,
      "metadata": {
        "colab": {
          "base_uri": "https://localhost:8080/",
          "height": 448
        },
        "id": "KmuWBm9iOeVL",
        "outputId": "c63792e5-aac8-4872-91fa-c66742c1afb9"
      },
      "outputs": [
        {
          "output_type": "execute_result",
          "data": {
            "text/plain": [
              "<matplotlib.legend.Legend at 0x7fe636a9e4f0>"
            ]
          },
          "metadata": {},
          "execution_count": 127
        },
        {
          "output_type": "display_data",
          "data": {
            "text/plain": [
              "<Figure size 640x480 with 1 Axes>"
            ],
            "image/png": "[encoded data removed]"
          },
          "metadata": {}
        }
      ],
      "source": [
        "#plot the loss and validation loss of the dataset\n",
        "history_df = pd.DataFrame(history.history)\n",
        "plt.plot(history_df['loss'], label='loss')\n",
        "plt.plot(history_df['val_loss'], label='val_loss')\n",
        "\n",
        "plt.legend()"
      ]
    },
    {
      "cell_type": "code",
      "execution_count": null,
      "metadata": {
        "colab": {
          "base_uri": "https://localhost:8080/"
        },
        "id": "xMGV7DF-OrmL",
        "outputId": "0acfdd7a-2c61-4747-bb3c-421edf1a5d14"
      },
      "outputs": [
        {
          "output_type": "stream",
          "name": "stdout",
          "text": [
            "1/1 [==============================] - 0s 234ms/step - loss: 4.8278\n"
          ]
        },
        {
          "output_type": "execute_result",
          "data": {
            "text/plain": [
              "4.827812671661377"
            ]
          },
          "metadata": {},
          "execution_count": 128
        }
      ],
      "source": [
        " #evaluate the model\n",
        "NN2_model.evaluate(test_features, test_labels, batch_size=128)"
      ]
    },
    {
      "cell_type": "code",
      "execution_count": null,
      "metadata": {
        "colab": {
          "base_uri": "https://localhost:8080/",
          "height": 508
        },
        "id": "HVTHRCkBPPpE",
        "outputId": "eaf799d0-8f4d-4489-8269-e969af2ede75"
      },
      "outputs": [
        {
          "output_type": "stream",
          "name": "stdout",
          "text": [
            "2/2 [==============================] - 0s 11ms/step\n"
          ]
        },
        {
          "output_type": "execute_result",
          "data": {
            "text/plain": [
              "[<matplotlib.lines.Line2D at 0x7fe6368eba60>]"
            ]
          },
          "metadata": {},
          "execution_count": 129
        },
        {
          "output_type": "display_data",
          "data": {
            "text/plain": [
              "<Figure size 640x480 with 1 Axes>"
            ],
            "image/png": "[encoded data removed]"
          },
          "metadata": {}
        }
      ],
      "source": [
        "y_pred = NN2_model.predict(test_features).flatten()\n",
        "\n",
        "a = plt.axes(aspect='equal')\n",
        "plt.scatter(test_labels, y_pred)\n",
        "plt.xlabel('True values')\n",
        "plt.ylabel('Predicted values')\n",
        "plt.title('A plot that shows the true and predicted values')\n",
        "plt.xlim([0, 60])\n",
        "plt.ylim([0, 60])\n",
        "plt.plot([0, 60], [0, 60])"
      ]
    },
    {
      "cell_type": "code",
      "source": [
        "test_results['NN2_model'] = NN2_model.evaluate(test_features, test_labels, verbose=0)"
      ],
      "metadata": {
        "id": "3yz7foJBnuIV"
      },
      "execution_count": null,
      "outputs": []
    },
    {
      "cell_type": "markdown",
      "source": [
        "##Performance"
      ],
      "metadata": {
        "id": "tXtnmawapzf4"
      }
    },
    {
      "cell_type": "markdown",
      "source": [
        "Since all models have been trained, we can review their test set performance:"
      ],
      "metadata": {
        "id": "aCxk8V9rqAFW"
      }
    },
    {
      "cell_type": "code",
      "source": [
        "pd.DataFrame(test_results, index=['Mean absolute error [MPG]']).T"
      ],
      "metadata": {
        "colab": {
          "base_uri": "https://localhost:8080/",
          "height": 238
        },
        "id": "LEKJiseypm7x",
        "outputId": "dd4fd269-7d8d-436c-db05-0fd64e1e7a1c"
      },
      "execution_count": null,
      "outputs": [
        {
          "output_type": "execute_result",
          "data": {
            "text/plain": [
              "                   Mean absolute error [MPG]\n",
              "linear_male_model                   3.751894\n",
              "dnn_weight_model                    5.363422\n",
              "dnn_model                           4.753165\n",
              "dnn_male_model                      4.753165\n",
              "NN_model                            3.696935\n",
              "NN2_model                           4.827813"
            ],
            "text/html": [
              "\n",
              "  <div id=\"df-5b94be73-316b-48dd-8805-8c22b2a1718e\">\n",
              "    <div class=\"colab-df-container\">\n",
              "      <div>\n",
              "<style scoped>\n",
              "    .dataframe tbody tr th:only-of-type {\n",
              "        vertical-align: middle;\n",
              "    }\n",
              "\n",
              "    .dataframe tbody tr th {\n",
              "        vertical-align: top;\n",
              "    }\n",
              "\n",
              "    .dataframe thead th {\n",
              "        text-align: right;\n",
              "    }\n",
              "</style>\n",
              "<table border=\"1\" class=\"dataframe\">\n",
              "  <thead>\n",
              "    <tr style=\"text-align: right;\">\n",
              "      <th></th>\n",
              "      <th>Mean absolute error [MPG]</th>\n",
              "    </tr>\n",
              "  </thead>\n",
              "  <tbody>\n",
              "    <tr>\n",
              "      <th>linear_male_model</th>\n",
              "      <td>3.751894</td>\n",
              "    </tr>\n",
              "    <tr>\n",
              "      <th>dnn_weight_model</th>\n",
              "      <td>5.363422</td>\n",
              "    </tr>\n",
              "    <tr>\n",
              "      <th>dnn_model</th>\n",
              "      <td>4.753165</td>\n",
              "    </tr>\n",
              "    <tr>\n",
              "      <th>dnn_male_model</th>\n",
              "      <td>4.753165</td>\n",
              "    </tr>\n",
              "    <tr>\n",
              "      <th>NN_model</th>\n",
              "      <td>3.696935</td>\n",
              "    </tr>\n",
              "    <tr>\n",
              "      <th>NN2_model</th>\n",
              "      <td>4.827813</td>\n",
              "    </tr>\n",
              "  </tbody>\n",
              "</table>\n",
              "</div>\n",
              "      <button class=\"colab-df-convert\" onclick=\"convertToInteractive('df-5b94be73-316b-48dd-8805-8c22b2a1718e')\"\n",
              "              title=\"Convert this dataframe to an interactive table.\"\n",
              "              style=\"display:none;\">\n",
              "        \n",
              "  <svg xmlns=\"http://www.w3.org/2000/svg\" height=\"24px\"viewBox=\"0 0 24 24\"\n",
              "       width=\"24px\">\n",
              "    <path d=\"M0 0h24v24H0V0z\" fill=\"none\"/>\n",
              "    <path d=\"M18.56 5.44l.94 2.06.94-2.06 2.06-.94-2.06-.94-.94-2.06-.94 2.06-2.06.94zm-11 1L8.5 8.5l.94-2.06 2.06-.94-2.06-.94L8.5 2.5l-.94 2.06-2.06.94zm10 10l.94 2.06.94-2.06 2.06-.94-2.06-.94-.94-2.06-.94 2.06-2.06.94z\"/><path d=\"M17.41 7.96l-1.37-1.37c-.4-.4-.92-.59-1.43-.59-.52 0-1.04.2-1.43.59L10.3 9.45l-7.72 7.72c-.78.78-.78 2.05 0 2.83L4 21.41c.39.39.9.59 1.41.59.51 0 1.02-.2 1.41-.59l7.78-7.78 2.81-2.81c.8-.78.8-2.07 0-2.86zM5.41 20L4 18.59l7.72-7.72 1.47 1.35L5.41 20z\"/>\n",
              "  </svg>\n",
              "      </button>\n",
              "      \n",
              "  <style>\n",
              "    .colab-df-container {\n",
              "      display:flex;\n",
              "      flex-wrap:wrap;\n",
              "      gap: 12px;\n",
              "    }\n",
              "\n",
              "    .colab-df-convert {\n",
              "      background-color: #E8F0FE;\n",
              "      border: none;\n",
              "      border-radius: 50%;\n",
              "      cursor: pointer;\n",
              "      display: none;\n",
              "      fill: #1967D2;\n",
              "      height: 32px;\n",
              "      padding: 0 0 0 0;\n",
              "      width: 32px;\n",
              "    }\n",
              "\n",
              "    .colab-df-convert:hover {\n",
              "      background-color: #E2EBFA;\n",
              "      box-shadow: 0px 1px 2px rgba(60, 64, 67, 0.3), 0px 1px 3px 1px rgba(60, 64, 67, 0.15);\n",
              "      fill: #174EA6;\n",
              "    }\n",
              "\n",
              "    [theme=dark] .colab-df-convert {\n",
              "      background-color: #3B4455;\n",
              "      fill: #D2E3FC;\n",
              "    }\n",
              "\n",
              "    [theme=dark] .colab-df-convert:hover {\n",
              "      background-color: #434B5C;\n",
              "      box-shadow: 0px 1px 3px 1px rgba(0, 0, 0, 0.15);\n",
              "      filter: drop-shadow(0px 1px 2px rgba(0, 0, 0, 0.3));\n",
              "      fill: #FFFFFF;\n",
              "    }\n",
              "  </style>\n",
              "\n",
              "      <script>\n",
              "        const buttonEl =\n",
              "          document.querySelector('#df-5b94be73-316b-48dd-8805-8c22b2a1718e button.colab-df-convert');\n",
              "        buttonEl.style.display =\n",
              "          google.colab.kernel.accessAllowed ? 'block' : 'none';\n",
              "\n",
              "        async function convertToInteractive(key) {\n",
              "          const element = document.querySelector('#df-5b94be73-316b-48dd-8805-8c22b2a1718e');\n",
              "          const dataTable =\n",
              "            await google.colab.kernel.invokeFunction('convertToInteractive',\n",
              "                                                     [key], {});\n",
              "          if (!dataTable) return;\n",
              "\n",
              "          const docLinkHtml = 'Like what you see? Visit the ' +\n",
              "            '<a target=\"_blank\" href=https://colab.research.google.com/notebooks/data_table.ipynb>data table notebook</a>'\n",
              "            + ' to learn more about interactive tables.';\n",
              "          element.innerHTML = '';\n",
              "          dataTable['output_type'] = 'display_data';\n",
              "          await google.colab.output.renderOutput(dataTable, element);\n",
              "          const docLink = document.createElement('div');\n",
              "          docLink.innerHTML = docLinkHtml;\n",
              "          element.appendChild(docLink);\n",
              "        }\n",
              "      </script>\n",
              "    </div>\n",
              "  </div>\n",
              "  "
            ]
          },
          "metadata": {},
          "execution_count": 132
        }
      ]
    },
    {
      "cell_type": "markdown",
      "source": [
        "### Make predictions\n",
        "\n",
        "As we can see the most accurate model is the Neural network model. We can now make predictions with the `NN_model` on the test set using Keras `Model.predict` and review the loss:"
      ],
      "metadata": {
        "id": "Tg6ljxfDqs_5"
      }
    },
    {
      "cell_type": "code",
      "source": [
        "test_predictions = NN_model.predict(test_features).flatten()\n",
        "\n",
        "a = plt.axes(aspect='equal')\n",
        "plt.scatter(test_labels, test_predictions)\n",
        "plt.xlabel('True Values [MPG]')\n",
        "plt.ylabel('Predictions [MPG]')\n",
        "lims = [0, 50]\n",
        "plt.xlim(lims)\n",
        "plt.ylim(lims)\n",
        "_ = plt.plot(lims, lims)"
      ],
      "metadata": {
        "colab": {
          "base_uri": "https://localhost:8080/",
          "height": 473
        },
        "id": "QVxzwhQMq_tG",
        "outputId": "54b92a48-e0e2-407b-d863-a30553af5de8"
      },
      "execution_count": null,
      "outputs": [
        {
          "output_type": "stream",
          "name": "stdout",
          "text": [
            "2/2 [==============================] - 0s 6ms/step\n"
          ]
        },
        {
          "output_type": "display_data",
          "data": {
            "text/plain": [
              "<Figure size 640x480 with 1 Axes>"
            ],
            "image/png": "[encoded data removed]"
          },
          "metadata": {}
        }
      ]
    },
    {
      "cell_type": "markdown",
      "source": [
        "It appears that the model predicts reasonably well.\n",
        "\n",
        "Now, check the error distribution:"
      ],
      "metadata": {
        "id": "p8OeL2sCrNSZ"
      }
    },
    {
      "cell_type": "code",
      "source": [
        "error = test_predictions - test_labels\n",
        "plt.hist(error, bins=25)\n",
        "plt.xlabel('Prediction Error [MPG]')\n",
        "_ = plt.ylabel('Count')"
      ],
      "metadata": {
        "colab": {
          "base_uri": "https://localhost:8080/",
          "height": 449
        },
        "id": "7EjpQ6hErMat",
        "outputId": "43a22c20-1ca3-4e04-8ba1-f7b6d5863d4d"
      },
      "execution_count": null,
      "outputs": [
        {
          "output_type": "display_data",
          "data": {
            "text/plain": [
              "<Figure size 640x480 with 1 Axes>"
            ],
            "image/png": "[encoded data removed]"
          },
          "metadata": {}
        }
      ]
    },
    {
      "cell_type": "markdown",
      "source": [
        "##saving the model as tflite file"
      ],
      "metadata": {
        "id": "S-oEjBeckiOQ"
      }
    },
    {
      "cell_type": "code",
      "execution_count": null,
      "metadata": {
        "id": "68EoCNzbYYoZ"
      },
      "outputs": [],
      "source": [
        "# save your model\n",
        "NN2_model.save('NN2_model.h5')"
      ]
    },
    {
      "cell_type": "code",
      "execution_count": null,
      "metadata": {
        "id": "tD5Z1tduZa5o"
      },
      "outputs": [],
      "source": [
        "# load the saved NNmodel\n",
        "NN_loaded_model = tf.keras.models.load_model('NN2_model.h5')\n"
      ]
    },
    {
      "cell_type": "code",
      "execution_count": null,
      "metadata": {
        "colab": {
          "base_uri": "https://localhost:8080/"
        },
        "id": "wRYZOgRJaT8J",
        "outputId": "8fd26cb1-d9b8-4ed4-968f-4c22da5d1c57"
      },
      "outputs": [
        {
          "name": "stderr",
          "output_type": "stream",
          "text": [
            "WARNING:absl:Found untraced functions such as _update_step_xla while saving (showing 1 of 1). These functions will not be directly callable after loading.\n"
          ]
        }
      ],
      "source": [
        "# Convert the model to TensorFlow Lite format\n",
        "converter = tf.lite.TFLiteConverter.from_keras_model(NN_loaded_model)\n",
        "tflite_model = converter.convert()\n",
        "\n",
        "# Save the TensorFlow Lite model\n",
        "with open('NNlite_model.tflite', 'wb') as f:\n",
        "  f.write(tflite_model)"
      ]
    },
    {
      "cell_type": "markdown",
      "source": [
        "##loading and testing the saved tflite model"
      ],
      "metadata": {
        "id": "3umSJR1QrdRJ"
      }
    },
    {
      "cell_type": "code",
      "execution_count": null,
      "metadata": {
        "colab": {
          "base_uri": "https://localhost:8080/"
        },
        "id": "TyV9OIvMSRaH",
        "outputId": "dd3103e9-2002-4c62-c30b-d32ccc0f41eb"
      },
      "outputs": [
        {
          "data": {
            "text/plain": [
              "array([ 1, 13], dtype=int32)"
            ]
          },
          "execution_count": 81,
          "metadata": {},
          "output_type": "execute_result"
        }
      ],
      "source": [
        "import tensorflow as tf\n",
        "import numpy as np\n",
        "\n",
        "# Load the TFLite model\n",
        "interpreter = tf.lite.Interpreter(model_path=\"NNlite_model.tflite\")\n",
        "interpreter.allocate_tensors()\n",
        "\n",
        "# Get input and output tensors\n",
        "input_details = interpreter.get_input_details()\n",
        "output_details = interpreter.get_output_details()\n",
        "input_shape = input_details[0]['shape']\n",
        "input_shape\n",
        "# input_shape\n",
        "\n",
        "# # Prepare input data\n",
        "# input_data = np.array(np.random.random_sample(input_shape), dtype=np.float32)\n",
        "# input_data.shape\n",
        "\n",
        "\n"
      ]
    },
    {
      "cell_type": "code",
      "execution_count": null,
      "metadata": {
        "colab": {
          "base_uri": "https://localhost:8080/"
        },
        "id": "Ka0TL8clcIL0",
        "outputId": "dc5a5993-4cd5-4454-8023-e6a696d90af3"
      },
      "outputs": [
        {
          "data": {
            "text/plain": [
              "13"
            ]
          },
          "execution_count": 79,
          "metadata": {},
          "output_type": "execute_result"
        }
      ],
      "source": [
        "\n",
        "data = [26, 184.75, 72.25, 37.4, 101.8, 86.4, 101.2, 60.1, 37.3, 22.8, 32.4, 29.4, 18.2]\n",
        "\n",
        "# Create a NumPy array with shape (1, 13)\n",
        "arrUUU = np.array([data],dtype=np.float32)\n",
        "arrUUU.size"
      ]
    },
    {
      "cell_type": "code",
      "execution_count": null,
      "metadata": {
        "id": "xl0LNuFRdl3y"
      },
      "outputs": [],
      "source": [
        "# Set the input tensor\n",
        "interpreter.set_tensor(input_details[0]['index'], arrUUU)\n",
        "\n",
        "# Run inference\n",
        "interpreter.invoke()\n",
        "\n",
        "# Get the output tensor\n",
        "output_data = interpreter.get_tensor(output_details[0]['index'])\n"
      ]
    },
    {
      "cell_type": "code",
      "execution_count": null,
      "metadata": {
        "colab": {
          "base_uri": "https://localhost:8080/"
        },
        "id": "LD69pTbNdtSj",
        "outputId": "137a4778-8278-40d7-cd01-a432f8c78468"
      },
      "outputs": [
        {
          "data": {
            "text/plain": [
              "array([[11.786]], dtype=float32)"
            ]
          },
          "execution_count": 83,
          "metadata": {},
          "output_type": "execute_result"
        }
      ],
      "source": [
        "output_data"
      ]
    },
    {
      "cell_type": "markdown",
      "metadata": {
        "id": "vgGQuV-yqYZH"
      },
      "source": [
        "## Conclusion\n",
        "\n",
        "This notebook introduced a few techniques to handle a regression problem. Here are a few more tips that may help:\n",
        "\n",
        "- Mean squared error (MSE) (`tf.keras.losses.MeanSquaredError`) and mean absolute error (MAE) (`tf.keras.losses.MeanAbsoluteError`) are common loss functions used for regression problems. MAE is less sensitive to outliers. Different loss functions are used for classification problems.\n",
        "- Similarly, evaluation metrics used for regression differ from classification.\n",
        "- When numeric input data features have values with different ranges, each feature should be scaled independently to the same range.\n",
        "- Overfitting is a common problem for DNN models, though it wasn't a problem for this tutorial. Visit the [Overfit and underfit](overfit_and_underfit.ipynb) tutorial for more help with this."
      ]
    }
  ],
  "metadata": {
    "colab": {
      "provenance": [],
      "toc_visible": true
    },
    "kernelspec": {
      "display_name": "Python 3",
      "name": "python3"
    },
    "language_info": {
      "codemirror_mode": {
        "name": "ipython",
        "version": 3
      },
      "file_extension": ".py",
      "mimetype": "text/x-python",
      "name": "python",
      "nbconvert_exporter": "python",
      "pygments_lexer": "ipython3",
      "version": "3.9.16"
    }
  },
  "nbformat": 4,
  "nbformat_minor": 0
}